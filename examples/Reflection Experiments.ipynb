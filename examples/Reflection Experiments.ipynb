{
 "cells": [
  {
   "cell_type": "code",
   "execution_count": 1,
   "metadata": {},
   "outputs": [],
   "source": [
    "using Unitful"
   ]
  },
  {
   "cell_type": "code",
   "execution_count": 2,
   "metadata": {},
   "outputs": [
    {
     "data": {
      "text/plain": [
       "20.0 kg m"
      ]
     },
     "execution_count": 2,
     "metadata": {},
     "output_type": "execute_result"
    }
   ],
   "source": [
    "function test5(x,y,d,t)\n",
    "    z = (x + y)*d/t\n",
    "    return z\n",
    "end\n",
    "\n",
    "x = test5(1u\"kg\",1u\"kg\",2u\"m\",1u\"s\")\n",
    "\n",
    "x * 5u\"s\""
   ]
  },
  {
   "cell_type": "code",
   "execution_count": 3,
   "metadata": {},
   "outputs": [
    {
     "data": {
      "text/plain": [
       "Main.test"
      ]
     },
     "execution_count": 3,
     "metadata": {},
     "output_type": "execute_result"
    }
   ],
   "source": [
    "module mod\n",
    "    function y(x)\n",
    "        y = 2*x\n",
    "        return y\n",
    "    end\n",
    "\n",
    "    function z(x,y)\n",
    "        z = x^2+y^3/2\n",
    "        return z\n",
    "    end\n",
    "\n",
    "    function p(t,q)\n",
    "        p = 2*q+t\n",
    "        return p\n",
    "    end\n",
    "\n",
    "    function x(y,z)\n",
    "        x = y^3/2-z^2\n",
    "        return x\n",
    "    end\n",
    "\n",
    "    function q(x,y,z)\n",
    "        q = x^2/1.5+z*4-y^2\n",
    "        return q\n",
    "    end\n",
    "end\n",
    "\n",
    "module test\n",
    "    module mod2\n",
    "        function displacement(v0, t, a)\n",
    "            Δx = v0*t+1/2*a*t^2\n",
    "            return Δx\n",
    "        end\n",
    "\n",
    "        function acceleration(v0, vf, dt)\n",
    "            a = (vf-v0)/dt\n",
    "            return a\n",
    "        end\n",
    "\n",
    "        function zerp(t,a)\n",
    "            p = 2*a+t\n",
    "            return p\n",
    "        end\n",
    "\n",
    "        function ac(z)\n",
    "            ac = z\n",
    "            return ac\n",
    "        end\n",
    "    end\n",
    "end"
   ]
  },
  {
   "cell_type": "code",
   "execution_count": 54,
   "metadata": {},
   "outputs": [
    {
     "name": "stderr",
     "output_type": "stream",
     "text": [
      "WARNING: replacing module constants.\n",
      "WARNING: replacing module physics.\n"
     ]
    },
    {
     "data": {
      "text/plain": [
       "Main.physics"
      ]
     },
     "execution_count": 54,
     "metadata": {},
     "output_type": "execute_result"
    }
   ],
   "source": [
    "module constants\n",
    "    using Unitful\n",
    "    gEarth = 9.80665u\"m/s^2\"\n",
    "    GEarth = (6.67408*10^(-11))u\"N*m^2/kg^2\"\n",
    "    k = (8.9875517887*10^9)u\"N*m^2/C^2\"\n",
    "    c = 299792458u\"m/s\"\n",
    "    e = (1.60217662*10^(-19))u\"C\"\n",
    "    h = (6.62607004*10^(-34))u\"-34\"\n",
    "    eps0 = (8.85418782*10^(-12))u\"m^(-3)*kg^(-1)*s^(4)*A^(2)\"\n",
    "    mu0 = (1.25663706*10^(-6))u\"m*kg*s^-2*A^-2\"\n",
    "    mEarth = (5.972*10^24)u\"kg\"\n",
    "    rEarth = 6378.1u\"km\"\n",
    "    mSun = (1.989*10^30)u\"kg\"\n",
    "    export\n",
    "        gEarth,\n",
    "        GEarth,\n",
    "        k,\n",
    "        c,\n",
    "        e,\n",
    "        h,\n",
    "        eps0,\n",
    "        mu0,\n",
    "        mEarth,\n",
    "        rEarth,\n",
    "        mSun\n",
    "end\n",
    "\n",
    "module physics\n",
    "    module kinematics\n",
    "        module oneD\n",
    "            # Displacement\n",
    "            disp(x0,x) = x-x0\n",
    "            dispConstAcc1(v0,a,t) = v0*t+1/2*a*t^2\n",
    "            dispConstAcc2(v0,v,t) = ((v+v0)/2)*t\n",
    "            # Velocity\n",
    "            avgVel(x0,x,t0,t) = (x-x0)/(t-t0)\n",
    "            velConstAcc1(v0,a,t) = v0+a*t\n",
    "            velConstAcc2(x0,x,v0,a) = sqrt(v0^2+2*a*(x-x0))\n",
    "            # Acceleration\n",
    "            accConst(x0,x,v0,v) = (v^2-v0^2)/(2*(x-x0))\n",
    "        end\n",
    "        module projectile\n",
    "            using ....constants\n",
    "            range(v0,th0) = v0^2/gEarth*sin(2*th0)\n",
    "            maxHeight(v0,th0) = v0^2/(2*gEarth)*sin(th0)^2\n",
    "        end\n",
    "    end\n",
    "end"
   ]
  },
  {
   "cell_type": "code",
   "execution_count": 53,
   "metadata": {},
   "outputs": [
    {
     "data": {
      "text/plain": [
       "0.04215618026705379 m"
      ]
     },
     "execution_count": 53,
     "metadata": {},
     "output_type": "execute_result"
    }
   ],
   "source": [
    "physics.kinematics.projectile.maxHeight(1u\"m/s\",2u\"rad\")"
   ]
  },
  {
   "cell_type": "code",
   "execution_count": 44,
   "metadata": {},
   "outputs": [
    {
     "data": {
      "text/plain": [
       "accConst (generic function with 1 method)"
      ]
     },
     "execution_count": 44,
     "metadata": {},
     "output_type": "execute_result"
    }
   ],
   "source": [
    "# Displacement\n",
    "disp(x0,x) = x-x0\n",
    "dispConstAcc1(v0,a,t) = v0*t+1/2*a*t^2\n",
    "dispConstAcc2(v0,v,t) = ((v+v0)/2)*t\n",
    "# Velocity\n",
    "# velAvg(x0,x,t0,t) = (x-x0)/(t-t0)\n",
    "velConstAcc1(v0,a,t) = v0+a*t\n",
    "velConstAcc2(x0,x,v0,a) = sqrt(v0^2+2*a*(x-x0))\n",
    "# Acceleration\n",
    "accConst(x0,x,v0,v) = (v^2-v0^2)/(2*(x-x0))"
   ]
  },
  {
   "cell_type": "code",
   "execution_count": 45,
   "metadata": {},
   "outputs": [
    {
     "name": "stderr",
     "output_type": "stream",
     "text": [
      "WARNING: replacing module reflection.\n"
     ]
    },
    {
     "data": {
      "text/plain": [
       "Main.reflection"
      ]
     },
     "execution_count": 45,
     "metadata": {},
     "output_type": "execute_result"
    }
   ],
   "source": [
    "module reflection\n",
    "\n",
    "function modName(mod::Module)\n",
    "    if mod == Main\n",
    "        mod_name = string(mod)\n",
    "    else\n",
    "        mod_name = string(mod)[6:end]\n",
    "    end\n",
    "\n",
    "    return mod_name\n",
    "end\n",
    "\n",
    "# check if a symbol is a nested module\n",
    "issubmodule(m::Module, s::Symbol) = isa((@eval $(m).$(s)),Module) && !occursin(string(s),modName(m))\n",
    "    \n",
    "# get a list of all submodules of module m\n",
    "function submodules(m::Module, mod_arr::Array{Module})\n",
    "    modules = filter(x->issubmodule(m,x),names(m,all=true))\n",
    "    push!(mod_arr,m)\n",
    "    for mod in modules\n",
    "        submodules((@eval $(m).$(mod)), mod_arr)\n",
    "    end\n",
    "end\n",
    "\n",
    "function findArgs(func::Function)\n",
    "    methods_str = methods(func)\n",
    "    arg_ind_1 = findlast(\"(\",string(methods_str))[1]+1\n",
    "    arg_ind_2 = findlast(\")\",string(methods_str))[1]-1\n",
    "\n",
    "    arg_s = string(methods_str)[arg_ind_1:arg_ind_2]\n",
    "    args = []\n",
    "    str = \"\"\n",
    "    isArg = true\n",
    "\n",
    "    for char in arg_s\n",
    "        str = str\n",
    "        if isArg == false && (char == ',' || char == ';')\n",
    "            isArg = true\n",
    "        elseif isArg == true\n",
    "            if char == ',' || char == ';'\n",
    "                push!(args,Symbol(strip(str)))\n",
    "                str = \"\"\n",
    "            elseif char == '=' || char == ':'\n",
    "                isArg = false\n",
    "                push!(args,Symbol(strip(str)))\n",
    "                str = \"\"\n",
    "            else\n",
    "                str = string(str,char)\n",
    "            end\n",
    "        end\n",
    "    end\n",
    "    if str != \"\"\n",
    "        push!(args,Symbol(strip(str)))\n",
    "    end\n",
    "\n",
    "    return args\n",
    "end\n",
    "\n",
    "function moduleDict(mod::Module, funcs::Dict)\n",
    "    mod_name = modName(mod)\n",
    "    \n",
    "    for func in names(mod, all=true)\n",
    "        if (func != :eval && func != :include && \n",
    "            func != Symbol(mod_name) && func != :Base &&\n",
    "            func != :Core)\n",
    "            if !occursin(\"#\",string(func))\n",
    "                funcType = string(typeof(@eval $(mod).$(func)))\n",
    "                if occursin(\"typeof\",funcType)\n",
    "                    func_args = findArgs(@eval $(mod).$(func))\n",
    "                    funcs[func] = func_args\n",
    "                end\n",
    "            end\n",
    "        end\n",
    "    end\n",
    "    return funcs\n",
    "end\n",
    "\n",
    "function evalVariableInputs(mod::Module, func::Symbol, args::Array{Any})\n",
    "    global output = 0\n",
    "    args = tuple(args...)\n",
    "    output = (@eval $(mod).$(func)($(args)...))\n",
    "    \n",
    "    return output\n",
    "end\n",
    "\n",
    "function varExplode(var)\n",
    "    var_arr = []\n",
    "    var_name = string(var)\n",
    "    var_string = \"\"\n",
    "\n",
    "    for c in var_name\n",
    "        var_string = string(var_string,c)\n",
    "        push!(var_arr,Symbol(var_string))\n",
    "    end\n",
    "    \n",
    "    return var_arr\n",
    "end\n",
    "\n",
    "function varExplodeDict(var_dict::Dict)\n",
    "    inp_dict = Dict()\n",
    "    out_dict = Dict()\n",
    "    for pair in var_dict\n",
    "        out_dict[pair[1]] = varExplode(pair[1])\n",
    "        for var in pair[2]\n",
    "            inp_dict[var] = varExplode(var)\n",
    "        end\n",
    "    end\n",
    "        \n",
    "    return out_dict, inp_dict\n",
    "end\n",
    "\n",
    "function varMapArray(d::Dict,var::Symbol)\n",
    "    map_array = []\n",
    "    \n",
    "    for pair in d\n",
    "        for var_n in pair[2]\n",
    "            if var_n == var\n",
    "                push!(map_array, pair[1])\n",
    "            end\n",
    "        end\n",
    "    end\n",
    "    return map_array\n",
    "end\n",
    "\n",
    "function crossVarMap(d1::Dict, d2::Dict)\n",
    "    d12 = Dict()\n",
    "    d21 = Dict()\n",
    "    \n",
    "    for pair in d1\n",
    "        map_array = []\n",
    "        for var in pair[2]\n",
    "            map_array = vcat(map_array, varMapArray(d2,var))\n",
    "        end\n",
    "        d12[pair[1]] = vcat(pair[1], map_array)\n",
    "    end\n",
    "    \n",
    "    for pair in d2\n",
    "        map_array = []\n",
    "        for var in pair[2]\n",
    "            map_array = vcat(map_array, varMapArray(d1,var))\n",
    "        end\n",
    "        d21[pair[1]] = vcat(pair[1], map_array)\n",
    "    end\n",
    "    return d12,d21\n",
    "end\n",
    "\n",
    "function argCheck(mod::Module, arg::Symbol, arg_arr::Array{Any}, inp_arr::Array{Any}, inp_map::Dict)\n",
    "    valid_inputs = 0\n",
    "    mods = [Main,mod]\n",
    "    \n",
    "    for arg_inp in inp_map[arg]\n",
    "        for m in mods\n",
    "            if isdefined(m,arg_inp) && !isa((@eval $(m).$(arg_inp)),Function)\n",
    "                if @eval $(m).$(arg_inp) != nothing\n",
    "                    push!(inp_arr, @eval $(m).$(arg_inp))\n",
    "                    push!(arg_arr, arg_inp)\n",
    "                    valid_inputs = 1\n",
    "                    break\n",
    "                end\n",
    "            else\n",
    "                valid_inputs = 0\n",
    "            end\n",
    "        end\n",
    "        if valid_inputs == 1; break; end\n",
    "    end\n",
    "    \n",
    "    return valid_inputs\n",
    "end\n",
    "\n",
    "function outputDict(funcs::Dict, outputs::Dict; mod::Module=Main, inp_map::Dict=Dict())\n",
    "    valid_inputs = 0\n",
    "    global inp = []\n",
    "    global arg_arr = Array{Symbol}\n",
    "    all_solved = false\n",
    "    none_solved = false\n",
    "    num_solved = 0\n",
    "    global output = 0\n",
    "    \n",
    "    while all_solved == false && none_solved == false\n",
    "        for func in funcs\n",
    "            if !haskey(outputs,func[1]) && !occursin(string(func[1]),\"outputDict\")\n",
    "                valid_inputs = 0\n",
    "                inp = []\n",
    "                arg_arr = []\n",
    "                \n",
    "                for arg in func[2]\n",
    "                    valid_inputs = argCheck(reflection, arg, arg_arr, inp, inp_map)\n",
    "                    \n",
    "                    if arg == func[2][end] && valid_inputs == 1\n",
    "                        try\n",
    "                            output = evalVariableInputs(mod, func[1], inp)\n",
    "                            println(\"Func: $(func[1])$(tuple(func[2]...))\")\n",
    "                            println(\"Inputs:\")\n",
    "                            for i = 1:length(arg_arr)\n",
    "                                println(\"$(arg_arr[i]) = $(inp[i])\")\n",
    "                            end\n",
    "#                             println(\"Input Args: $(tuple(arg_arr...))\")\n",
    "#                             println(\"Inputs: $(tuple(inp...))\")\n",
    "                            println(\"Output: $(output)\\n\")\n",
    "                            num_solved+=1\n",
    "                            outputs[func[1]] = output\n",
    "                            out = string(func[1])\n",
    "                            @eval $(Symbol(out))=output\n",
    "                        catch\n",
    "                            println(\"Func: $(func[1])$(tuple(func[2]...))\")\n",
    "                            println(\"Inputs:\")\n",
    "                            for i = 1:length(arg_arr)\n",
    "                                println(\"$(arg_arr[i]) = $(inp[i])\")\n",
    "                            end\n",
    "                            println(\"Output: Error\\n\")\n",
    "                        end\n",
    "                    elseif valid_inputs == 0\n",
    "                        break\n",
    "                    end\n",
    "                end\n",
    "            end\n",
    "        end\n",
    "        if num_solved == length(funcs)\n",
    "            all_solved = true\n",
    "        elseif num_solved == 0\n",
    "            none_solved = true\n",
    "        end\n",
    "        num_solved = 0\n",
    "    end\n",
    "end\n",
    "\n",
    "end"
   ]
  },
  {
   "cell_type": "code",
   "execution_count": 46,
   "metadata": {},
   "outputs": [
    {
     "data": {
      "text/plain": [
       "resetArgs (generic function with 1 method)"
      ]
     },
     "execution_count": 46,
     "metadata": {},
     "output_type": "execute_result"
    }
   ],
   "source": [
    "function initArgCheck(funcs::Dict, init_args::Array{Any})\n",
    "    for func in funcs\n",
    "        for arg in func[2]\n",
    "            if isdefined(Main,arg) && @eval Main.$(arg) != nothing\n",
    "                push!(init_args,arg)\n",
    "            end\n",
    "        end\n",
    "    end\n",
    "end\n",
    "\n",
    "function resetArgs(funcs::Dict, init_args::Array{Any})\n",
    "    for func in funcs\n",
    "        for arg in func[2]\n",
    "            if !any(x->x==arg, init_args)\n",
    "                @eval $(arg)=nothing\n",
    "            end\n",
    "        end\n",
    "    end\n",
    "end"
   ]
  },
  {
   "cell_type": "code",
   "execution_count": 47,
   "metadata": {},
   "outputs": [
    {
     "data": {
      "text/plain": [
       "1.0 m"
      ]
     },
     "execution_count": 47,
     "metadata": {},
     "output_type": "execute_result"
    }
   ],
   "source": [
    "physics.kinematics.oneD.disp(1.0u\"m\",2.0u\"m\")"
   ]
  },
  {
   "cell_type": "code",
   "execution_count": 48,
   "metadata": {},
   "outputs": [
    {
     "name": "stdout",
     "output_type": "stream",
     "text": [
      "mod = Main.physics\n",
      "mod = Main.physics.kinematics\n",
      "mod = Main.physics.kinematics.oneD\n",
      "::::MODULE Main.physics.kinematics.oneD::::\n",
      "in_d = Dict{Any,Any}(:a=>Any[:a],:x0=>Any[:x, :x0],:v0=>Any[:v, :v0],:v=>Any[:v],:t0=>Any[:t, :t0],:t=>Any[:t],:x=>Any[:x])\n",
      "inp_map = Dict{Any,Any}(:a=>Any[:a, :avgVel, :accConst],:x0=>Any[:x0],:v0=>Any[:v0, :velConstAcc1, :velConstAcc2],:v=>Any[:v, :velConstAcc1, :velConstAcc2],:t0=>Any[:t0],:t=>Any[:t],:x=>Any[:x])\n",
      "\n",
      "Func: disp(:x0, :x)\n",
      "Inputs:\n",
      "x0 = 1.0 m\n",
      "x = 1.0 km\n",
      "Output: 999.0 m\n",
      "\n",
      "Func: accConst(:x0, :x, :v0, :v)\n",
      "Inputs:\n",
      "x0 = 1.0 m\n",
      "x = 1.0 km\n",
      "v0 = 1.0 m s^-1\n",
      "v = 5.0 m s^-1\n",
      "Output: 0.012012012012012012 m s^-2\n",
      "\n",
      "Func: velConstAcc2(:x0, :x, :v0, :a)\n",
      "Inputs:\n",
      "x0 = 1.0 m\n",
      "x = 1.0 km\n",
      "v0 = 1.0 m s^-1\n",
      "accConst = 0.012012012012012012 m s^-2\n",
      "Output: 5.0 m s^-1\n",
      "\n",
      "outputs = Dict{Any,Any}(:disp=>999.0 m,:accConst=>0.012012 m s^-2,:velConstAcc2=>5.0 m s^-1)\n",
      "\n",
      "mod = Main.physics.kinematics.projectile\n",
      "::::MODULE Main.physics.kinematics.projectile::::\n",
      "in_d = Dict{Any,Any}(:v0=>Any[:v, :v0],:th0=>Any[:t, :th, :th0])\n",
      "inp_map = Dict{Any,Any}(:v0=>Any[:v0],:th0=>Any[:th0])\n",
      "\n",
      "Func: range(:v0, :th0)\n",
      "Inputs:\n",
      "v0 = 1.0 m s^-1\n",
      "th0 = 0.4 rad\n",
      "Output: 0.0731499636368712 m\n",
      "\n",
      "Func: maxHeight(:v0, :th0)\n",
      "Inputs:\n",
      "v0 = 1.0 m s^-1\n",
      "th0 = 0.4 rad\n",
      "Output: 0.0077318271441530655 m\n",
      "\n",
      "outputs = Dict{Any,Any}(:range=>0.07315 m,:maxHeight=>0.00773183 m)\n",
      "\n"
     ]
    }
   ],
   "source": [
    "x0 = 1.0u\"m\"\n",
    "x = 1.0u\"km\"\n",
    "v0 = 1.0u\"m/s\"\n",
    "v = 5.0u\"m/s\"\n",
    "th0 = 0.4u\"rad\"\n",
    "\n",
    "mods = Module[]\n",
    "reflection.submodules(physics, mods)\n",
    "# mods = [Main]\n",
    "\n",
    "for mod in mods\n",
    "    in_mod = mod\n",
    "    @show mod\n",
    "    funcs = Dict()\n",
    "    outputs = Dict()\n",
    "    reflection.moduleDict(in_mod,funcs)\n",
    "    if !isempty(funcs)\n",
    "        println(\"::::MODULE $(mod)::::\")\n",
    "        out_d, in_d = reflection.varExplodeDict(funcs)\n",
    "        @show in_d\n",
    "        inp_map, out_map = reflection.crossVarMap(in_d,out_d)\n",
    "        @show inp_map\n",
    "        println()\n",
    "        reflection.outputDict(funcs, outputs, mod=in_mod, inp_map=inp_map)\n",
    "        @show outputs\n",
    "        println()\n",
    "    end\n",
    "end"
   ]
  },
  {
   "cell_type": "code",
   "execution_count": null,
   "metadata": {},
   "outputs": [],
   "source": [
    "https://github.com/ordovician/Airship.jl/tree/master/src"
   ]
  },
  {
   "cell_type": "markdown",
   "metadata": {},
   "source": [
    "# Testing"
   ]
  },
  {
   "cell_type": "code",
   "execution_count": null,
   "metadata": {},
   "outputs": [],
   "source": [
    "x = 5\n",
    "v0 = 0\n",
    "vf = 10\n",
    "dt = 1\n",
    "t = 5\n",
    "a = 10\n",
    "funcs = Dict()\n",
    "outputs = Dict()\n",
    "moduleDict(mod2,funcs)\n",
    "out_d, in_d = varExplodeDict(funcs)\n",
    "inp_map, out_map = crossVarMap(in_d,out_d)\n",
    "\n",
    "num_solved = 0\n",
    "for func in funcs\n",
    "    println(func)\n",
    "    if !haskey(outputs,func[1])\n",
    "        valid_inputs = 0\n",
    "        inp = []\n",
    "        for arg in func[2]\n",
    "            for arg_inp in inp_map[arg]\n",
    "                if isdefined(Main,arg_inp) && @eval $(arg_inp) != nothing\n",
    "                    push!(inp,@eval $(arg_inp))\n",
    "                    println(inp)\n",
    "                    valid_inputs = 1\n",
    "                    break\n",
    "                else\n",
    "                    valid_inputs = 0\n",
    "                end\n",
    "            end\n",
    "\n",
    "            if arg == func[2][end] && valid_inputs == 1\n",
    "                output = evalVariableInputs(Main.mod2, func[1], inp)\n",
    "                println(\"Func: $(func[1])\")\n",
    "                println(\"Args: $(func[2])\")\n",
    "                println(\"Inputs: $(inp)\")\n",
    "                println(\"Output: $(output)\\n\")\n",
    "                num_solved+=1\n",
    "                outputs[func[1]] = output\n",
    "                out = string(func[1])\n",
    "                @eval $(Symbol(out))=output\n",
    "            elseif valid_inputs == 0\n",
    "                break\n",
    "            end\n",
    "        end\n",
    "    end\n",
    "end"
   ]
  },
  {
   "cell_type": "code",
   "execution_count": null,
   "metadata": {},
   "outputs": [],
   "source": [
    "function dr(a,b)\n",
    "    d = a+b\n",
    "    return d\n",
    "end\n",
    "\n",
    "function a1(c,p)\n",
    "    a = 5*c\n",
    "    return a\n",
    "end\n",
    "\n",
    "b = [1 2]\n",
    "c = [1 2 3]\n",
    "p = [1 2]\n",
    "\n",
    "funcs = [\"dr\" \"a1\"]\n",
    "args = [\"1\" \"2\"]\n",
    "\n",
    "for func in funcs\n",
    "    for arg in args\n",
    "        println(\"Func: $(func) / Arg: $(arg)\")\n",
    "        for i in c\n",
    "            a2 = a1(i)\n",
    "            for j in b\n",
    "                println(dr(a2,j))\n",
    "            end\n",
    "        end\n",
    "    end\n",
    "end"
   ]
  },
  {
   "cell_type": "code",
   "execution_count": null,
   "metadata": {},
   "outputs": [],
   "source": [
    "funcs = Dict()\n",
    "in_d = Dict()\n",
    "in_map = Dict()\n",
    "out_d = Dict()\n",
    "out_map = Dict()\n",
    "moduleDict(mod2,funcs)\n",
    "out_d, in_d = varExplodeDict(funcs)\n",
    "in_map, out_map = crossVarMap(in_d,out_d)\n",
    "out_map"
   ]
  },
  {
   "cell_type": "code",
   "execution_count": null,
   "metadata": {},
   "outputs": [],
   "source": []
  },
  {
   "cell_type": "code",
   "execution_count": null,
   "metadata": {},
   "outputs": [],
   "source": [
    "## function storeJuliaFunctions\n",
    "# Given a module or Julia file, parse out functions and their\n",
    "# respective variables and store locally or in a file.\n",
    "\n"
   ]
  },
  {
   "cell_type": "code",
   "execution_count": null,
   "metadata": {},
   "outputs": [],
   "source": [
    "## function findConnections\n",
    "# Given a set of input variables and functions, find and store all\n",
    "# functions with equivalent variables as inputs or outputs.\n"
   ]
  },
  {
   "cell_type": "code",
   "execution_count": null,
   "metadata": {},
   "outputs": [],
   "source": [
    "## function autoSolve\n",
    "# Given a stored collection of inputs and outputs, determine\n",
    "# which functions have valid inputs recursively, solve\n",
    "# for all outputs, and store the outputs."
   ]
  },
  {
   "cell_type": "code",
   "execution_count": null,
   "metadata": {},
   "outputs": [],
   "source": [
    "## script functionLearn\n",
    "# Script to use deep learning for finding connections and\n",
    "# features within engineering libraries, codes, and equations."
   ]
  },
  {
   "cell_type": "code",
   "execution_count": null,
   "metadata": {},
   "outputs": [],
   "source": [
    "## script functionStore\n",
    "# Script to combine with functionLearn to store functions with\n",
    "# inputs and outputs from useful libraries."
   ]
  },
  {
   "cell_type": "code",
   "execution_count": null,
   "metadata": {},
   "outputs": [],
   "source": [
    "## script systemBoltzmann\n",
    "# Based on system telemtry data, build a model using a\n",
    "# Deep Boltzmann Machine to capture connections."
   ]
  },
  {
   "cell_type": "code",
   "execution_count": null,
   "metadata": {},
   "outputs": [],
   "source": [
    "## script realityConverter\n",
    "# Compare deep learning model to analytical model and\n",
    "# find which equations are most likely driving physical\n",
    "# explanations."
   ]
  },
  {
   "cell_type": "code",
   "execution_count": null,
   "metadata": {},
   "outputs": [],
   "source": [
    "function k(x,y,z)\n",
    "    x^2+y^2+z^2\n",
    "end"
   ]
  },
  {
   "cell_type": "code",
   "execution_count": null,
   "metadata": {},
   "outputs": [],
   "source": [
    "g = \"   function k(x,y,z)\""
   ]
  },
  {
   "cell_type": "code",
   "execution_count": null,
   "metadata": {},
   "outputs": [],
   "source": [
    "ind_1 = findfirst(\"function \",g)[end]+1\n",
    "ind_2 = findlast(isequal(')'),g)\n",
    "\n",
    "if occursin(\"#\",g)\n",
    "    if findfirst(\"#\",g)[1] < findfirst(\"function \",g)[1]\n",
    "        print(\"Damn\")\n",
    "    end\n",
    "end"
   ]
  },
  {
   "cell_type": "code",
   "execution_count": null,
   "metadata": {},
   "outputs": [],
   "source": [
    "func_name = g[ind_1:ind_2]"
   ]
  },
  {
   "cell_type": "code",
   "execution_count": null,
   "metadata": {},
   "outputs": [],
   "source": []
  },
  {
   "cell_type": "code",
   "execution_count": null,
   "metadata": {},
   "outputs": [],
   "source": []
  },
  {
   "cell_type": "code",
   "execution_count": null,
   "metadata": {},
   "outputs": [],
   "source": [
    "g2 = g1[1]\n",
    "g3 = g1[3]\n",
    "g4 = g1[5]\n",
    "g5 = g1[7]\n",
    "g6 = g1[6]"
   ]
  },
  {
   "cell_type": "code",
   "execution_count": null,
   "metadata": {},
   "outputs": [],
   "source": [
    "k1 = getfield(Main,Symbol(g2))"
   ]
  },
  {
   "cell_type": "code",
   "execution_count": null,
   "metadata": {},
   "outputs": [],
   "source": [
    "x = 5\n",
    "y = 2\n",
    "\n",
    "if isdefined(Main, Symbol(g3)) && isdefined(Main, Symbol(g4))&& isdefined(Main, Symbol(g5))\n",
    "    k1(getfield(Main, Symbol(g3)),getfield(Main, Symbol(g4)),getfield(Main, Symbol(g5)))\n",
    "end"
   ]
  },
  {
   "cell_type": "code",
   "execution_count": null,
   "metadata": {},
   "outputs": [],
   "source": [
    "function x()\n",
    "    return 1\n",
    "end\n",
    "\n",
    "x = 5"
   ]
  },
  {
   "cell_type": "code",
   "execution_count": null,
   "metadata": {},
   "outputs": [],
   "source": []
  }
 ],
 "metadata": {
  "kernelspec": {
   "display_name": "Julia 1.1.1",
   "language": "julia",
   "name": "julia-1.1"
  },
  "language_info": {
   "file_extension": ".jl",
   "mimetype": "application/julia",
   "name": "julia",
   "version": "1.1.1"
  }
 },
 "nbformat": 4,
 "nbformat_minor": 2
}
