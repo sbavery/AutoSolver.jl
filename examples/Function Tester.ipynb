{
 "cells": [
  {
   "cell_type": "code",
   "execution_count": null,
   "metadata": {},
   "outputs": [],
   "source": [
    "using Unitful\n",
    "include(\"../src/AutoSolver.jl\")"
   ]
  },
  {
   "cell_type": "code",
   "execution_count": null,
   "metadata": {},
   "outputs": [],
   "source": [
    "# include(\"../../AstroKit.jl/src/AstroKit.jl\")\n",
    "include(\"../../SciBase.jl/src/SciBase.jl\")"
   ]
  },
  {
   "cell_type": "code",
   "execution_count": null,
   "metadata": {},
   "outputs": [],
   "source": [
    "# # Displacement\n",
    "# disp(x0,x) = x-x0\n",
    "# dispConstAcc1(v0,a,t) = v0*t+1/2*a*t^2\n",
    "# dispConstAcc2(v0,v,t) = ((v+v0)/2)*t\n",
    "# # Velocity\n",
    "# avgVel(x0,x,t0,t) = (x-x0)/(t-t0)\n",
    "# velConstAcc1(v0,a,t) = v0+a*t\n",
    "# velConstAcc2(x0,x,v0,a) = sqrt(v0^2+2*a*(x-x0))\n",
    "# # Acceleration\n",
    "# accConst(x0,x,v0,v) = (v^2-v0^2)/(2*(x-x0))"
   ]
  },
  {
   "cell_type": "code",
   "execution_count": null,
   "metadata": {},
   "outputs": [],
   "source": [
    "# # ve = 10u\"km/s\"\n",
    "# # mi = 200u\"kg\"\n",
    "# # mf = 80u\"kg\"\n",
    "# # f = 2.4u\"GHz\"\n",
    "# x0 = 1.0u\"m\"\n",
    "# x = 2.0u\"m\"\n",
    "# v0 = 1.0u\"m/s\"\n",
    "# v = 2.0u\"m/s\"\n",
    "\n",
    "# mods = Module[]\n",
    "# AutoSolver.submodules(physics, mods)\n",
    "# # mods = [Main]\n",
    "# # mods = [AstroKit]\n",
    "\n",
    "# outputs = AutoSolver.autoSolveOutputs(mods)\n"
   ]
  },
  {
   "cell_type": "code",
   "execution_count": null,
   "metadata": {
    "scrolled": true
   },
   "outputs": [],
   "source": [
    "# mods = Module[]\n",
    "# funcs = Dict()\n",
    "# AutoSolver.submodules(physics, mods)\n",
    "# AutoSolver.moduleDict(Main.physics.kinematics, funcs)\n",
    "# mods"
   ]
  },
  {
   "cell_type": "code",
   "execution_count": null,
   "metadata": {},
   "outputs": [],
   "source": [
    "# out_d, in_d = AutoSolver.varExplodeDict(funcs)\n",
    "# inp_map, out_map = AutoSolver.crossVarMap(in_d,out_d)\n",
    "# inp_map"
   ]
  },
  {
   "cell_type": "code",
   "execution_count": null,
   "metadata": {},
   "outputs": [],
   "source": [
    "# import Pkg; Pkg.add(\"XLSX\")"
   ]
  },
  {
   "cell_type": "code",
   "execution_count": null,
   "metadata": {},
   "outputs": [],
   "source": [
    "using XLSX"
   ]
  },
  {
   "cell_type": "markdown",
   "metadata": {},
   "source": [
    "# Create Spreadsheet Template"
   ]
  },
  {
   "cell_type": "code",
   "execution_count": null,
   "metadata": {},
   "outputs": [],
   "source": [
    "function autoSolveTemplate(mod::Module;filePath::String=\"\",overwrite=false)\n",
    "    mods = Module[]\n",
    "    AutoSolver.submodules(mod, mods) \n",
    "    mod_name = AutoSolver.modName(mod)\n",
    "    \n",
    "    if isfile(\"$(filePath)AS_$(mod_name).xlsx\") && overwrite == false\n",
    "        println(\"ERROR: $(filePath)AS_$(mod_name).xlsx already exists\")\n",
    "        return\n",
    "    elseif !isdir(filePath) && filePath != \"\"\n",
    "        mkdir(filePath)\n",
    "    end\n",
    "\n",
    "    XLSX.openxlsx(\"$(filePath)AS_$(mod_name).xlsx\", mode=\"wr\") do xf\n",
    "        XLSX.addsheet!(xf)\n",
    "        XLSX.addsheet!(xf)\n",
    "        sh1 = xf[1]\n",
    "        sh2 = xf[2]\n",
    "        sh3 = xf[3]\n",
    "        XLSX.rename!(sh1, \"Input Map\")\n",
    "        XLSX.rename!(sh2, \"Inputs\")\n",
    "        XLSX.rename!(sh3, \"Outputs\")\n",
    "\n",
    "        sh1[1,1] = \"Module\"\n",
    "        sh1[1,2] = \"Function\"\n",
    "        sh1[1,3] = \"Input Variable\"\n",
    "        sh1[1,4] = \"Input Map\"\n",
    "\n",
    "        sh2[1,1] = \"Input Variable\"\n",
    "        sh2[1,2] = \"Input\"\n",
    "        sh2[1,3] = \"Units\"\n",
    "\n",
    "        sh3[1,1] = \"Module\"\n",
    "        sh3[1,2] = \"Function\"\n",
    "        sh3[1,3] = \"Output\"\n",
    "        sh3[1,4] = \"Units\"\n",
    "\n",
    "        r1 = 2\n",
    "        r2 = 2\n",
    "        r3 = 2\n",
    "        new_input = 0\n",
    "        \n",
    "        for submod in mods\n",
    "            funcs = Dict()\n",
    "            AutoSolver.moduleDict(submod, funcs)\n",
    "            submod_name = AutoSolver.modName(submod)\n",
    "\n",
    "            for func in funcs \n",
    "                sh1[r1,1] = submod_name\n",
    "                sh1[r1,2] = string(func[1])\n",
    "\n",
    "                for i = 1:length(func[2])\n",
    "                    sh1[r1,3] = string(func[2][i])\n",
    "                    sh1[r1,4] = string(func[2][i])\n",
    "                    r1+=1\n",
    "\n",
    "                    for j = 2:r2\n",
    "                        if string(sh2[j,1]) == string(func[2][i])\n",
    "                            new_input = 0\n",
    "                            break\n",
    "                        else\n",
    "                            new_input = 1\n",
    "                        end\n",
    "                    end\n",
    "                    if new_input == 1\n",
    "                        sh2[r2,1] = string(func[2][i])\n",
    "                        r2+=1\n",
    "                    end\n",
    "                end\n",
    "            end\n",
    "\n",
    "            for func in funcs      \n",
    "                sh3[r3,1] = submod_name\n",
    "                sh3[r3,2] = string(func[1])\n",
    "                sh3[r3,3] = \"-\"\n",
    "                sh3[r3,4] = \"-\"\n",
    "                r3+=1\n",
    "            end\n",
    "        end\n",
    "    end\n",
    "end"
   ]
  },
  {
   "cell_type": "code",
   "execution_count": null,
   "metadata": {},
   "outputs": [],
   "source": [
    "autoSolveTemplate(physics, filePath=\"C:/Users/ses/Documents/AutoSolver/\", overwrite=false)"
   ]
  },
  {
   "cell_type": "markdown",
   "metadata": {},
   "source": [
    "# Update Spreadsheet Mapping"
   ]
  },
  {
   "cell_type": "code",
   "execution_count": null,
   "metadata": {},
   "outputs": [],
   "source": [
    "function inputMapFromXLSX(xf::XLSX.XLSXFile)\n",
    "    sh = xf[\"Input Map\"]\n",
    "    inp_map = Dict()\n",
    "    \n",
    "    for (i,r) in enumerate(XLSX.eachrow(sh))\n",
    "        if (i == 1 || ismissing(r[4])); continue; end\n",
    "        if !haskey(inp_map, Symbol(r[3])); inp_map[Symbol(r[3])] = []; end\n",
    "        if !(Symbol(r[4]) in inp_map[Symbol(r[3])]); push!(inp_map[Symbol(r[3])],Symbol(r[4])); end\n",
    "    end\n",
    "\n",
    "    return inp_map\n",
    "end"
   ]
  },
  {
   "cell_type": "code",
   "execution_count": null,
   "metadata": {},
   "outputs": [],
   "source": [
    "function inputsFromXLSX(xf::XLSX.XLSXFile)\n",
    "    sh = xf[\"Inputs\"]\n",
    "    \n",
    "    for (i,r) in enumerate(XLSX.eachrow(sh))\n",
    "        if i == 1; continue; end\n",
    "        if ismissing(@eval $(r[2])); continue; end\n",
    "        if ismissing(@eval $(r[3]))\n",
    "            @eval $(Symbol(r[1])) = (@eval $(r[2]))\n",
    "        else\n",
    "            @eval $(Symbol(r[1])) = (@eval $(r[2])) * (@eval @u_str $(r[3]))\n",
    "        end\n",
    "    end\n",
    "end"
   ]
  },
  {
   "cell_type": "code",
   "execution_count": null,
   "metadata": {},
   "outputs": [],
   "source": [
    "function outputToXLSX(xf::XLSX.XLSXFile, outputs::Dict)\n",
    "    sh = xf[\"Outputs\"]\n",
    "  \n",
    "    for (i, r) in enumerate(XLSX.eachrow(sh))\n",
    "        if i == 1; continue; end\n",
    "        func = Symbol(r[2])\n",
    "        if haskey(outputs,func)\n",
    "            sh[i,3] = string(ustrip(outputs[func]))\n",
    "            sh[i,4] = string(unit(outputs[func]))\n",
    "        else\n",
    "            sh[i,3] = \"-\"\n",
    "            sh[i,4] = \"-\"\n",
    "        end\n",
    "    end\n",
    "end"
   ]
  },
  {
   "cell_type": "code",
   "execution_count": null,
   "metadata": {},
   "outputs": [],
   "source": [
    "function autoSolveXLSX(mod::Module, filePath::String)\n",
    "    inp_map = Dict()\n",
    "    mod_name = AutoSolver.modName(mod)\n",
    "\n",
    "    inp_map = XLSX.openxlsx(\"$(filePath)AS_$(mod_name).xlsx\", mode=\"rw\") do xf\n",
    "        inp_map = inputMapFromXLSX(xf)\n",
    "        inputsFromXLSX(xf)\n",
    "        return inp_map\n",
    "    end\n",
    "\n",
    "    mods = Module[]\n",
    "    AutoSolver.submodules(mod, mods)\n",
    "\n",
    "    outputs = AutoSolver.autoSolveOutputs(mods, inp_map = inp_map)\n",
    "\n",
    "    XLSX.openxlsx(\"$(filePath)AS_$(mod_name).xlsx\", mode=\"rw\") do xf\n",
    "        outputToXLSX(xf,outputs)\n",
    "    end\n",
    "end"
   ]
  },
  {
   "cell_type": "code",
   "execution_count": null,
   "metadata": {},
   "outputs": [],
   "source": [
    "filePath=\"C:/Users/ses/Documents/AutoSolver/\"\n",
    "mod = physics\n",
    "\n",
    "autoSolveXLSX(mod, filePath)"
   ]
  },
  {
   "cell_type": "code",
   "execution_count": null,
   "metadata": {},
   "outputs": [],
   "source": []
  },
  {
   "cell_type": "markdown",
   "metadata": {},
   "source": [
    "# AutoTester"
   ]
  },
  {
   "cell_type": "code",
   "execution_count": null,
   "metadata": {},
   "outputs": [],
   "source": [
    "function autoTestTemplate(mod::Module;filePath::String=\"\",overwrite=false)\n",
    "    mods = Module[]\n",
    "    AutoSolver.submodules(mod, mods) \n",
    "    mod_name = AutoSolver.modName(mod)\n",
    "    num_tests = 5\n",
    "    \n",
    "    if isfile(\"$(filePath)AT_$(mod_name).xlsx\") && overwrite == false\n",
    "        println(\"ERROR: $(filePath)AT_$(mod_name).xlsx already exists\")\n",
    "        return\n",
    "    elseif !isdir(filePath) && filePath != \"\"\n",
    "        mkdir(filePath)\n",
    "    end\n",
    "    \n",
    "    if !isfile(\"$(filePath)AT_$(mod_name).xlsx\")\n",
    "        XLSX.openxlsx(\"$(filePath)AT_$(mod_name).xlsx\", mode=\"w\") do xf\n",
    "        end\n",
    "    end\n",
    "\n",
    "    XLSX.openxlsx(\"$(filePath)AT_$(mod_name).xlsx\", mode=\"rw\") do xf\n",
    "        sh1 = xf[1]\n",
    "        XLSX.rename!(sh1, \"Test Inputs\")\n",
    "\n",
    "        sh1[1,1] = \"Module\"\n",
    "        sh1[1,2] = \"Function\"\n",
    "        sh1[1,3] = \"Input Vars\"\n",
    "        \n",
    "        for i = 1:num_tests\n",
    "            sh1[1,3*i+1] = \"Inputs $(i)\"\n",
    "            sh1[1,3*i+2] = \"Exp Output $(i)\"\n",
    "            sh1[1,3*i+3] = \"Tol $(i) [%]\"\n",
    "        end\n",
    "\n",
    "        r1 = 2\n",
    "        new_input = 0\n",
    "        \n",
    "        for submod in mods\n",
    "            funcs = Dict()\n",
    "            AutoSolver.moduleDict(submod, funcs)\n",
    "            submod_name = AutoSolver.modName(submod)\n",
    "\n",
    "            for func in funcs\n",
    "                args = string(func[2])\n",
    "                sh1[r1,1] = submod_name\n",
    "                sh1[r1,2] = string(func[1])\n",
    "                sh1[r1,3] = string(strip(string(args[5:end]),[']']))\n",
    "                r1+=1\n",
    "            end\n",
    "        end\n",
    "    end\n",
    "end"
   ]
  },
  {
   "cell_type": "code",
   "execution_count": null,
   "metadata": {},
   "outputs": [],
   "source": [
    "filePath=\"C:/Users/ses/Documents/AutoSolver/\"\n",
    "mod = physics\n",
    "\n",
    "autoTestTemplate(mod, filePath=filePath, overwrite=false)"
   ]
  },
  {
   "cell_type": "code",
   "execution_count": null,
   "metadata": {},
   "outputs": [],
   "source": [
    "function autoTestXLSX(mod::Module;filePath::String=\"\")\n",
    "    mod_name = AutoSolver.modName(mod)\n",
    "    mods = Module[]\n",
    "    AutoSolver.submodules(mod, mods) \n",
    "    \n",
    "    XLSX.openxlsx(\"$(filePath)AT_$(mod_name).xlsx\", mode=\"rw\") do xf\n",
    "        sh = xf[\"Test Inputs\"]\n",
    "        \n",
    "        for (i,r) in enumerate(XLSX.eachrow(sh))\n",
    "            if i == 1; continue; end\n",
    "            if ismissing(@eval $(r[4])); continue; end\n",
    "#             if ismissing(@eval $(r[3]))\n",
    "#                 @eval $(Symbol(r[1])) = (@eval $(r[2]))\n",
    "#             else\n",
    "#                 @eval $(Symbol(r[1])) = (@eval $(r[2])) * (@eval @u_str $(r[3]))\n",
    "#             end\n",
    "            println(r[1],\", \",r[2],\", [\",r[4],\"], \",r[5],\", \",r[6])\n",
    "            args = split(r[4],',')\n",
    "            arg_arr = []\n",
    "            for arg in args\n",
    "                arg_in = split(strip(arg),\" \")\n",
    "                val = parse(Int,string(arg_in[1]))\n",
    "                units = @eval @u_str $(arg_in[2])\n",
    "                var = val * units\n",
    "                push!(arg_arr,var)\n",
    "            end\n",
    "            \n",
    "#             println(Module(Symbol(r[1])),\".\",Symbol(r[2]))\n",
    "#             println(\"Inputs: \",arg_arr)\n",
    "#             println(\"Expected Output: \",r[5])\n",
    "            \n",
    "            for mod_s in mods\n",
    "                if string(mod_s) == string((@eval $(Module(Symbol(r[1])))))\n",
    "                    output = AutoSolver.evalVariableInputs(mod_s,Symbol(r[2]),arg_arr)\n",
    "                    println(\"Actual Output: \", output)\n",
    "                    if string(output) == string(r[5])\n",
    "                        println(\"Test Pass\\n\")\n",
    "                    else\n",
    "                        println(\"Test Failed\\n\")\n",
    "                    end\n",
    "                end\n",
    "            end\n",
    "#             result = (@eval $(Module(Symbol(r[1]))).$(Symbol(r[2]))($(arg_arr)...))\n",
    "        end\n",
    "    end\n",
    "end"
   ]
  },
  {
   "cell_type": "code",
   "execution_count": null,
   "metadata": {},
   "outputs": [],
   "source": [
    "using Test\n",
    "filePath=\"C:/Users/ses/Documents/AutoSolver/\"\n",
    "mod = physics\n",
    "\n",
    "autoTestXLSX(mod, filePath=filePath)"
   ]
  },
  {
   "cell_type": "code",
   "execution_count": null,
   "metadata": {},
   "outputs": [],
   "source": [
    "Main.physics.dynamics.F(1,2)\n",
    "# Unitful.promote_to_derived()\n",
    "# promote(1u\"J\",1.0u\"kg*m^2/s^2\")[2]"
   ]
  },
  {
   "cell_type": "markdown",
   "metadata": {},
   "source": [
    "# AutoGenerate Database"
   ]
  },
  {
   "cell_type": "code",
   "execution_count": null,
   "metadata": {},
   "outputs": [],
   "source": [
    "# using Pkg\n",
    "# Pkg.add(\"PDFIO\")\n",
    "\n",
    "# \"\"\"\n",
    "# ​```\n",
    "#     getPDFText(src, out) -> Dict \n",
    "# ​```\n",
    "# - src - Input PDF file from where text is to be extracted\n",
    "# - out - Output TXT file where the output will be written\n",
    "# return - A dictionary containing metadata of the document\n",
    "# \"\"\"\n",
    "# function getPDFText(src, out)\n",
    "#     # handle that can be used for subsequence operations on the document.\n",
    "#     doc = pdDocOpen(src)\n",
    "    \n",
    "#     # Metadata extracted from the PDF document. \n",
    "#     # This value is retained and returned as the return from the function. \n",
    "#     docinfo = pdDocGetInfo(doc) \n",
    "#     open(out, \"w\") do io\n",
    "    \n",
    "#         # Returns number of pages in the document       \n",
    "#         npage = pdDocGetPageCount(doc)\n",
    "\n",
    "#         for i=1:npage\n",
    "        \n",
    "#             # handle to the specific page given the number index. \n",
    "#             page = pdDocGetPage(doc, i)\n",
    "            \n",
    "#             # Extract text from the page and write it to the output file.\n",
    "#             pdPageExtractText(io, page)\n",
    "\n",
    "#         end\n",
    "#     end\n",
    "#     # Close the document handle. \n",
    "#     # The doc handle should not be used after this call\n",
    "#     pdDocClose(doc)\n",
    "#     return docinfo\n",
    "# end\n",
    "\n",
    "# using PDFIO\n",
    "# getPDFText(\"electromagnetism_equations.pdf\",\"test.txt\")"
   ]
  },
  {
   "cell_type": "code",
   "execution_count": 103,
   "metadata": {
    "scrolled": true
   },
   "outputs": [
    {
     "name": "stdout",
     "output_type": "stream",
     "text": [
      "SubString{String}[\"Solenoid\"]\n",
      "SubString{String}[\"\"]\n",
      "SubString{String}[\"\"]\n",
      "SubString{String}[\" q_e \", \" \\\\int \\\\lambda_e \\\\mathrm{d}\\\\ell \"]\n",
      " \\int \\lambda_e d\\ell \n",
      "Integral(lambda_{e}, (:ell,))\n",
      "SubString{String}[\" q_e \", \" \\\\iint \\\\sigma_e \\\\mathrm{d} S \"]\n",
      " \\iint \\sigma_e d S \n",
      "iint * (sigma_{e} * dS)\n",
      "SubString{String}[\" q_e \", \" \\\\iiint \\\\rho_e \\\\mathrm{d}V \"]\n",
      " \\iiint \\rho_e dV \n",
      "iiint * (rho_{e} * dV)\n",
      "SubString{String}[\"C \", \" \\\\mathrm{d}q/\\\\mathrm{d}V\\\\,\\\\!\"]\n",
      " dq/dV\n",
      "dq * dV ^ -1\n",
      "SubString{String}[\" I \", \" \\\\mathrm{d}q/\\\\mathrm{d}t \\\\,\\\\!\"]\n",
      " dq/dt \n",
      "dq * dt ^ -1\n",
      "SubString{String}[\"I \", \" \\\\mathbf{J} \\\\cdot \\\\mathrm{d} \\\\mathbf{S}\"]\n",
      " J \\cdot d S\n",
      "J * dS\n",
      "SubString{String}[\" \\\\mathbf{J}_\\\\mathrm{d} \", \" \\\\epsilon_0 \\\\left ( \\\\partial \\\\mathbf{E} / \\\\partial t \\\\right ) \", \" \\\\partial \\\\mathbf{D} / \\\\partial t \\\\,\\\\!\"]\n",
      " \\epsilon_0 ( ( d E / d t ) ) \n",
      "epsilon_{0}(dE * dt ^ -1)\n",
      "SubString{String}[\" \\\\mathbf{J}_\\\\mathrm{c} \", \" \\\\rho \\\\mathbf{v} \\\\,\\\\!\"]\n",
      " \\rho v \n",
      "rho * v\n",
      "SubString{String}[\"\\\\mathbf{E} \", \"\\\\mathbf{F}/q\\\\,\\\\!\"]\n",
      "F/q\n",
      "F * q ^ -1\n",
      "SubString{String}[\"\\\\Phi_E \", \" \\\\int_S \\\\mathbf{E} \\\\cdot \\\\mathrm{d} \\\\mathbf{A}\\\\,\\\\!\"]\n",
      " \\int E \\cdot d A\n",
      "Integral(E, (:A,))\n",
      "SubString{String}[\" \\\\epsilon \", \" \\\\epsilon_r \\\\epsilon_0\\\\,\\\\!\"]\n",
      " \\epsilon_r \\epsilon_0\n",
      "epsilon_{r} * epsilon_{0}\n",
      "SubString{String}[\"{\\\\displaystyle \\\\mathbf {p} \", \"q\\\\mathbf {a} \\\\,\\\\!}\"]\n",
      "q\\mathbf {a} }\n",
      "SubString{String}[\"\\\\mathbf{P} \", \" \\\\mathrm{d} \\\\langle \\\\mathbf{p} \\\\rangle /\\\\mathrm{d} V \\\\,\\\\!\"]\n",
      " d ( p ) /d V \n",
      "d(p) * dV ^ -1\n",
      "SubString{String}[\" \\\\mathbf{D} \", \" \\\\epsilon\\\\mathbf{E} \", \" \\\\epsilon_0 \\\\mathbf{E} + \\\\mathbf{P}\\\\,\"]\n",
      " \\epsilonE \n",
      "epsilonE\n",
      "SubString{String}[\"\\\\Phi_D \", \" \\\\int_S \\\\mathbf{D} \\\\cdot \\\\mathrm{d} \\\\mathbf{A}\\\\,\\\\!\"]\n",
      " \\int D \\cdot d A\n",
      "Integral(D, (:A,))\n",
      "SubString{String}[\" r_0 \\\\,\\\\!\"]\n",
      "SubString{String}[\" r_0 \", \" \\\\infty \\\\,\\\\!\"]\n",
      " \\infty \n",
      "Inf\n",
      "SubString{String}[\" r_0 \", \" R_\\\\mathrm{earth} \\\\,\\\\!\"]\n",
      " R_\\mathrm{earth} \n",
      "R_{mathrm} * (e * (a * (r * (t * h))))\n",
      "SubString{String}[\" V \", \" -\\\\frac{W_{\\\\infty r }}{q} \", \" -\\\\frac{1}{q}\\\\int_\\\\infty^r \\\\mathbf{F} \\\\cdot \\\\mathrm{d} \\\\mathbf{r} \", \" -\\\\int_{r_1}^{r_2} \\\\mathbf{E} \\\\cdot \\\\mathrm{d} \\\\mathbf{r}\\\\,\\\\!\"]\n",
      " -\\frac{W_{\\infty r }}{q} \n",
      "-1 * (W_{oo*r} * q ^ -1)\n",
      "SubString{String}[\"\\\\Delta V \", \" -\\\\frac{\\\\Delta W}{q} \", \" -\\\\frac{1}{q}\\\\int_{r_1}^{r_2} \\\\mathbf{F} \\\\cdot \\\\mathrm{d} \\\\mathbf{r} \", \" -\\\\int_{r_1}^{r_2} \\\\mathbf{E} \\\\cdot \\\\mathrm{d} \\\\mathbf{r} \\\\,\\\\!\"]\n",
      " -\\frac{\\Delta W}{q} \n",
      "-1 * ((Delta * W) * q ^ -1)\n",
      "SubString{String}[\" q_m \", \" \\\\int \\\\lambda_m \\\\mathrm{d}\\\\ell \"]\n",
      " \\int \\lambda_m d\\ell \n",
      "Integral(lambda_{m}, (:ell,))\n",
      "SubString{String}[\" q_m \", \" \\\\iint \\\\sigma_m \\\\mathrm{d} S \"]\n",
      " \\iint \\sigma_m d S \n",
      "iint * (sigma_{m} * dS)\n",
      "SubString{String}[\" q_m \", \" \\\\iiint \\\\rho_m \\\\mathrm{d}V \"]\n",
      " \\iiint \\rho_m dV \n",
      "iiint * (rho_{m} * dV)\n",
      "SubString{String}[\" I_m \", \" \\\\mathrm{d}q_m/\\\\mathrm{d}t \\\\,\\\\!\"]\n",
      " dq_m/dt \n",
      "dq\n",
      "SubString{String}[\" I \", \" \\\\iint \\\\mathbf{J}_\\\\mathrm{m} \\\\cdot \\\\mathrm{d} \\\\mathbf{A} \"]\n",
      " \\iint J_m \\cdot d A \n",
      "(iint * J_{m}) * dA\n",
      "SubString{String}[\"\\\\mathbf{F} \", \"q_e \\\\left ( \\\\mathbf{v}\\\\times\\\\mathbf{B} \\\\right ) \\\\,\\\\!\"]\n",
      "q_e ( ( v\\timesB ) ) \n",
      "q_{e}(v * timesB)\n",
      "SubString{String}[\" \\\\mathbf{B} \", \" \\\\nabla \\\\times \\\\mathbf{A} \"]\n",
      " \\nabla \\times A \n",
      "nabla * A\n",
      "SubString{String}[\"\\\\Phi_B \", \" \\\\int_S \\\\mathbf{B} \\\\cdot \\\\mathrm{d} \\\\mathbf{A}\\\\,\\\\!\"]\n",
      " \\int B \\cdot d A\n",
      "Integral(B, (:A,))\n",
      "SubString{String}[\"\\\\mu \\\\,\\\\!\"]\n",
      "SubString{String}[\"\\\\mu \\\\ \", \" \\\\mu_r \\\\,\\\\mu_0 \\\\,\\\\!\"]\n",
      " \\mu_r \\mu_0 \n",
      "SubString{String}[\"\\\\mathbf{m} \", \" q_m \\\\mathbf{a}\\\\,\\\\!\"]\n",
      " q_m a\n",
      "q_{m} * a\n",
      "SubString{String}[\"\\\\mathbf{m} \", \" NIA\\\\mathbf{\\\\hat{n}}\\\\,\\\\!\"]\n",
      " NIA\\mathbf{\\hat{n}}\n",
      "N * (I * (A * (mathbf * (hat * n))))\n",
      "SubString{String}[\"\\\\mathbf{M} \", \" \\\\mathrm{d} \\\\langle \\\\mathbf{m} \\\\rangle /\\\\mathrm{d} V \\\\,\\\\!\"]\n",
      " d ( m ) /d V \n",
      "d(m) * dV ^ -1\n",
      "SubString{String}[\"\\\\mathbf{B} \", \" \\\\mu \\\\mathbf{H} \", \" \\\\mu_0 \\\\left ( \\\\mathbf{H} + \\\\mathbf{M} \\\\right ) \\\\,\"]\n",
      " \\mu H \n",
      "mu * H\n",
      "SubString{String}[\"\\\\mathbf{H} \", \" \\\\mathbf{F} / q_m \\\\,\"]\n",
      " F / q_m \n",
      "F * q_{m} ^ -1\n",
      "SubString{String}[\"\\\\mathbf{I} \", \" \\\\mu \\\\mathbf{M} \\\\,\\\\!\"]\n",
      " \\mu M \n",
      "mu * M\n",
      "SubString{String}[\"L\", \"N\\\\left ( \\\\mathrm{d} \\\\Phi/\\\\mathrm{d} I \\\\right )\\\\,\\\\!\"]\n",
      "N( ( d \\Phi/d I ) )\n",
      "N(dPhi * dI ^ -1)\n",
      "SubString{String}[\"L\\\\left ( \\\\mathrm{d} I/\\\\mathrm{d} t \\\\right )\", \"-NV\\\\,\\\\!\"]\n",
      "-NV\n",
      "-1 * (N * V)\n",
      "SubString{String}[\"M_1\", \"N\\\\left ( \\\\mathrm{d} \\\\Phi_2/\\\\mathrm{d} I_1 \\\\right )\\\\,\\\\!\"]\n",
      "N( ( d \\Phi_2/d I_1 ) )\n",
      "N\n",
      "SubString{String}[\"M\\\\left ( \\\\mathrm{d} I_2/\\\\mathrm{d} t \\\\right )\", \"-NV_1\\\\,\\\\!\"]\n",
      "-NV_1\n",
      "-1 * (N * V_{1})\n",
      "SubString{String}[\"M_2\", \"N\\\\left ( \\\\mathrm{d} \\\\Phi_1/\\\\mathrm{d} I_2 \\\\right )\\\\,\\\\!\"]\n",
      "N( ( d \\Phi_1/d I_2 ) )\n",
      "N\n",
      "SubString{String}[\"M\\\\left ( \\\\mathrm{d} I_1/\\\\mathrm{d} t \\\\right )\", \"-NV_2\\\\,\\\\!\"]\n",
      "-NV_2\n",
      "-1 * (N * V_{2})\n",
      "SubString{String}[\"\\\\omega \", \" \\\\gamma B \\\\,\\\\!\"]\n",
      " \\gamma B \n",
      "gamma * B\n",
      "SubString{String}[\" R_\\\\mathrm{int} \", \" V_\\\\mathrm{ter}/I \\\\,\\\\!\"]\n",
      " V_\\mathrm{ter}/I \n",
      "(V_{mathrm} * (t * (e * r))) * I ^ -1\n",
      "SubString{String}[\" R_\\\\mathrm{ext} \", \" V_\\\\mathrm{load}/I \\\\,\\\\!\"]\n",
      " V_\\mathrm{load}/I \n",
      "(V_{mathrm} * (l * (o * (a * d)))) * I ^ -1\n",
      "SubString{String}[\"\\\\mathcal{E} \", \" V_\\\\mathrm{ter} + V_\\\\mathrm{load} \\\\,\\\\!\"]\n",
      " V_\\mathrm{ter} + V_\\mathrm{load} \n",
      "V_{mathrm} * (t * (e * r)) + V_{mathrm} * (l * (o * (a * d)))\n",
      "SubString{String}[\" V_R \", \" I_R R \\\\,\\\\!\"]\n",
      " I_R R \n",
      "I_{R} * R\n",
      "SubString{String}[\" V_C \", \" I_C X_C\\\\,\\\\!\"]\n",
      " I_C X_C\n",
      "I_{C} * X_{C}\n",
      "SubString{String}[\"V_L \", \" I_L X_L\\\\,\\\\!\"]\n",
      " I_L X_L\n",
      "I_{L} * X_{L}\n",
      "SubString{String}[\"X_C \", \" \\\\frac{1}{\\\\omega_\\\\mathrm{d} C} \\\\,\\\\!\"]\n",
      " \\frac{1}{\\omega_d C} \n",
      "omega_{dC} ^ -1\n",
      "SubString{String}[\" X_L \", \" \\\\omega_d L \\\\,\\\\!\"]\n",
      " \\omega_d L \n",
      "omega_{dL}\n",
      "SubString{String}[\"V \", \" I Z\\\\,\\\\!\"]\n",
      " I Z\n",
      "I * Z\n",
      "SubString{String}[\"Z \", \" \\\\sqrt{R^2 + \\\\left ( X_L - X_C \\\\right )^2 } \\\\,\\\\!\"]\n",
      " \\sqrt{R^2 + ( ( X_L - X_C ) )^2 } \n",
      "(R ^ 2 + (X_{L} + -1X_{C}) ^ 2) ^ (1 / 2)\n",
      "SubString{String}[\"\\\\tan\\\\phi\", \" \\\\frac{X_L - X_C}{R}\\\\,\\\\!\"]\n",
      " \\frac{X_L - X_C}{R}\n",
      "(X_{L} + -1X_{C}) * R ^ -1\n",
      "SubString{String}[\"I_0 \", \" I_\\\\mathrm{rms} \\\\sqrt{2}\\\\,\\\\!\"]\n",
      " I_\\mathrm{rms} \\sqrt{2}\n",
      "I_{mathrm} * ((r * (m * s)) * 2 ^ (1 / 2))\n",
      "SubString{String}[\" I_\\\\mathrm{rms} \", \" \\\\sqrt{\\\\frac{1}{T} \\\\int_{0}^{T} \\\\left [ I \\\\left ( t \\\\right ) \\\\right ]^2 \\\\mathrm{d} t}  \\\\,\\\\!\"]\n",
      " \\sqrt{\\frac{1}{T} \\int_{0}^{T} ( [ I ( ( t ) ) ) ]^2 d t}  \n",
      "SubString{String}[\" V_0 \", \" V_\\\\mathrm{rms} \\\\sqrt{2} \\\\,\\\\!\"]\n",
      " V_\\mathrm{rms} \\sqrt{2} \n",
      "V_{mathrm} * ((r * (m * s)) * 2 ^ (1 / 2))\n",
      "SubString{String}[\" V_\\\\mathrm{rms} \", \" \\\\sqrt{\\\\frac{1}{T} \\\\int_{0}^{T} \\\\left [ V \\\\left ( t \\\\right ) \\\\right ]^2 \\\\mathrm{d} t}  \\\\,\\\\!\"]\n",
      " \\sqrt{\\frac{1}{T} \\int_{0}^{T} ( [ V ( ( t ) ) ) ]^2 d t}  \n",
      "SubString{String}[\"\\\\mathcal{E}_\\\\mathrm{rms}, \\\\sqrt{\\\\langle \\\\mathcal{E} \\\\rangle} \\\\,\\\\!\"]\n",
      "SubString{String}[\"\\\\mathcal{E}_\\\\mathrm{rms}\", \"\\\\mathcal{E}_\\\\mathrm{m}/\\\\sqrt{2}\\\\,\\\\!\"]\n",
      "E_m/\\sqrt{2}\n",
      "E_{m} * (2 ^ (1 / 2)) ^ -1\n",
      "SubString{String}[\" \\\\langle P \\\\rangle \\\\,\\\\!\"]\n",
      "SubString{String}[\" \\\\langle P \\\\rangle \", \"\\\\mathcal{E}I_\\\\mathrm{rms}\\\\cos\\\\phi\\\\,\\\\!\"]\n",
      "EI_\\mathrm{rms}\\cos\\phi\n",
      "E * (I_{mathrm} * ((r * (m * s)) * cos(phi)))\n",
      "SubString{String}[\"\\\\tau_C \", \" RC\\\\,\\\\!\"]\n",
      " RC\n",
      "R * C\n",
      "SubString{String}[\"\\\\tau_L \", \" L/R\\\\,\\\\!\"]\n",
      " L/R\n",
      "L * R ^ -1\n",
      "SubString{String}[\"\\\\mathcal{F}, \\\\mathcal{M} \"]\n",
      "SubString{String}[\"\\\\mathcal{M} \", \" NI\"]\n",
      " NI\n",
      "N * I\n",
      "SubString{String}[\" \\\\mathbf{E} \", \" - \\\\nabla V \"]\n",
      " - \\nabla V \n",
      "-1 * (nabla * V)\n",
      "SubString{String}[\" \\\\Delta V \", \" -\\\\int_{r_1}^{r_2} \\\\mathbf{E} \\\\cdot d\\\\mathbf{r}\\\\,\\\\!\"]\n",
      " -\\int_{r_1}^{r_2} E \\cdot dr\n",
      "-1 * Integral(E, (:r, Symbol(\"r_{1}\"), Symbol(\"r_{2}\")))\n",
      "SubString{String}[\" \\\\mathbf{E} \", \" \\\\frac{q}{4 \\\\pi \\\\epsilon_0 \\\\left | \\\\mathbf{r} \\\\right |^2 }\\\\mathbf{\\\\hat{r}} \\\\,\\\\!\"]\n",
      " \\frac{q}{4 \\pi \\epsilon_0 ( | r ) |^2 }\\mathbf{\\hat{r}} \n",
      "SubString{String}[\"\\\\mathbf{E} \", \" \\\\sum \\\\mathbf{E}_i \", \" \\\\frac{1}{4 \\\\pi \\\\epsilon_0} \\\\sum_i \\\\frac{q_i}{\\\\left | \\\\mathbf{r}_i - \\\\mathbf{r} \\\\right |^2}\\\\mathbf{\\\\hat{r}}_i \\\\,\\\\!\"]\n",
      " \\sum E_i \n",
      "SubString{String}[\" \\\\mathbf{E} \", \" \\\\frac{1}{4\\\\pi\\\\epsilon_0} \\\\int_V \\\\frac{\\\\mathbf{r} \\\\rho \\\\mathrm{d}V}{\\\\left | \\\\mathbf{r} \\\\right |^3} \\\\,\\\\!\"]\n",
      " \\frac{1}{4\\pi\\epsilon_0} \\int_V \\frac{r \\rho dV}{( | r ) |^3} \n",
      "(4 * (pi * epsilon_{0})) ^ -1\n",
      "SubString{String}[\" \\\\boldsymbol{\\\\tau} \", \" \\\\int_V \\\\mathrm{d} \\\\mathbf{p} \\\\times \\\\mathbf{E} \"]\n",
      " \\int_V d p \\times E \n",
      "SubString{String}[\" U \", \" \\\\int_V  \\\\mathrm{d} \\\\mathbf{p} \\\\cdot \\\\mathbf{E} \"]\n",
      " \\int_V  d p \\cdot E \n",
      "SubString{String}[\" \\\\mathbf{B} \", \" \\\\nabla \\\\times \\\\mathbf{A} \"]\n",
      " \\nabla \\times A \n",
      "nabla * A\n",
      "SubString{String}[\" \\\\mathbf{A} \", \" \\\\frac{\\\\mu_0}{4\\\\pi}\\\\frac{\\\\mathbf{m}\\\\times\\\\mathbf{r}}{\\\\left | \\\\mathbf{r} \\\\right |^3} \"]\n",
      " \\frac{\\mu_0}{4\\pi}\\frac{m\\timesr}{( | r ) |^3} \n"
     ]
    },
    {
     "name": "stdout",
     "output_type": "stream",
     "text": [
      "mu_{0} * (4pi) ^ -1\n",
      "SubString{String}[\"\\\\mathbf{B}({\\\\mathbf{r}})\", \"\\\\nabla\\\\times{\\\\mathbf{A}}\", \"\\\\frac{\\\\mu_{0}}{4\\\\pi}\\\\left(\\\\frac{3\\\\mathbf{r}(\\\\mathbf{m}\\\\cdot\\\\mathbf{r})}{\\\\left | \\\\mathbf{r} \\\\right |^{5}}-\\\\frac{{\\\\mathbf{m}}}{\\\\left | \\\\mathbf{r} \\\\right |^{3}}\\\\right)\"]\n",
      "\\nabla\\times{A}\n",
      "nabla * A\n",
      "SubString{String}[\" \\\\mathbf{m} \", \" \\\\frac{1}{2}\\\\int_V \\\\mathbf{r}\\\\times\\\\mathbf{J} \\\\mathrm{d} V \"]\n",
      " \\frac{1}{2}\\int_V r\\timesJ d V \n",
      "2 ^ -1\n",
      "SubString{String}[\" \\\\boldsymbol{\\\\tau} \", \" \\\\int_V \\\\mathrm{d} \\\\mathbf{m} \\\\times \\\\mathbf{B} \"]\n",
      " \\int_V d m \\times B \n",
      "SubString{String}[\" U \", \" \\\\int_V \\\\mathrm{d} \\\\mathbf{m} \\\\cdot \\\\mathbf{B} \"]\n",
      " \\int_V d m \\cdot B \n",
      "SubString{String}[\"\\\\frac{V_s}{V_p} \", \" \\\\frac{N_s}{N_p} \", \" \\\\frac{I_p}{I_s} \", \" \\\\eta \\\\,\\\\!\"]\n",
      " \\frac{N_s}{N_p} \n",
      "N_{s} * N_{p} ^ -1\n",
      "SubString{String}[\"R_\\\\mathrm{net} \", \" \\\\sum_{i\", \"1}^{N} R_i\\\\,\\\\!\"]\n",
      " \\sum_{i\n",
      "SubString{String}[\"{1 \\\\over G_{{\\\\mathrm  {net}}}}\", \"\\\\sum _{{i\", \"1}}^{{N}}{1 \\\\over G_{i}}\\\\,\\\\!\"]\n",
      "\\sum _{{i\n",
      "SubString{String}[\"{1 \\\\over R_{{\\\\mathrm  {net}}}}\", \"\\\\sum _{{i\", \"1}}^{{N}}{1 \\\\over R_{i}}\\\\,\\\\!\"]\n",
      "\\sum _{{i\n",
      "SubString{String}[\"G_{{\\\\mathrm  {net}}}\", \"\\\\sum _{{i\", \"1}}^{{N}}G_{i}\\\\,\\\\!\"]\n",
      "\\sum _{{i\n",
      "SubString{String}[\"q_\\\\mathrm{net} \", \" \\\\sum_{i\", \"1}^N q_i \\\\,\\\\!\"]\n",
      " \\sum_{i\n",
      "SubString{String}[\"{1 \\\\over C_{{\\\\mathrm  {net}}}}\", \"\\\\sum _{{i\", \"1}}^{N}{1 \\\\over C_{i}}\\\\,\\\\!\"]\n",
      "\\sum _{{i\n",
      "SubString{String}[\"I_{{\\\\mathrm  {net}}}\", \"I_{i}\\\\,\\\\!\"]\n",
      "I_{i}\n",
      "I_{i}\n",
      "SubString{String}[\"q_\\\\mathrm{net} \", \" \\\\sum_{i\", \"1}^N q_i \\\\,\\\\!\"]\n",
      " \\sum_{i\n",
      "SubString{String}[\"C_\\\\mathrm{net} \", \" \\\\sum_{i\", \"1}^N C_i \\\\,\\\\!\"]\n",
      " \\sum_{i\n",
      "SubString{String}[\"I_\\\\mathrm{net} \", \" \\\\sum_{i\", \"1}^N I_i \\\\,\\\\!\"]\n",
      " \\sum_{i\n",
      "SubString{String}[\"L_{{\\\\mathrm  {net}}}\", \"\\\\sum _{{i\", \"1}}^{N}L_{i}\\\\,\\\\!\"]\n",
      "\\sum _{{i\n",
      "SubString{String}[\"{1 \\\\over L_{{\\\\mathrm  {net}}}}\", \"\\\\sum _{{i\", \"1}}^{N}{1 \\\\over L_{i}}\\\\,\\\\!\"]\n",
      "\\sum _{{i\n",
      "SubString{String}[\"V_i \", \" \\\\sum_{j\", \"1}^N L_{ij} \\\\frac{\\\\mathrm{d}I_j}{\\\\mathrm{d}t} \\\\,\\\\!\"]\n",
      " \\sum_{j\n",
      "SubString{String}[\"R \\\\frac{\\\\mathrm{d}q}{\\\\mathrm{d}t} + \\\\frac{q}{C} \", \" \\\\mathcal{E}\\\\,\\\\!\"]\n",
      " E\n",
      "E\n",
      "SubString{String}[\" q \", \" C\\\\mathcal{E}\\\\left ( 1 - e^{-t/RC} \\\\right )\\\\,\\\\!\"]\n",
      " CE( ( 1 - e^{-t/RC} ) )\n",
      "C * E(1 + -1 * e ^ ((-1t) * (R * C) ^ -1))\n",
      "SubString{String}[\" q \", \" C\\\\mathcal{E}e^{-t/RC}\\\\,\\\\!\"]\n",
      " CEe^{-t/RC}\n",
      "C * (E * e ^ ((-1t) * (R * C) ^ -1))\n",
      "SubString{String}[\"L\\\\frac{\\\\mathrm{d}I}{\\\\mathrm{d}t}+RI\", \"\\\\mathcal{E}\\\\,\\\\!\"]\n",
      "E\n",
      "E\n",
      "SubString{String}[\"I \", \" \\\\frac{\\\\mathcal{E}}{R}\\\\left ( 1-e^{-Rt/L}\\\\right )\\\\,\\\\!\"]\n",
      " \\frac{E}{R}( ( 1-e^{-Rt/L}) )\n",
      "(E * R ^ -1) * (1 + -1 * e ^ ((-1 * (R * t)) * L ^ -1))\n",
      "SubString{String}[\"I\", \"\\\\frac{\\\\mathcal{E}}{R}e^{-t/\\\\tau_L}\", \"I_0e^{-Rt/L}\\\\,\\\\!\"]\n",
      "\\frac{E}{R}e^{-t/\\tau_L}\n",
      "(E * R ^ -1) * e ^ ((-1t) * tau_{L} ^ -1)\n",
      "SubString{String}[\"L\\\\frac{\\\\mathrm{d}^2q}{\\\\mathrm{d}t^2} + q/C \", \" \\\\mathcal{E}\\\\,\\\\!\"]\n",
      " E\n",
      "E\n",
      "SubString{String}[\"L\\\\frac{\\\\mathrm{d}^2q}{\\\\mathrm{d}t^2} + q/C \", \" \\\\mathcal{E} \\\\sin\\\\left(\\\\omega_0 t + \\\\phi \\\\right) \\\\,\\\\!\"]\n",
      " E \\sin((\\omega_0 t + \\phi )) \n",
      "E * sin(omega_{0} * t + phi)\n",
      "SubString{String}[\"\\\\omega_\\\\mathrm{res} \", \" 1/\\\\sqrt{LC}\\\\,\\\\!\"]\n",
      " 1/\\sqrt{LC}\n",
      "((C * L) ^ (1 / 2)) ^ -1\n",
      "SubString{String}[\"q \", \" q_0 \\\\cos(\\\\omega t + \\\\phi)\\\\,\\\\!\"]\n",
      " q_0 \\cos(\\omega t + \\phi)\n",
      "q_{0} * cos(omega * t + phi)\n",
      "SubString{String}[\"I\", \"-\\\\omega q_0 \\\\sin(\\\\omega t + \\\\phi)\\\\,\\\\!\"]\n",
      "-\\omega q_0 \\sin(\\omega t + \\phi)\n",
      "-1 * (omega * (q_{0} * sin(omega * t + phi)))\n",
      "SubString{String}[\"U_E\", \"q^2/2C\", \"Q^2\\\\cos^2(\\\\omega t + \\\\phi)/2C\\\\,\\\\!\"]\n",
      "q^2/2C\n",
      "q ^ 2 * (2C) ^ -1\n",
      "SubString{String}[\"U_B\", \"Q^2\\\\sin^2(\\\\omega t + \\\\phi)/2C\\\\,\\\\!\"]\n",
      "Q^2\\sin^2(\\omega t + \\phi)/2C\n",
      "(Q ^ 2 * sin(omega * t + phi) ^ 2) * (2C) ^ -1\n",
      "SubString{String}[\"L\\\\frac{\\\\mathrm{d}^2q}{\\\\mathrm{d}t^2} + R\\\\frac{\\\\mathrm{d}q}{\\\\mathrm{d}t} + \\\\frac{q}{C} \", \" \\\\mathcal{E} \\\\,\\\\!\"]\n",
      " E \n",
      "E\n",
      "SubString{String}[\" L\\\\frac{\\\\mathrm{d}^2q}{\\\\mathrm{d}t^2} + R\\\\frac{\\\\mathrm{d}q}{\\\\mathrm{d}t} + \\\\frac{q}{C} \", \" \\\\mathcal{E} \\\\sin\\\\left(\\\\omega_0 t + \\\\phi \\\\right) \\\\,\\\\!\"]\n",
      " E \\sin((\\omega_0 t + \\phi )) \n",
      "E * sin(omega_{0} * t + phi)\n",
      "SubString{String}[\"q \", \" q_0 eT^{-Rt/2L}\\\\cos(\\\\omega't+\\\\phi)\\\\,\\\\!\"]\n",
      " q_0 eT^{-Rt/2L}\\cos(\\omega't+\\phi)\n",
      "SubString{String}[\"The SI logo\"]\n",
      "SubString{String}[\"Wikipedia book\"]\n",
      "SubString{String}[\"Category\"]\n",
      "SubString{String}[\"\"]\n",
      "SubString{String}[\"Wikimedia Foundation\"]\n",
      "SubString{String}[\"Powered by MediaWiki\"]\n",
      "eqns = Dict{Any,Any}(\"Z\"=>:((R ^ 2 + (X_{L} + -1X_{C}) ^ 2) ^ (1 / 2)),\"I5\"=>:((E * R ^ -1) * e ^ ((-1t) * tau_{L} ^ -1)),\"L( ( d I/d t ) )\"=>:(-1 * (N * V)),\"M( ( d I_2/d t ) )\"=>:(-1 * (N * V_{1})),\"C\"=>:(dq * dV ^ -1),\"P\"=>:(d(p) * dV ^ -1),\"q_m2\"=>:(iiint * (rho_{m} * dV)),\"I4\"=>:((E * R ^ -1) * (1 + -1 * e ^ ((-1 * (R * t)) * L ^ -1))),\"Phi_{E}\"=>:(Integral(E, (:A,))),\"V1\"=>:(I * Z),\"Phi_{D}\"=>:(Integral(D, (:A,))),\"Delta * V\"=>:(-1 * Integral(E, (:r, Symbol(\"r_{1}\"), Symbol(\"r_{2}\")))),\"( P )\"=>:(E * (I_{mathrm} * ((r * (m * s)) * cos(phi)))),\"omega\"=>:(gamma * B),\"I_0\"=>:(I_{mathrm} * ((r * (m * s)) * 2 ^ (1 / 2))),\"m2\"=>:(2 ^ -1),\"V_L\"=>:(I_{L} * X_{L}),\"L * ((d ^ 2 * q) * (dt ^ 2) ^ -1) + q * C ^ -1\"=>:(E * sin(omega_{0} * t + phi)),\"R_{mathrm} * (e * (x * t))\"=>:((V_{mathrm} * (l * (o * (a * d)))) * I ^ -1),\"epsilon\"=>:(epsilon_{r} * epsilon_{0}),\"M1\"=>:(N * I),\"X_C\"=>:(omega_{dC} ^ -1),\"q_e1\"=>:(iint * (sigma_{e} * dS)),\"R_{mathrm} * (i * (n * t))\"=>:((V_{mathrm} * (t * (e * r))) * I ^ -1),\"q_e\"=>:(Integral(lambda_{e}, (:ell,))),\"B2\"=>:(nabla * A),\"V\"=>:(-1 * (W_{oo*r} * q ^ -1)),\"q_m1\"=>:(iint * (sigma_{m} * dS)),\"omega_{mathrm} * (r * (e * s))\"=>:(((C * L) ^ (1 / 2)) ^ -1),\"V_{s} * V_{p} ^ -1\"=>:(N_{s} * N_{p} ^ -1),\"R * Derivative(q, (:t, 1)) + q * C ^ -1\"=>:E,\"r_0\"=>:Inf,\"E1\"=>:(V_{mathrm} * (t * (e * r)) + V_{mathrm} * (l * (o * (a * d)))),\"I_{mathrm*(n*(e*t))}\"=>Symbol(\"I_{i}\"),\"H\"=>:(F * q_{m} ^ -1),\"q1\"=>:(C * (E * e ^ ((-1t) * (R * C) ^ -1))),\"I_m\"=>:dq,\"U_E\"=>:(q ^ 2 * (2C) ^ -1),\"m\"=>:(q_{m} * a),\"F\"=>:(q_{e}(v * timesB)),\"r_01\"=>:(R_{mathrm} * (e * (a * (r * (t * h))))),\"I6\"=>:(-1 * (omega * (q_{0} * sin(omega * t + phi)))),\"E_{mathrm} * (r * (m * s))\"=>:(E_{m} * (2 ^ (1 / 2)) ^ -1),\"L * Derivative(I, (:t, 1)) + R * I\"=>:E,\"B1\"=>:(mu * H),\"V_R\"=>:(I_{R} * R),\"L\"=>:(N(dPhi * dI ^ -1)),\"q2\"=>:(q_{0} * cos(omega * t + phi)),\"B\"=>:(nabla * A),\"I2\"=>:((iint * J_{m}) * dA),\"V_0\"=>:(V_{mathrm} * ((r * (m * s)) * 2 ^ (1 / 2))),\"M\"=>:(d(m) * dV ^ -1),\"M( ( d I_1/d t ) )\"=>:(-1 * (N * V_{2})),\"I1\"=>:(J * dS),\"I3\"=>:(mu * M),\"D\"=>:epsilonE,\"q_e2\"=>:(iiint * (rho_{e} * dV)),\"U_B\"=>:((Q ^ 2 * sin(omega * t + phi) ^ 2) * (2C) ^ -1),\"M_2\"=>:N,\"Phi_{B}\"=>:(Integral(B, (:A,))),\"m1\"=>:(N * (I * (A * (mathbf * (hat * n))))),\"q_m\"=>:(Integral(lambda_{m}, (:ell,))),\"V_C\"=>:(I_{C} * X_{C}),\"X_L\"=>Symbol(\"omega_{dL}\"),\"q\"=>:(C * E(1 + -1 * e ^ ((-1t) * (R * C) ^ -1))),\"(L * ((d ^ 2 * q) * (dt ^ 2) ^ -1) + R * Derivative(q, (:t, 1))) + q * C ^ -1\"=>:(E * sin(omega_{0} * t + phi)),\"tau_{C}\"=>:(R * C),\"A\"=>:(mu_{0} * (4pi) ^ -1),\"E3\"=>:((4 * (pi * epsilon_{0})) ^ -1),\"E2\"=>:(-1 * (nabla * V)),\"J_c\"=>:(rho * v),\"M_1\"=>:N,\"E\"=>:(F * q ^ -1),\"B({r})\"=>:(nabla * A),\"tan(phi)\"=>:((X_{L} + -1X_{C}) * R ^ -1),\"tau_{L}\"=>:(L * R ^ -1),\"I\"=>:(dq * dt ^ -1),\"J_d\"=>:(epsilon_{0}(dE * dt ^ -1)))\n"
     ]
    }
   ],
   "source": [
    "using HTTP, Cascadia, Gumbo, AbstractTrees\n",
    "\n",
    "url = \"https://en.wikipedia.org/wiki/List_of_electromagnetism_equations\"\n",
    "r = HTTP.get(url) # Normally, you'd put a url here, but I couldn't find a way to grab it without having to download it and read it locally\n",
    "h = parsehtml(String(r)) # Then normally you'd execute this\n",
    "\n",
    "# # Instead, I'm going to read in the html file as a string and give it to Gumbo\n",
    "# # h = parsehtml(read(\"em.html\", String))\n",
    "\n",
    "eqns = Dict()\n",
    "index = 0\n",
    "checkKey = false\n",
    "\n",
    "# # Exploring with the various structure of Gumbo objects:\n",
    "for elem in PreOrderDFS(h.root) \n",
    "    index = 0\n",
    "    checkKey = false\n",
    "    try\n",
    "        eq = getattr(elem,\"alt\")\n",
    "        eqn = split(eq,\"=\")\n",
    "        println(eqn)\n",
    "        println(fixEqn(eqn[2], eqnDict))\n",
    "        if haskey(eqns,strip(fixEqn(eqn[1], eqnDict)))\n",
    "            checkKey = true\n",
    "            while checkKey == true\n",
    "                index+=1\n",
    "                eqnCheck = string(strip(fixEqn(eqn[1], eqnDict)),string(index))\n",
    "                checkKey = haskey(eqns,eqnCheck)\n",
    "            end\n",
    "            eqn[1] = string(strip(fixEqn(eqn[1], eqnDict)),string(index))\n",
    "        else\n",
    "            eqn[1] = strip(fixEqn(eqn[1], eqnDict))\n",
    "        end\n",
    "        if occursin(\"\\\\\",eqn[1])\n",
    "            eqn[1] = string(latex2julia(eqn[1]))\n",
    "        end\n",
    "        eqn[2] = strip(fixEqn(eqn[2], eqnDict))\n",
    "        eqns[eqn[1]] = latex2julia(eqn[2])\n",
    "        println(eqns[eqn[1]])\n",
    "    catch\n",
    "    end\n",
    "end\n",
    "\n",
    "@show eqns\n",
    "\n",
    "# println(fieldnames(h.root))\n",
    "# println(fieldnames(h.root.children))\n",
    "# println(size(h.root.children))\n",
    "\n",
    "# aviks code:\n",
    "# c = matchall(Selector(\"td:containsOwn(\\\"CAN:\\\") + td span\"), h.root);\n",
    "# for x in c\n",
    "#     println( x.children[1].text )\n",
    "# end"
   ]
  },
  {
   "cell_type": "code",
   "execution_count": null,
   "metadata": {},
   "outputs": [],
   "source": [
    "# ENV[\"PYTHON\"] = \"C:/Users/ses/.julia/conda/3/python\"\n",
    "# using Pkg\n",
    "# Pkg.build(\"PyCall\")\n",
    "using PyCall"
   ]
  },
  {
   "cell_type": "code",
   "execution_count": null,
   "metadata": {},
   "outputs": [],
   "source": []
  },
  {
   "cell_type": "code",
   "execution_count": 5,
   "metadata": {},
   "outputs": [],
   "source": [
    "using SymPy"
   ]
  },
  {
   "cell_type": "code",
   "execution_count": 6,
   "metadata": {},
   "outputs": [],
   "source": [
    "# platex = SymPy.PyCall.pyimport(\"sympy.parsing.latex\")"
   ]
  },
  {
   "cell_type": "code",
   "execution_count": 7,
   "metadata": {},
   "outputs": [
    {
     "data": {
      "text/plain": [
       "mathematica2julia (generic function with 1 method)"
      ]
     },
     "execution_count": 7,
     "metadata": {},
     "output_type": "execute_result"
    }
   ],
   "source": [
    "const sympy_parsing_mathematica = SymPy.PyCall.pyimport(\"sympy.parsing.mathematica\")\n",
    "mathematica2julia(s::AbstractString, substitutions::Pair{<:AbstractString,<:AbstractString}...) =\n",
    "           SymPy.walk_expression(sympy_parsing_mathematica.\"mathematica\"(s, Dict(substitutions...)))"
   ]
  },
  {
   "cell_type": "code",
   "execution_count": 8,
   "metadata": {},
   "outputs": [
    {
     "data": {
      "text/plain": [
       ":(log(log(x)))"
      ]
     },
     "execution_count": 8,
     "metadata": {},
     "output_type": "execute_result"
    }
   ],
   "source": [
    "mathematica2julia(\"Log[Log[x]]\")"
   ]
  },
  {
   "cell_type": "code",
   "execution_count": 9,
   "metadata": {},
   "outputs": [
    {
     "data": {
      "text/plain": [
       "latex2julia (generic function with 1 method)"
      ]
     },
     "execution_count": 9,
     "metadata": {},
     "output_type": "execute_result"
    }
   ],
   "source": [
    "const sympy_parse_latex = SymPy.PyCall.pyimport(\"sympy.parsing.latex\")\n",
    "latex2julia(s::AbstractString) = SymPy.walk_expression(sympy_parse_latex.\"parse_latex\"(s))"
   ]
  },
  {
   "cell_type": "code",
   "execution_count": 10,
   "metadata": {},
   "outputs": [
    {
     "data": {
      "text/plain": [
       "lambda1 (generic function with 1 method)"
      ]
     },
     "execution_count": 10,
     "metadata": {},
     "output_type": "execute_result"
    }
   ],
   "source": [
    "function Integral(f,d;min=0.0,max=\"\")\n",
    "    if max == \"\"\n",
    "        integrate(f,symbols(string(d...)))\n",
    "    else\n",
    "        integrate(f,min,max)\n",
    "    end\n",
    "end\n",
    "\n",
    "l = symbols(\"l\")\n",
    "lambda1(l) = l^2\n",
    "\n",
    "# @eval $(latex2julia(\"\\\\int \\\\lambda dl\"))"
   ]
  },
  {
   "cell_type": "code",
   "execution_count": 11,
   "metadata": {},
   "outputs": [
    {
     "data": {
      "text/latex": [
       "\\begin{equation*}333.333333333333\\end{equation*}"
      ],
      "text/plain": [
       "333.333333333333"
      ]
     },
     "execution_count": 11,
     "metadata": {},
     "output_type": "execute_result"
    }
   ],
   "source": [
    "Integral(lambda1,(:l,),max=10.0)"
   ]
  },
  {
   "cell_type": "code",
   "execution_count": 63,
   "metadata": {},
   "outputs": [
    {
     "data": {
      "text/plain": [
       "fixEqn (generic function with 1 method)"
      ]
     },
     "execution_count": 63,
     "metadata": {},
     "output_type": "execute_result"
    }
   ],
   "source": [
    "function fixEqn(eqn,d)\n",
    "    for key in d\n",
    "        eqn = replace(eqn, key[1] => key[2])\n",
    "    end\n",
    "    return eqn\n",
    "end"
   ]
  },
  {
   "cell_type": "code",
   "execution_count": 102,
   "metadata": {},
   "outputs": [
    {
     "data": {
      "text/plain": [
       "Dict{Any,AbstractString} with 11 entries:\n",
       "  \"int_S\"           => \"int\"\n",
       "  \"\\\\rangle\"        => \")\"\n",
       "  \"\\\\,\\\\!\"          => \"\"\n",
       "  \"\\\\left\"          => \"(\"\n",
       "  r\"\\\\partial\"      => s\"d\"\n",
       "  r\"\\\\mathcal{(.)}\" => s\"\\\\1\"\n",
       "  \"\\\\right\"         => \")\"\n",
       "  r\"\\\\mathbf{(.)}\"  => s\"\\\\1\"\n",
       "  \"\\\\,\"             => \"\"\n",
       "  \"\\\\langle\"        => \"(\"\n",
       "  r\"\\\\mathrm{(.)}\"  => s\"\\\\1\""
      ]
     },
     "execution_count": 102,
     "metadata": {},
     "output_type": "execute_result"
    }
   ],
   "source": [
    "eqnDict = Dict(\n",
    "    r\"\\\\mathrm{(.)}\" => s\"\\1\",\n",
    "    r\"\\\\mathbf{(.)}\" => s\"\\1\",\n",
    "    r\"\\\\mathcal{(.)}\" => s\"\\1\",\n",
    "    \"\\\\left\" => \"(\",\n",
    "    \"\\\\right\" => \")\",\n",
    "    r\"\\\\partial\" => s\"d\",\n",
    "    \"\\\\,\\\\!\" => \"\",\n",
    "    \"\\\\,\" => \"\",\n",
    "    \"\\\\langle\" => \"(\",\n",
    "    \"\\\\rangle\" => \")\",\n",
    "    \"int_S\" => \"int\",\n",
    ")"
   ]
  },
  {
   "cell_type": "code",
   "execution_count": 75,
   "metadata": {},
   "outputs": [
    {
     "name": "stdout",
     "output_type": "stream",
     "text": [
      "\\int \\lambda_e \\mathbf{T} \\mathrm{d}\\ell\\,\\!\n"
     ]
    },
    {
     "data": {
      "text/plain": [
       ":(Integral(lambda_{e} * T, (:ell,)))"
      ]
     },
     "execution_count": 75,
     "metadata": {},
     "output_type": "execute_result"
    }
   ],
   "source": [
    "eqn = \"\\\\int \\\\lambda_e \\\\mathbf{T} \\\\mathrm{d}\\\\ell\\\\,\\\\!\"\n",
    "println(eqn)\n",
    "eqn = fixEqn(eqn,eqnDict)\n",
    "latex2julia(eqn)"
   ]
  },
  {
   "cell_type": "code",
   "execution_count": null,
   "metadata": {},
   "outputs": [],
   "source": []
  }
 ],
 "metadata": {
  "kernelspec": {
   "display_name": "Julia 1.1.1",
   "language": "julia",
   "name": "julia-1.1"
  },
  "language_info": {
   "file_extension": ".jl",
   "mimetype": "application/julia",
   "name": "julia",
   "version": "1.1.1"
  }
 },
 "nbformat": 4,
 "nbformat_minor": 2
}
