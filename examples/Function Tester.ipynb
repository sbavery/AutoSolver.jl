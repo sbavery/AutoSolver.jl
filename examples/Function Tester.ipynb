{
 "cells": [
  {
   "cell_type": "code",
   "execution_count": 1,
   "metadata": {},
   "outputs": [
    {
     "data": {
      "text/plain": [
       "Main.AutoSolver"
      ]
     },
     "execution_count": 1,
     "metadata": {},
     "output_type": "execute_result"
    }
   ],
   "source": [
    "using Unitful\n",
    "include(\"../src/AutoSolver.jl\")"
   ]
  },
  {
   "cell_type": "code",
   "execution_count": 2,
   "metadata": {},
   "outputs": [
    {
     "data": {
      "text/plain": [
       "Main.physics"
      ]
     },
     "execution_count": 2,
     "metadata": {},
     "output_type": "execute_result"
    }
   ],
   "source": [
    "# include(\"../../AstroKit.jl/src/AstroKit.jl\")\n",
    "include(\"../../SciBase.jl/src/SciBase.jl\")"
   ]
  },
  {
   "cell_type": "code",
   "execution_count": 3,
   "metadata": {},
   "outputs": [],
   "source": [
    "# # Displacement\n",
    "# disp(x0,x) = x-x0\n",
    "# dispConstAcc1(v0,a,t) = v0*t+1/2*a*t^2\n",
    "# dispConstAcc2(v0,v,t) = ((v+v0)/2)*t\n",
    "# # Velocity\n",
    "# avgVel(x0,x,t0,t) = (x-x0)/(t-t0)\n",
    "# velConstAcc1(v0,a,t) = v0+a*t\n",
    "# velConstAcc2(x0,x,v0,a) = sqrt(v0^2+2*a*(x-x0))\n",
    "# # Acceleration\n",
    "# accConst(x0,x,v0,v) = (v^2-v0^2)/(2*(x-x0))"
   ]
  },
  {
   "cell_type": "code",
   "execution_count": 4,
   "metadata": {},
   "outputs": [],
   "source": [
    "# # ve = 10u\"km/s\"\n",
    "# # mi = 200u\"kg\"\n",
    "# # mf = 80u\"kg\"\n",
    "# # f = 2.4u\"GHz\"\n",
    "# x0 = 1.0u\"m\"\n",
    "# x = 2.0u\"m\"\n",
    "# v0 = 1.0u\"m/s\"\n",
    "# v = 2.0u\"m/s\"\n",
    "\n",
    "# mods = Module[]\n",
    "# AutoSolver.submodules(physics, mods)\n",
    "# # mods = [Main]\n",
    "# # mods = [AstroKit]\n",
    "\n",
    "# outputs = AutoSolver.autoSolveOutputs(mods)\n"
   ]
  },
  {
   "cell_type": "code",
   "execution_count": null,
   "metadata": {
    "scrolled": true
   },
   "outputs": [],
   "source": [
    "# mods = Module[]\n",
    "# funcs = Dict()\n",
    "# AutoSolver.submodules(physics, mods)\n",
    "# AutoSolver.moduleDict(Main.physics.kinematics, funcs)\n",
    "# mods"
   ]
  },
  {
   "cell_type": "code",
   "execution_count": 5,
   "metadata": {},
   "outputs": [],
   "source": [
    "# out_d, in_d = AutoSolver.varExplodeDict(funcs)\n",
    "# inp_map, out_map = AutoSolver.crossVarMap(in_d,out_d)\n",
    "# inp_map"
   ]
  },
  {
   "cell_type": "code",
   "execution_count": 6,
   "metadata": {},
   "outputs": [],
   "source": [
    "# import Pkg; Pkg.add(\"XLSX\")"
   ]
  },
  {
   "cell_type": "code",
   "execution_count": 7,
   "metadata": {},
   "outputs": [],
   "source": [
    "using XLSX"
   ]
  },
  {
   "cell_type": "markdown",
   "metadata": {},
   "source": [
    "# Create Spreadsheet Template"
   ]
  },
  {
   "cell_type": "code",
   "execution_count": 17,
   "metadata": {},
   "outputs": [
    {
     "data": {
      "text/plain": [
       "autoSolveTemplate (generic function with 1 method)"
      ]
     },
     "execution_count": 17,
     "metadata": {},
     "output_type": "execute_result"
    }
   ],
   "source": [
    "function autoSolveTemplate(mod::Module;filePath::String=\"\",overwrite=false)\n",
    "    mods = Module[]\n",
    "    AutoSolver.submodules(mod, mods) \n",
    "    mod_name = AutoSolver.modName(mod)\n",
    "    \n",
    "    if isfile(\"$(filePath)AS_$(mod_name).xlsx\") && overwrite == false\n",
    "        println(\"ERROR: $(filePath)AS_$(mod_name).xlsx already exists\")\n",
    "        return\n",
    "    elseif !isdir(filePath) && filePath != \"\"\n",
    "        mkdir(filePath)\n",
    "    end\n",
    "\n",
    "    XLSX.openxlsx(\"$(filePath)AS_$(mod_name).xlsx\", mode=\"w\") do xf\n",
    "        XLSX.addsheet!(xf)\n",
    "        XLSX.addsheet!(xf)\n",
    "        sh1 = xf[1]\n",
    "        sh2 = xf[2]\n",
    "        sh3 = xf[3]\n",
    "        XLSX.rename!(sh1, \"Input Map\")\n",
    "        XLSX.rename!(sh2, \"Inputs\")\n",
    "        XLSX.rename!(sh3, \"Outputs\")\n",
    "\n",
    "        sh1[1,1] = \"Module\"\n",
    "        sh1[1,2] = \"Function\"\n",
    "        sh1[1,3] = \"Input Variable\"\n",
    "        sh1[1,4] = \"Input Map\"\n",
    "\n",
    "        sh2[1,1] = \"Input Variable\"\n",
    "        sh2[1,2] = \"Input\"\n",
    "        sh2[1,3] = \"Units\"\n",
    "\n",
    "        sh3[1,1] = \"Module\"\n",
    "        sh3[1,2] = \"Function\"\n",
    "        sh3[1,3] = \"Output\"\n",
    "        sh3[1,4] = \"Units\"\n",
    "\n",
    "        r1 = 2\n",
    "        r2 = 2\n",
    "        r3 = 2\n",
    "        new_input = 0\n",
    "        \n",
    "        for submod in mods\n",
    "            funcs = Dict()\n",
    "            AutoSolver.moduleDict(submod, funcs)\n",
    "            submod_name = AutoSolver.modName(submod)\n",
    "\n",
    "            for func in funcs \n",
    "                sh1[r1,1] = submod_name\n",
    "                sh1[r1,2] = string(func[1])\n",
    "\n",
    "                for i = 1:length(func[2])\n",
    "                    sh1[r1,3] = string(func[2][i])\n",
    "                    sh1[r1,4] = string(func[2][i])\n",
    "                    r1+=1\n",
    "\n",
    "                    for j = 2:r2\n",
    "                        if string(sh2[j,1]) == string(func[2][i])\n",
    "                            new_input = 0\n",
    "                            break\n",
    "                        else\n",
    "                            new_input = 1\n",
    "                        end\n",
    "                    end\n",
    "                    if new_input == 1\n",
    "                        sh2[r2,1] = string(func[2][i])\n",
    "                        r2+=1\n",
    "                    end\n",
    "                end\n",
    "            end\n",
    "\n",
    "            for func in funcs      \n",
    "                sh3[r3,1] = submod_name\n",
    "                sh3[r3,2] = string(func[1])\n",
    "                sh3[r3,3] = \"-\"\n",
    "                sh3[r3,4] = \"-\"\n",
    "                r3+=1\n",
    "            end\n",
    "        end\n",
    "    end\n",
    "end"
   ]
  },
  {
   "cell_type": "code",
   "execution_count": 18,
   "metadata": {},
   "outputs": [
    {
     "name": "stdout",
     "output_type": "stream",
     "text": [
      "ERROR: C:/Users/ses/Documents/AutoSolver/AS_physics.xlsx already exists\n"
     ]
    }
   ],
   "source": [
    "autoSolveTemplate(physics, filePath=\"C:/Users/ses/Documents/AutoSolver/\", overwrite=false)"
   ]
  },
  {
   "cell_type": "markdown",
   "metadata": {},
   "source": [
    "# Update Spreadsheet Mapping"
   ]
  },
  {
   "cell_type": "code",
   "execution_count": 19,
   "metadata": {},
   "outputs": [
    {
     "data": {
      "text/plain": [
       "inputMapFromXLSX (generic function with 1 method)"
      ]
     },
     "execution_count": 19,
     "metadata": {},
     "output_type": "execute_result"
    }
   ],
   "source": [
    "function inputMapFromXLSX(xf::XLSX.XLSXFile)\n",
    "    sh = xf[\"Input Map\"]\n",
    "    inp_map = Dict()\n",
    "    \n",
    "    for (i,r) in enumerate(XLSX.eachrow(sh))\n",
    "        if i == 1; continue; end\n",
    "        if !haskey(inp_map, r[3]); inp_map[r[3]] = []; end\n",
    "        if !(r[4] in inp_map[r[3]]); push!(inp_map[r[3]],r[4]); end\n",
    "    end\n",
    "\n",
    "    return inp_map\n",
    "end"
   ]
  },
  {
   "cell_type": "code",
   "execution_count": 20,
   "metadata": {},
   "outputs": [
    {
     "data": {
      "text/plain": [
       "inputsFromXLSX (generic function with 1 method)"
      ]
     },
     "execution_count": 20,
     "metadata": {},
     "output_type": "execute_result"
    }
   ],
   "source": [
    "function inputsFromXLSX(xf::XLSX.XLSXFile)\n",
    "    sh = xf[\"Inputs\"]\n",
    "    \n",
    "    for (i,r) in enumerate(XLSX.eachrow(sh))\n",
    "        if i == 1; continue; end\n",
    "        if ismissing(@eval $(r[2])); continue; end\n",
    "        if ismissing(@eval $(r[3]))\n",
    "            @eval $(Symbol(r[1])) = (@eval $(r[2]))\n",
    "        else\n",
    "            @eval $(Symbol(r[1])) = (@eval $(r[2])) * (@eval @u_str $(r[3]))\n",
    "        end\n",
    "    end\n",
    "end"
   ]
  },
  {
   "cell_type": "code",
   "execution_count": 21,
   "metadata": {},
   "outputs": [
    {
     "data": {
      "text/plain": [
       "outputToXLSX (generic function with 1 method)"
      ]
     },
     "execution_count": 21,
     "metadata": {},
     "output_type": "execute_result"
    }
   ],
   "source": [
    "function outputToXLSX(xf::XLSX.XLSXFile, outputs::Dict)\n",
    "    sh = xf[\"Outputs\"]\n",
    "  \n",
    "    for (i, r) in enumerate(XLSX.eachrow(sh))\n",
    "        if i == 1; continue; end\n",
    "        func = Symbol(r[2])\n",
    "        if haskey(outputs,func)\n",
    "            sh[i,3] = string(ustrip(outputs[func]))\n",
    "            sh[i,4] = string(unit(outputs[func]))\n",
    "        end\n",
    "    end\n",
    "end"
   ]
  },
  {
   "cell_type": "code",
   "execution_count": 26,
   "metadata": {},
   "outputs": [
    {
     "name": "stdout",
     "output_type": "stream",
     "text": [
      "mod = Main.physics\n",
      "mod = Main.physics.dynamics\n",
      "::::MODULE Main.physics.dynamics::::\n",
      "\n",
      "Func: fReact(:F_in,)\n",
      "Inputs:\n",
      "F_in = 5 N\n",
      "Output: -5 N\n",
      "\n",
      "Func: F(:m, :a)\n",
      "Inputs:\n",
      "m = 5 kg\n",
      "a = 1 m s^-2\n",
      "Output: 5 kg m s^-2\n",
      "\n",
      "outputs = Dict{Any,Any}(:fReact=>-5 N,:F=>5 kg m s^-2)\n",
      "\n",
      "mod = Main.physics.kinematics\n",
      "::::MODULE Main.physics.kinematics::::\n",
      "\n",
      "Func: a(:x0, :x, :v0, :v)\n",
      "Inputs:\n",
      "x0 = 1 m\n",
      "x = 2 m\n",
      "v0 = 1 m s^-1\n",
      "vConstAcc1 = 1.7320508075688772 m s^-1\n",
      "Output: 0.9999999999999998 m s^-2\n",
      "\n",
      "Func: vConstAcc1(:x0, :x, :v0, :a)\n",
      "Inputs:\n",
      "x0 = 1 m\n",
      "x = 2 m\n",
      "v0 = 1 m s^-1\n",
      "a = 1 m s^-2\n",
      "Output: 1.7320508075688772 m s^-1\n",
      "\n",
      "Func: xAbs(:x0, :x)\n",
      "Inputs:\n",
      "x0 = 1 m\n",
      "x = 2 m\n",
      "Output: 1 m\n",
      "\n",
      "outputs = Dict{Any,Any}(:fReact=>-5 N,:a=>1.0 m s^-2,:F=>5 kg m s^-2,:vConstAcc1=>1.73205 m s^-1,:xAbs=>1 m)\n",
      "\n"
     ]
    }
   ],
   "source": [
    "inp_map = Dict()\n",
    "filePath=\"C:/Users/ses/Documents/AutoSolver/\"\n",
    "mod = physics\n",
    "XLSX.openxlsx(\"$(filePath)AS_$(mod_name).xlsx\", mode=\"rw\") do xf\n",
    "    inp_map = inputMapFromXLSX(xf)\n",
    "    inputsFromXLSX(xf)\n",
    "end\n",
    "\n",
    "mods = Module[]\n",
    "AutoSolver.submodules(mod, mods)\n",
    "# mods = [Main]\n",
    "# mods = [AstroKit]\n",
    "\n",
    "outputs = AutoSolver.autoSolveOutputs(mods, inp_map = inp_map)\n",
    "\n",
    "XLSX.openxlsx(\"$(filePath)AS_$(mod_name).xlsx\", mode=\"rw\") do xf\n",
    "    outputToXLSX(xf,outputs)\n",
    "end"
   ]
  },
  {
   "cell_type": "code",
   "execution_count": null,
   "metadata": {},
   "outputs": [],
   "source": []
  },
  {
   "cell_type": "code",
   "execution_count": null,
   "metadata": {},
   "outputs": [],
   "source": []
  },
  {
   "cell_type": "markdown",
   "metadata": {},
   "source": [
    "# Archive"
   ]
  },
  {
   "cell_type": "code",
   "execution_count": null,
   "metadata": {},
   "outputs": [],
   "source": [
    "mod = AutoSolver.modName(mods[1])\n",
    "\n",
    "XLSX.openxlsx(\"AS_$(mod).xlsx\", mode=\"w\") do xf\n",
    "    XLSX.addsheet!(xf)\n",
    "    XLSX.addsheet!(xf)\n",
    "    sh1 = xf[1]\n",
    "    sh2 = xf[2]\n",
    "    sh3 = xf[3]\n",
    "    XLSX.rename!(sh1, \"Inputs\")\n",
    "    XLSX.rename!(sh2, \"Input Set\")\n",
    "    XLSX.rename!(sh3, \"Outputs\")\n",
    "    \n",
    "    sh1[1,1] = \"Module\"\n",
    "    sh1[1,2] = \"Function\"\n",
    "    sh1[1,3] = \"Input Variable\"\n",
    "    sh1[1,4] = \"Input\"\n",
    "    sh1[1,5] = \"Units\"\n",
    "    \n",
    "    sh2[1,1] = \"Input Variable\"\n",
    "    sh2[1,2] = \"Input\"\n",
    "    sh2[1,3] = \"Units\"\n",
    "    \n",
    "    sh3[1,1] = \"Module\"\n",
    "    sh3[1,2] = \"Function\"\n",
    "    sh3[1,3] = \"Input Variables\"\n",
    "    sh3[1,4] = \"Inputs\"\n",
    "    sh3[1,5] = \"Units\"\n",
    "    sh3[1,6] = \"Input Map\"\n",
    "    sh3[1,7] = \"Output Map\"\n",
    "    sh3[1,8] = \"Output\"\n",
    "    sh3[1,9] = \"Units\"\n",
    "    \n",
    "    r1 = 2\n",
    "    r2 = 2\n",
    "    r3 = 2\n",
    "    new_input = 0\n",
    "    \n",
    "    for func in funcs \n",
    "        sh1[r1,1] = AutoSolver.modName(mods[2])\n",
    "        sh1[r1,2] = string(func[1])\n",
    "        \n",
    "        for i = 1:length(func[2])\n",
    "            sh1[r1,3] = string(func[2][i])\n",
    "            r1+=1\n",
    "            \n",
    "            for j = 2:r2\n",
    "                if string(sh2[j,3]) == string(func[2][i])\n",
    "                    new_input = 0\n",
    "                    break\n",
    "                else\n",
    "                    new_input = 1\n",
    "                end\n",
    "            end\n",
    "            if new_input == 1\n",
    "                sh2[r2,1] = string(func[2][i])\n",
    "                r2+=1\n",
    "            end\n",
    "        end\n",
    "    end\n",
    "    \n",
    "    for func in funcs\n",
    "        inp_str = string(func[2][1])\n",
    "        inp_map = string(\"[\",func[2][1],\"]\")\n",
    "        out_map = string(\"[\",func[1],\"]\")\n",
    "        \n",
    "        sh3[r3,1] = AutoSolver.modName(mods[2])\n",
    "        sh3[r3,2] = string(func[1])\n",
    "\n",
    "        for i = 2:length(func[2])\n",
    "            inp_str = string(inp_str,\",\",func[2][i])\n",
    "            inp_map = string(inp_map,\",\",\"[\",func[2][i],\"]\")\n",
    "        end\n",
    "        \n",
    "        sh3[r3,3] = inp_str\n",
    "        sh3[r3,6] = inp_map\n",
    "        sh3[r3,7] = out_map\n",
    "        sh3[r3,8] = \"-\"\n",
    "        sh3[r3,9] = \"-\"\n",
    "        r3+=1\n",
    "    end\n",
    "end"
   ]
  },
  {
   "cell_type": "code",
   "execution_count": null,
   "metadata": {},
   "outputs": [],
   "source": [
    "inputs = [:x,:y,:z]\n",
    "inp_str = string(inputs[1])\n",
    "for i = 2:length(inputs)\n",
    "    inp_str = string(inp_str,\",\",string(inputs[i]))\n",
    "end\n",
    "\n",
    "inp = [1.0,2.0,3]\n",
    "units = [\"m\",\"km\",\"N\"]\n",
    "\n",
    "XLSX.openxlsx(\"autosolve.xlsx\", mode=\"w\") do xf\n",
    "    sh = xf[2]\n",
    "    XLSX.rename!(sh, \"Outputs\")\n",
    "    \n",
    "    sh[1,1] = \"Output Variable\"\n",
    "    sh[1,2] = \"Output\"\n",
    "    sh[1,3] = \"Units\"\n",
    "    sh[1,5] = \"Input Variables\"\n",
    "    sh[1,6] = \"Inputs\"\n",
    "    sh[1,7] = \"Units\"\n",
    "    \n",
    "    row = 2\n",
    "    \n",
    "    for out in outputs\n",
    "        sh[row,1] = string(out[1])\n",
    "        sh[row,2] = string(ustrip(out[2]))\n",
    "        sh[row,3] = string(unit(out[2]))\n",
    "        sh[row,5] = inp_str\n",
    "        sh[row,6] = string(inp)\n",
    "        sh[row,7] = string(units)\n",
    "        row+=1\n",
    "    end\n",
    "end"
   ]
  },
  {
   "cell_type": "code",
   "execution_count": null,
   "metadata": {},
   "outputs": [],
   "source": [
    "\n"
   ]
  },
  {
   "cell_type": "code",
   "execution_count": null,
   "metadata": {},
   "outputs": [],
   "source": []
  }
 ],
 "metadata": {
  "kernelspec": {
   "display_name": "Julia 1.1.1",
   "language": "julia",
   "name": "julia-1.1"
  },
  "language_info": {
   "file_extension": ".jl",
   "mimetype": "application/julia",
   "name": "julia",
   "version": "1.1.1"
  }
 },
 "nbformat": 4,
 "nbformat_minor": 2
}
