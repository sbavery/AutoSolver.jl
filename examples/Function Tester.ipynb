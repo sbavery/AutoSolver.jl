{
 "cells": [
  {
   "cell_type": "code",
   "execution_count": 13,
   "metadata": {},
   "outputs": [
    {
     "name": "stderr",
     "output_type": "stream",
     "text": [
      "WARNING: replacing module AutoSolver.\n"
     ]
    },
    {
     "data": {
      "text/plain": [
       "Main.AutoSolver"
      ]
     },
     "execution_count": 13,
     "metadata": {},
     "output_type": "execute_result"
    }
   ],
   "source": [
    "using Unitful\n",
    "include(\"../src/AutoSolver.jl\")"
   ]
  },
  {
   "cell_type": "code",
   "execution_count": 2,
   "metadata": {},
   "outputs": [
    {
     "data": {
      "text/plain": [
       "Main.physics"
      ]
     },
     "execution_count": 2,
     "metadata": {},
     "output_type": "execute_result"
    }
   ],
   "source": [
    "# include(\"../../AstroKit.jl/src/AstroKit.jl\")\n",
    "include(\"../../SciBase.jl/src/SciBase.jl\")"
   ]
  },
  {
   "cell_type": "code",
   "execution_count": 3,
   "metadata": {},
   "outputs": [
    {
     "data": {
      "text/plain": [
       "accConst (generic function with 1 method)"
      ]
     },
     "execution_count": 3,
     "metadata": {},
     "output_type": "execute_result"
    }
   ],
   "source": [
    "# Displacement\n",
    "disp(x0,x) = x-x0\n",
    "dispConstAcc1(v0,a,t) = v0*t+1/2*a*t^2\n",
    "dispConstAcc2(v0,v,t) = ((v+v0)/2)*t\n",
    "# Velocity\n",
    "avgVel(x0,x,t0,t) = (x-x0)/(t-t0)\n",
    "velConstAcc1(v0,a,t) = v0+a*t\n",
    "velConstAcc2(x0,x,v0,a) = sqrt(v0^2+2*a*(x-x0))\n",
    "# Acceleration\n",
    "accConst(x0,x,v0,v) = (v^2-v0^2)/(2*(x-x0))"
   ]
  },
  {
   "cell_type": "code",
   "execution_count": 4,
   "metadata": {},
   "outputs": [
    {
     "data": {
      "text/plain": [
       "0.04215618026705379 m"
      ]
     },
     "execution_count": 4,
     "metadata": {},
     "output_type": "execute_result"
    }
   ],
   "source": [
    "physics.kinematics.maxHeight(1u\"m/s\",2u\"rad\")"
   ]
  },
  {
   "cell_type": "code",
   "execution_count": 14,
   "metadata": {},
   "outputs": [
    {
     "name": "stdout",
     "output_type": "stream",
     "text": [
      "mod = Main.physics\n",
      "mod = Main.physics.kinematics\n",
      "::::MODULE Main.physics.kinematics::::\n",
      "\n",
      "Func: disp(:x0, :x)\n",
      "Inputs:\n",
      "x0 = 1.0 m\n",
      "x = 2.0 m\n",
      "Output: 1.0 m\n",
      "\n",
      "Func: accConst(:x0, :x, :v0, :v)\n",
      "Inputs:\n",
      "x0 = 1.0 m\n",
      "x = 2.0 m\n",
      "v0 = 1.0 m s^-1\n",
      "v = 2.0 m s^-1\n",
      "Output: 1.5 m s^-2\n",
      "\n",
      "Func: velConstAcc2(:x0, :x, :v0, :a)\n",
      "Inputs:\n",
      "x0 = 1.0 m\n",
      "x = 2.0 m\n",
      "v0 = 1.0 m s^-1\n",
      "accConst = 1.5 m s^-2\n",
      "Output: 2.0 m s^-1\n",
      "\n",
      "outputs = Dict{Any,Any}(:disp=>1.0 m,:accConst=>1.5 m s^-2,:velConstAcc2=>2.0 m s^-1)\n",
      "\n"
     ]
    },
    {
     "data": {
      "text/plain": [
       "Dict{Any,Any} with 3 entries:\n",
       "  :disp         => 1.0 m\n",
       "  :accConst     => 1.5 m s^-2\n",
       "  :velConstAcc2 => 2.0 m s^-1"
      ]
     },
     "execution_count": 14,
     "metadata": {},
     "output_type": "execute_result"
    }
   ],
   "source": [
    "# ve = 10u\"km/s\"\n",
    "# mi = 200u\"kg\"\n",
    "# mf = 80u\"kg\"\n",
    "# f = 2.4u\"GHz\"\n",
    "x0 = 1.0u\"m\"\n",
    "x = 2.0u\"m\"\n",
    "v0 = 1.0u\"m/s\"\n",
    "v = 2.0u\"m/s\"\n",
    "\n",
    "mods = Module[]\n",
    "AutoSolver.submodules(physics, mods)\n",
    "# mods = [Main]\n",
    "# mods = [AstroKit]\n",
    "\n",
    "outputs = AutoSolver.autoSolveOutputs(mods)\n"
   ]
  },
  {
   "cell_type": "code",
   "execution_count": 6,
   "metadata": {},
   "outputs": [
    {
     "name": "stdout",
     "output_type": "stream",
     "text": [
      "\u001b[32m\u001b[1m  Updating\u001b[22m\u001b[39m registry at `C:\\Users\\ses\\.julia\\registries\\General`\n",
      "\u001b[32m\u001b[1m  Updating\u001b[22m\u001b[39m git-repo `https://github.com/JuliaRegistries/General.git`\n",
      "\u001b[2K\u001b[?25h[1mFetching:\u001b[22m\u001b[39m [========================================>]  100.0 %.0 %\u001b[32m\u001b[1m Resolving\u001b[22m\u001b[39m package versions...\n",
      "\u001b[32m\u001b[1m Installed\u001b[22m\u001b[39m JLD2 ─ v0.1.7\n",
      "\u001b[32m\u001b[1m  Updating\u001b[22m\u001b[39m `C:\\Users\\ses\\.julia\\environments\\v1.1\\Project.toml`\n",
      "\u001b[90m [no changes]\u001b[39m\n",
      "\u001b[32m\u001b[1m  Updating\u001b[22m\u001b[39m `C:\\Users\\ses\\.julia\\environments\\v1.1\\Manifest.toml`\n",
      " \u001b[90m [033835bb]\u001b[39m\u001b[93m ↑ JLD2 v0.1.6 ⇒ v0.1.7\u001b[39m\n"
     ]
    }
   ],
   "source": [
    "import Pkg; Pkg.add(\"XLSX\")"
   ]
  },
  {
   "cell_type": "code",
   "execution_count": 7,
   "metadata": {},
   "outputs": [],
   "source": [
    "using XLSX"
   ]
  },
  {
   "cell_type": "code",
   "execution_count": 25,
   "metadata": {},
   "outputs": [],
   "source": [
    "XLSX.openxlsx(\"autosolve.xlsx\", mode=\"w\") do xf\n",
    "    sh = xf[1]\n",
    "    XLSX.rename!(sh, \"Outputs\")\n",
    "    \n",
    "    sh[1,1] = \"Output Variable\"\n",
    "    sh[1,2] = \"Value\"\n",
    "    sh[1,3] = \"Units\"\n",
    "    \n",
    "    row = 2\n",
    "    \n",
    "    for out in outputs\n",
    "        sh[row,1] = string(out[1])\n",
    "        sh[row,2] = string(ustrip(out[2]))\n",
    "        sh[row,3] = string(unit(out[2]))\n",
    "        row+=1\n",
    "    end\n",
    "end"
   ]
  },
  {
   "cell_type": "code",
   "execution_count": null,
   "metadata": {},
   "outputs": [],
   "source": []
  },
  {
   "cell_type": "code",
   "execution_count": null,
   "metadata": {},
   "outputs": [],
   "source": []
  }
 ],
 "metadata": {
  "kernelspec": {
   "display_name": "Julia 1.1.1",
   "language": "julia",
   "name": "julia-1.1"
  },
  "language_info": {
   "file_extension": ".jl",
   "mimetype": "application/julia",
   "name": "julia",
   "version": "1.1.1"
  }
 },
 "nbformat": 4,
 "nbformat_minor": 2
}
