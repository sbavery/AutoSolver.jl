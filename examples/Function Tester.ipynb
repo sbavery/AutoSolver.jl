{
 "cells": [
  {
   "cell_type": "code",
   "execution_count": null,
   "metadata": {},
   "outputs": [],
   "source": [
    "using Unitful\n",
    "include(\"../src/AutoSolver.jl\")"
   ]
  },
  {
   "cell_type": "code",
   "execution_count": null,
   "metadata": {},
   "outputs": [],
   "source": [
    "# include(\"../../AstroKit.jl/src/AstroKit.jl\")\n",
    "include(\"../../SciBase.jl/src/SciBase.jl\")"
   ]
  },
  {
   "cell_type": "code",
   "execution_count": null,
   "metadata": {},
   "outputs": [],
   "source": [
    "# # Displacement\n",
    "# disp(x0,x) = x-x0\n",
    "# dispConstAcc1(v0,a,t) = v0*t+1/2*a*t^2\n",
    "# dispConstAcc2(v0,v,t) = ((v+v0)/2)*t\n",
    "# # Velocity\n",
    "# avgVel(x0,x,t0,t) = (x-x0)/(t-t0)\n",
    "# velConstAcc1(v0,a,t) = v0+a*t\n",
    "# velConstAcc2(x0,x,v0,a) = sqrt(v0^2+2*a*(x-x0))\n",
    "# # Acceleration\n",
    "# accConst(x0,x,v0,v) = (v^2-v0^2)/(2*(x-x0))"
   ]
  },
  {
   "cell_type": "code",
   "execution_count": null,
   "metadata": {},
   "outputs": [],
   "source": [
    "# # ve = 10u\"km/s\"\n",
    "# # mi = 200u\"kg\"\n",
    "# # mf = 80u\"kg\"\n",
    "# # f = 2.4u\"GHz\"\n",
    "# x0 = 1.0u\"m\"\n",
    "# x = 2.0u\"m\"\n",
    "# v0 = 1.0u\"m/s\"\n",
    "# v = 2.0u\"m/s\"\n",
    "\n",
    "# mods = Module[]\n",
    "# AutoSolver.submodules(physics, mods)\n",
    "# # mods = [Main]\n",
    "# # mods = [AstroKit]\n",
    "\n",
    "# outputs = AutoSolver.autoSolveOutputs(mods)\n"
   ]
  },
  {
   "cell_type": "code",
   "execution_count": null,
   "metadata": {
    "scrolled": true
   },
   "outputs": [],
   "source": [
    "# mods = Module[]\n",
    "# funcs = Dict()\n",
    "# AutoSolver.submodules(physics, mods)\n",
    "# AutoSolver.moduleDict(Main.physics.kinematics, funcs)\n",
    "# mods"
   ]
  },
  {
   "cell_type": "code",
   "execution_count": null,
   "metadata": {},
   "outputs": [],
   "source": [
    "# out_d, in_d = AutoSolver.varExplodeDict(funcs)\n",
    "# inp_map, out_map = AutoSolver.crossVarMap(in_d,out_d)\n",
    "# inp_map"
   ]
  },
  {
   "cell_type": "code",
   "execution_count": null,
   "metadata": {},
   "outputs": [],
   "source": [
    "# import Pkg; Pkg.add(\"XLSX\")"
   ]
  },
  {
   "cell_type": "code",
   "execution_count": null,
   "metadata": {},
   "outputs": [],
   "source": [
    "using XLSX"
   ]
  },
  {
   "cell_type": "markdown",
   "metadata": {},
   "source": [
    "# Create Spreadsheet Template"
   ]
  },
  {
   "cell_type": "code",
   "execution_count": null,
   "metadata": {},
   "outputs": [],
   "source": [
    "function autoSolveTemplate(mod::Module;filePath::String=\"\",overwrite=false)\n",
    "    mods = Module[]\n",
    "    AutoSolver.submodules(mod, mods) \n",
    "    mod_name = AutoSolver.modName(mod)\n",
    "    \n",
    "    if isfile(\"$(filePath)AS_$(mod_name).xlsx\") && overwrite == false\n",
    "        println(\"ERROR: $(filePath)AS_$(mod_name).xlsx already exists\")\n",
    "        return\n",
    "    elseif !isdir(filePath) && filePath != \"\"\n",
    "        mkdir(filePath)\n",
    "    end\n",
    "\n",
    "    XLSX.openxlsx(\"$(filePath)AS_$(mod_name).xlsx\", mode=\"wr\") do xf\n",
    "        XLSX.addsheet!(xf)\n",
    "        XLSX.addsheet!(xf)\n",
    "        sh1 = xf[1]\n",
    "        sh2 = xf[2]\n",
    "        sh3 = xf[3]\n",
    "        XLSX.rename!(sh1, \"Input Map\")\n",
    "        XLSX.rename!(sh2, \"Inputs\")\n",
    "        XLSX.rename!(sh3, \"Outputs\")\n",
    "\n",
    "        sh1[1,1] = \"Module\"\n",
    "        sh1[1,2] = \"Function\"\n",
    "        sh1[1,3] = \"Input Variable\"\n",
    "        sh1[1,4] = \"Input Map\"\n",
    "\n",
    "        sh2[1,1] = \"Input Variable\"\n",
    "        sh2[1,2] = \"Input\"\n",
    "        sh2[1,3] = \"Units\"\n",
    "\n",
    "        sh3[1,1] = \"Module\"\n",
    "        sh3[1,2] = \"Function\"\n",
    "        sh3[1,3] = \"Output\"\n",
    "        sh3[1,4] = \"Units\"\n",
    "\n",
    "        r1 = 2\n",
    "        r2 = 2\n",
    "        r3 = 2\n",
    "        new_input = 0\n",
    "        \n",
    "        for submod in mods\n",
    "            funcs = Dict()\n",
    "            AutoSolver.moduleDict(submod, funcs)\n",
    "            submod_name = AutoSolver.modName(submod)\n",
    "\n",
    "            for func in funcs \n",
    "                sh1[r1,1] = submod_name\n",
    "                sh1[r1,2] = string(func[1])\n",
    "\n",
    "                for i = 1:length(func[2])\n",
    "                    sh1[r1,3] = string(func[2][i])\n",
    "                    sh1[r1,4] = string(func[2][i])\n",
    "                    r1+=1\n",
    "\n",
    "                    for j = 2:r2\n",
    "                        if string(sh2[j,1]) == string(func[2][i])\n",
    "                            new_input = 0\n",
    "                            break\n",
    "                        else\n",
    "                            new_input = 1\n",
    "                        end\n",
    "                    end\n",
    "                    if new_input == 1\n",
    "                        sh2[r2,1] = string(func[2][i])\n",
    "                        r2+=1\n",
    "                    end\n",
    "                end\n",
    "            end\n",
    "\n",
    "            for func in funcs      \n",
    "                sh3[r3,1] = submod_name\n",
    "                sh3[r3,2] = string(func[1])\n",
    "                sh3[r3,3] = \"-\"\n",
    "                sh3[r3,4] = \"-\"\n",
    "                r3+=1\n",
    "            end\n",
    "        end\n",
    "    end\n",
    "end"
   ]
  },
  {
   "cell_type": "code",
   "execution_count": null,
   "metadata": {},
   "outputs": [],
   "source": [
    "autoSolveTemplate(physics, filePath=\"C:/Users/ses/Documents/AutoSolver/\", overwrite=false)"
   ]
  },
  {
   "cell_type": "markdown",
   "metadata": {},
   "source": [
    "# Update Spreadsheet Mapping"
   ]
  },
  {
   "cell_type": "code",
   "execution_count": null,
   "metadata": {},
   "outputs": [],
   "source": [
    "function inputMapFromXLSX(xf::XLSX.XLSXFile)\n",
    "    sh = xf[\"Input Map\"]\n",
    "    inp_map = Dict()\n",
    "    \n",
    "    for (i,r) in enumerate(XLSX.eachrow(sh))\n",
    "        if (i == 1 || ismissing(r[4])); continue; end\n",
    "        if !haskey(inp_map, Symbol(r[3])); inp_map[Symbol(r[3])] = []; end\n",
    "        if !(Symbol(r[4]) in inp_map[Symbol(r[3])]); push!(inp_map[Symbol(r[3])],Symbol(r[4])); end\n",
    "    end\n",
    "\n",
    "    return inp_map\n",
    "end"
   ]
  },
  {
   "cell_type": "code",
   "execution_count": null,
   "metadata": {},
   "outputs": [],
   "source": [
    "function inputsFromXLSX(xf::XLSX.XLSXFile)\n",
    "    sh = xf[\"Inputs\"]\n",
    "    \n",
    "    for (i,r) in enumerate(XLSX.eachrow(sh))\n",
    "        if i == 1; continue; end\n",
    "        if ismissing(@eval $(r[2])); continue; end\n",
    "        if ismissing(@eval $(r[3]))\n",
    "            @eval $(Symbol(r[1])) = (@eval $(r[2]))\n",
    "        else\n",
    "            @eval $(Symbol(r[1])) = (@eval $(r[2])) * (@eval @u_str $(r[3]))\n",
    "        end\n",
    "    end\n",
    "end"
   ]
  },
  {
   "cell_type": "code",
   "execution_count": null,
   "metadata": {},
   "outputs": [],
   "source": [
    "function outputToXLSX(xf::XLSX.XLSXFile, outputs::Dict)\n",
    "    sh = xf[\"Outputs\"]\n",
    "  \n",
    "    for (i, r) in enumerate(XLSX.eachrow(sh))\n",
    "        if i == 1; continue; end\n",
    "        func = Symbol(r[2])\n",
    "        if haskey(outputs,func)\n",
    "            sh[i,3] = string(ustrip(outputs[func]))\n",
    "            sh[i,4] = string(unit(outputs[func]))\n",
    "        else\n",
    "            sh[i,3] = \"-\"\n",
    "            sh[i,4] = \"-\"\n",
    "        end\n",
    "    end\n",
    "end"
   ]
  },
  {
   "cell_type": "code",
   "execution_count": null,
   "metadata": {},
   "outputs": [],
   "source": [
    "function autoSolveXLSX(mod::Module, filePath::String)\n",
    "    inp_map = Dict()\n",
    "    mod_name = AutoSolver.modName(mod)\n",
    "\n",
    "    inp_map = XLSX.openxlsx(\"$(filePath)AS_$(mod_name).xlsx\", mode=\"rw\") do xf\n",
    "        inp_map = inputMapFromXLSX(xf)\n",
    "        inputsFromXLSX(xf)\n",
    "        return inp_map\n",
    "    end\n",
    "\n",
    "    mods = Module[]\n",
    "    AutoSolver.submodules(mod, mods)\n",
    "\n",
    "    outputs = AutoSolver.autoSolveOutputs(mods, inp_map = inp_map)\n",
    "\n",
    "    XLSX.openxlsx(\"$(filePath)AS_$(mod_name).xlsx\", mode=\"rw\") do xf\n",
    "        outputToXLSX(xf,outputs)\n",
    "    end\n",
    "end"
   ]
  },
  {
   "cell_type": "code",
   "execution_count": null,
   "metadata": {},
   "outputs": [],
   "source": [
    "filePath=\"C:/Users/ses/Documents/AutoSolver/\"\n",
    "mod = physics\n",
    "\n",
    "autoSolveXLSX(mod, filePath)"
   ]
  },
  {
   "cell_type": "code",
   "execution_count": null,
   "metadata": {},
   "outputs": [],
   "source": []
  },
  {
   "cell_type": "markdown",
   "metadata": {},
   "source": [
    "# AutoTester"
   ]
  },
  {
   "cell_type": "code",
   "execution_count": null,
   "metadata": {},
   "outputs": [],
   "source": [
    "function autoTestTemplate(mod::Module;filePath::String=\"\",overwrite=false)\n",
    "    mods = Module[]\n",
    "    AutoSolver.submodules(mod, mods) \n",
    "    mod_name = AutoSolver.modName(mod)\n",
    "    num_tests = 5\n",
    "    \n",
    "    if isfile(\"$(filePath)AT_$(mod_name).xlsx\") && overwrite == false\n",
    "        println(\"ERROR: $(filePath)AT_$(mod_name).xlsx already exists\")\n",
    "        return\n",
    "    elseif !isdir(filePath) && filePath != \"\"\n",
    "        mkdir(filePath)\n",
    "    end\n",
    "    \n",
    "    if !isfile(\"$(filePath)AT_$(mod_name).xlsx\")\n",
    "        XLSX.openxlsx(\"$(filePath)AT_$(mod_name).xlsx\", mode=\"w\") do xf\n",
    "        end\n",
    "    end\n",
    "\n",
    "    XLSX.openxlsx(\"$(filePath)AT_$(mod_name).xlsx\", mode=\"rw\") do xf\n",
    "        sh1 = xf[1]\n",
    "        XLSX.rename!(sh1, \"Test Inputs\")\n",
    "\n",
    "        sh1[1,1] = \"Module\"\n",
    "        sh1[1,2] = \"Function\"\n",
    "        sh1[1,3] = \"Input Vars\"\n",
    "        \n",
    "        for i = 1:num_tests\n",
    "            sh1[1,3*i+1] = \"Inputs $(i)\"\n",
    "            sh1[1,3*i+2] = \"Exp Output $(i)\"\n",
    "            sh1[1,3*i+3] = \"Tol $(i) [%]\"\n",
    "        end\n",
    "\n",
    "        r1 = 2\n",
    "        new_input = 0\n",
    "        \n",
    "        for submod in mods\n",
    "            funcs = Dict()\n",
    "            AutoSolver.moduleDict(submod, funcs)\n",
    "            submod_name = AutoSolver.modName(submod)\n",
    "\n",
    "            for func in funcs\n",
    "                args = string(func[2])\n",
    "                sh1[r1,1] = submod_name\n",
    "                sh1[r1,2] = string(func[1])\n",
    "                sh1[r1,3] = string(strip(string(args[5:end]),[']']))\n",
    "                r1+=1\n",
    "            end\n",
    "        end\n",
    "    end\n",
    "end"
   ]
  },
  {
   "cell_type": "code",
   "execution_count": null,
   "metadata": {},
   "outputs": [],
   "source": [
    "filePath=\"C:/Users/ses/Documents/AutoSolver/\"\n",
    "mod = physics\n",
    "\n",
    "autoTestTemplate(mod, filePath=filePath, overwrite=false)"
   ]
  },
  {
   "cell_type": "code",
   "execution_count": null,
   "metadata": {},
   "outputs": [],
   "source": [
    "function autoTestXLSX(mod::Module;filePath::String=\"\")\n",
    "    mod_name = AutoSolver.modName(mod)\n",
    "    mods = Module[]\n",
    "    AutoSolver.submodules(mod, mods) \n",
    "    \n",
    "    XLSX.openxlsx(\"$(filePath)AT_$(mod_name).xlsx\", mode=\"rw\") do xf\n",
    "        sh = xf[\"Test Inputs\"]\n",
    "        \n",
    "        for (i,r) in enumerate(XLSX.eachrow(sh))\n",
    "            if i == 1; continue; end\n",
    "            if ismissing(@eval $(r[4])); continue; end\n",
    "#             if ismissing(@eval $(r[3]))\n",
    "#                 @eval $(Symbol(r[1])) = (@eval $(r[2]))\n",
    "#             else\n",
    "#                 @eval $(Symbol(r[1])) = (@eval $(r[2])) * (@eval @u_str $(r[3]))\n",
    "#             end\n",
    "            println(r[1],\", \",r[2],\", [\",r[4],\"], \",r[5],\", \",r[6])\n",
    "            args = split(r[4],',')\n",
    "            arg_arr = []\n",
    "            for arg in args\n",
    "                arg_in = split(strip(arg),\" \")\n",
    "                val = parse(Int,string(arg_in[1]))\n",
    "                units = @eval @u_str $(arg_in[2])\n",
    "                var = val * units\n",
    "                push!(arg_arr,var)\n",
    "            end\n",
    "            \n",
    "#             println(Module(Symbol(r[1])),\".\",Symbol(r[2]))\n",
    "#             println(\"Inputs: \",arg_arr)\n",
    "#             println(\"Expected Output: \",r[5])\n",
    "            \n",
    "            for mod_s in mods\n",
    "                if string(mod_s) == string((@eval $(Module(Symbol(r[1])))))\n",
    "                    output = AutoSolver.evalVariableInputs(mod_s,Symbol(r[2]),arg_arr)\n",
    "                    println(\"Actual Output: \", output)\n",
    "                    if string(output) == string(r[5])\n",
    "                        println(\"Test Pass\\n\")\n",
    "                    else\n",
    "                        println(\"Test Failed\\n\")\n",
    "                    end\n",
    "                end\n",
    "            end\n",
    "#             result = (@eval $(Module(Symbol(r[1]))).$(Symbol(r[2]))($(arg_arr)...))\n",
    "        end\n",
    "    end\n",
    "end"
   ]
  },
  {
   "cell_type": "code",
   "execution_count": null,
   "metadata": {},
   "outputs": [],
   "source": [
    "using Test\n",
    "filePath=\"C:/Users/ses/Documents/AutoSolver/\"\n",
    "mod = physics\n",
    "\n",
    "autoTestXLSX(mod, filePath=filePath)"
   ]
  },
  {
   "cell_type": "code",
   "execution_count": null,
   "metadata": {},
   "outputs": [],
   "source": [
    "Main.physics.dynamics.F(1,2)\n",
    "# Unitful.promote_to_derived()\n",
    "# promote(1u\"J\",1.0u\"kg*m^2/s^2\")[2]"
   ]
  },
  {
   "cell_type": "markdown",
   "metadata": {},
   "source": [
    "# AutoGenerate Database"
   ]
  },
  {
   "cell_type": "code",
   "execution_count": null,
   "metadata": {},
   "outputs": [],
   "source": [
    "# using Pkg\n",
    "# Pkg.add(\"PDFIO\")\n",
    "\n",
    "# \"\"\"\n",
    "# ​```\n",
    "#     getPDFText(src, out) -> Dict \n",
    "# ​```\n",
    "# - src - Input PDF file from where text is to be extracted\n",
    "# - out - Output TXT file where the output will be written\n",
    "# return - A dictionary containing metadata of the document\n",
    "# \"\"\"\n",
    "# function getPDFText(src, out)\n",
    "#     # handle that can be used for subsequence operations on the document.\n",
    "#     doc = pdDocOpen(src)\n",
    "    \n",
    "#     # Metadata extracted from the PDF document. \n",
    "#     # This value is retained and returned as the return from the function. \n",
    "#     docinfo = pdDocGetInfo(doc) \n",
    "#     open(out, \"w\") do io\n",
    "    \n",
    "#         # Returns number of pages in the document       \n",
    "#         npage = pdDocGetPageCount(doc)\n",
    "\n",
    "#         for i=1:npage\n",
    "        \n",
    "#             # handle to the specific page given the number index. \n",
    "#             page = pdDocGetPage(doc, i)\n",
    "            \n",
    "#             # Extract text from the page and write it to the output file.\n",
    "#             pdPageExtractText(io, page)\n",
    "\n",
    "#         end\n",
    "#     end\n",
    "#     # Close the document handle. \n",
    "#     # The doc handle should not be used after this call\n",
    "#     pdDocClose(doc)\n",
    "#     return docinfo\n",
    "# end\n",
    "\n",
    "# using PDFIO\n",
    "# getPDFText(\"electromagnetism_equations.pdf\",\"test.txt\")"
   ]
  },
  {
   "cell_type": "code",
   "execution_count": 15,
   "metadata": {},
   "outputs": [
    {
     "name": "stdout",
     "output_type": "stream",
     "text": [
      "\u001b[32m\u001b[1m  Updating\u001b[22m\u001b[39m registry at `C:\\Users\\ses\\.julia\\registries\\General`\n",
      "\u001b[32m\u001b[1m  Updating\u001b[22m\u001b[39m git-repo `https://github.com/JuliaRegistries/General.git`\n",
      "\u001b[2K\u001b[?25h[1mFetching:\u001b[22m\u001b[39m [========================================>]  100.0 %.0 %2.4 %.1 %\u001b[36m\u001b[1mFetching:\u001b[22m\u001b[39m [=====>                                   ]  10.4 %14.1 % % [==========>                              ]  24.4 %]  28.6 %\u001b[36m\u001b[1mFetching:\u001b[22m\u001b[39m [==============>                          ]  32.8 %>                        ]  39.7 %.3 %]  45.4 %1 %=======================>                 ]  55.5 %59.3 %\u001b[36m\u001b[1mFetching:\u001b[22m\u001b[39m [===========================>             ]  66.2 %            ]  68.0 %8 %>          ]  74.6 %        ]  79.9 %\u001b[36m\u001b[1mFetching:\u001b[22m\u001b[39m [=================================>       ]  82.1 %7 %9 %]  92.5 %]  95.8 %.2 %>]  99.3 %========================================>]  99.9 %\u001b[32m\u001b[1m Resolving\u001b[22m\u001b[39m package versions...\n",
      "\u001b[32m\u001b[1m Installed\u001b[22m\u001b[39m Adapt ──────── v1.0.1\n",
      "\u001b[32m\u001b[1m Installed\u001b[22m\u001b[39m RecipesBase ── v0.8.0\n",
      "\u001b[32m\u001b[1m Installed\u001b[22m\u001b[39m Ratios ─────── v0.4.0\n",
      "\u001b[32m\u001b[1m Installed\u001b[22m\u001b[39m StatsBase ──── v0.32.1\n",
      "\u001b[32m\u001b[1m Installed\u001b[22m\u001b[39m CMake ──────── v1.2.0\n",
      "\u001b[32m\u001b[1m Installed\u001b[22m\u001b[39m FileIO ─────── v1.2.2\n",
      "\u001b[32m\u001b[1m Installed\u001b[22m\u001b[39m JSON ───────── v0.20.1\n",
      "\u001b[32m\u001b[1m Installed\u001b[22m\u001b[39m PrettyTables ─ v0.8.3\n",
      "\u001b[32m\u001b[1m Installed\u001b[22m\u001b[39m Juno ───────── v0.8.0\n",
      "\u001b[32m\u001b[1m Installed\u001b[22m\u001b[39m Lazy ───────── v0.15.0\n",
      "\u001b[32m\u001b[1m Installed\u001b[22m\u001b[39m Tables ─────── v1.0.1\n",
      "\u001b[32m\u001b[1m Installed\u001b[22m\u001b[39m MathProgBase ─ v0.7.8\n",
      "\u001b[32m\u001b[1m  Updating\u001b[22m\u001b[39m `C:\\Users\\ses\\.julia\\environments\\v1.1\\Project.toml`\n",
      "\u001b[90m [no changes]\u001b[39m\n",
      "\u001b[32m\u001b[1m  Updating\u001b[22m\u001b[39m `C:\\Users\\ses\\.julia\\environments\\v1.1\\Manifest.toml`\n",
      " \u001b[90m [79e6a3ab]\u001b[39m\u001b[93m ↑ Adapt v1.0.0 ⇒ v1.0.1\u001b[39m\n",
      " \u001b[90m [631607c0]\u001b[39m\u001b[93m ↑ CMake v1.1.2 ⇒ v1.2.0\u001b[39m\n",
      " \u001b[90m [5789e2e9]\u001b[39m\u001b[93m ↑ FileIO v1.2.1 ⇒ v1.2.2\u001b[39m\n",
      " \u001b[90m [a98d9a8b]\u001b[39m\u001b[95m ↓ Interpolations v0.12.8 ⇒ v0.12.5\u001b[39m\n",
      " \u001b[90m [682c06a0]\u001b[39m\u001b[93m ↑ JSON v0.20.0 ⇒ v0.20.1\u001b[39m\n",
      " \u001b[90m [e5e0dc1b]\u001b[39m\u001b[93m ↑ Juno v0.7.2 ⇒ v0.8.0\u001b[39m\n",
      " \u001b[90m [50d2b5c4]\u001b[39m\u001b[93m ↑ Lazy v0.14.0 ⇒ v0.15.0\u001b[39m\n",
      " \u001b[90m [fdba3010]\u001b[39m\u001b[93m ↑ MathProgBase v0.7.7 ⇒ v0.7.8\u001b[39m\n",
      " \u001b[90m [08abe8d2]\u001b[39m\u001b[93m ↑ PrettyTables v0.8.1 ⇒ v0.8.3\u001b[39m\n",
      " \u001b[90m [c84ed2f1]\u001b[39m\u001b[93m ↑ Ratios v0.3.1 ⇒ v0.4.0\u001b[39m\n",
      " \u001b[90m [3cdcf5f2]\u001b[39m\u001b[93m ↑ RecipesBase v0.7.0 ⇒ v0.8.0\u001b[39m\n",
      " \u001b[90m [2913bbd2]\u001b[39m\u001b[93m ↑ StatsBase v0.32.0 ⇒ v0.32.1\u001b[39m\n",
      " \u001b[90m [bd369af6]\u001b[39m\u001b[93m ↑ Tables v0.2.11 ⇒ v1.0.1\u001b[39m\n",
      "\u001b[32m\u001b[1m  Building\u001b[22m\u001b[39m CMake → `C:\\Users\\ses\\.julia\\packages\\CMake\\ULbyn\\deps\\build.log`\n"
     ]
    }
   ],
   "source": [
    "using Pkg\n",
    "Pkg.add(\"SymPy\")"
   ]
  },
  {
   "cell_type": "code",
   "execution_count": 16,
   "metadata": {
    "scrolled": true
   },
   "outputs": [
    {
     "name": "stdout",
     "output_type": "stream",
     "text": [
      "Solenoid\n",
      "\n",
      "\n",
      " q_e = \\int \\lambda_e \\mathrm{d}\\ell \n",
      " q_e = \\iint \\sigma_e \\mathrm{d} S \n",
      " q_e = \\iiint \\rho_e \\mathrm{d}V \n",
      "C = \\mathrm{d}q/\\mathrm{d}V\\,\\!\n",
      " I = \\mathrm{d}q/\\mathrm{d}t \\,\\!\n",
      "I = \\mathbf{J} \\cdot \\mathrm{d} \\mathbf{S}\n",
      " \\mathbf{J}_\\mathrm{d} = \\epsilon_0 \\left ( \\partial \\mathbf{E} / \\partial t \\right ) = \\partial \\mathbf{D} / \\partial t \\,\\!\n",
      " \\mathbf{J}_\\mathrm{c} = \\rho \\mathbf{v} \\,\\!\n",
      "\\mathbf{E} =\\mathbf{F}/q\\,\\!\n",
      "\\Phi_E = \\int_S \\mathbf{E} \\cdot \\mathrm{d} \\mathbf{A}\\,\\!\n",
      " \\epsilon = \\epsilon_r \\epsilon_0\\,\\!\n",
      "{\\displaystyle \\mathbf {p} =q\\mathbf {a} \\,\\!}\n",
      "\\mathbf{P} = \\mathrm{d} \\langle \\mathbf{p} \\rangle /\\mathrm{d} V \\,\\!\n",
      " \\mathbf{D} = \\epsilon\\mathbf{E} = \\epsilon_0 \\mathbf{E} + \\mathbf{P}\\,\n",
      "\\Phi_D = \\int_S \\mathbf{D} \\cdot \\mathrm{d} \\mathbf{A}\\,\\!\n",
      " r_0 \\,\\!\n",
      " r_0 = \\infty \\,\\!\n",
      " r_0 = R_\\mathrm{earth} \\,\\!\n",
      " V = -\\frac{W_{\\infty r }}{q} = -\\frac{1}{q}\\int_\\infty^r \\mathbf{F} \\cdot \\mathrm{d} \\mathbf{r} = -\\int_{r_1}^{r_2} \\mathbf{E} \\cdot \\mathrm{d} \\mathbf{r}\\,\\!\n",
      "\\Delta V = -\\frac{\\Delta W}{q} = -\\frac{1}{q}\\int_{r_1}^{r_2} \\mathbf{F} \\cdot \\mathrm{d} \\mathbf{r} = -\\int_{r_1}^{r_2} \\mathbf{E} \\cdot \\mathrm{d} \\mathbf{r} \\,\\!\n",
      " q_m = \\int \\lambda_m \\mathrm{d}\\ell \n",
      " q_m = \\iint \\sigma_m \\mathrm{d} S \n",
      " q_m = \\iiint \\rho_m \\mathrm{d}V \n",
      " I_m = \\mathrm{d}q_m/\\mathrm{d}t \\,\\!\n",
      " I = \\iint \\mathbf{J}_\\mathrm{m} \\cdot \\mathrm{d} \\mathbf{A} \n",
      "\\mathbf{F} =q_e \\left ( \\mathbf{v}\\times\\mathbf{B} \\right ) \\,\\!\n",
      " \\mathbf{B} = \\nabla \\times \\mathbf{A} \n",
      "\\Phi_B = \\int_S \\mathbf{B} \\cdot \\mathrm{d} \\mathbf{A}\\,\\!\n",
      "\\mu \\,\\!\n",
      "\\mu \\ = \\mu_r \\,\\mu_0 \\,\\!\n",
      "\\mathbf{m} = q_m \\mathbf{a}\\,\\!\n",
      "\\mathbf{m} = NIA\\mathbf{\\hat{n}}\\,\\!\n",
      "\\mathbf{M} = \\mathrm{d} \\langle \\mathbf{m} \\rangle /\\mathrm{d} V \\,\\!\n",
      "\\mathbf{B} = \\mu \\mathbf{H} = \\mu_0 \\left ( \\mathbf{H} + \\mathbf{M} \\right ) \\,\n",
      "\\mathbf{H} = \\mathbf{F} / q_m \\,\n",
      "\\mathbf{I} = \\mu \\mathbf{M} \\,\\!\n",
      "L=N\\left ( \\mathrm{d} \\Phi/\\mathrm{d} I \\right )\\,\\!\n",
      "L\\left ( \\mathrm{d} I/\\mathrm{d} t \\right )=-NV\\,\\!\n",
      "M_1=N\\left ( \\mathrm{d} \\Phi_2/\\mathrm{d} I_1 \\right )\\,\\!\n",
      "M\\left ( \\mathrm{d} I_2/\\mathrm{d} t \\right )=-NV_1\\,\\!\n",
      "M_2=N\\left ( \\mathrm{d} \\Phi_1/\\mathrm{d} I_2 \\right )\\,\\!\n",
      "M\\left ( \\mathrm{d} I_1/\\mathrm{d} t \\right )=-NV_2\\,\\!\n",
      "\\omega = \\gamma B \\,\\!\n",
      " R_\\mathrm{int} = V_\\mathrm{ter}/I \\,\\!\n",
      " R_\\mathrm{ext} = V_\\mathrm{load}/I \\,\\!\n",
      "\\mathcal{E} = V_\\mathrm{ter} + V_\\mathrm{load} \\,\\!\n",
      " V_R = I_R R \\,\\!\n",
      " V_C = I_C X_C\\,\\!\n",
      "V_L = I_L X_L\\,\\!\n",
      "X_C = \\frac{1}{\\omega_\\mathrm{d} C} \\,\\!\n",
      " X_L = \\omega_d L \\,\\!\n",
      "V = I Z\\,\\!\n",
      "Z = \\sqrt{R^2 + \\left ( X_L - X_C \\right )^2 } \\,\\!\n",
      "\\tan\\phi= \\frac{X_L - X_C}{R}\\,\\!\n",
      "I_0 = I_\\mathrm{rms} \\sqrt{2}\\,\\!\n",
      " I_\\mathrm{rms} = \\sqrt{\\frac{1}{T} \\int_{0}^{T} \\left [ I \\left ( t \\right ) \\right ]^2 \\mathrm{d} t}  \\,\\!\n",
      " V_0 = V_\\mathrm{rms} \\sqrt{2} \\,\\!\n",
      " V_\\mathrm{rms} = \\sqrt{\\frac{1}{T} \\int_{0}^{T} \\left [ V \\left ( t \\right ) \\right ]^2 \\mathrm{d} t}  \\,\\!\n",
      "\\mathcal{E}_\\mathrm{rms}, \\sqrt{\\langle \\mathcal{E} \\rangle} \\,\\!\n",
      "\\mathcal{E}_\\mathrm{rms}=\\mathcal{E}_\\mathrm{m}/\\sqrt{2}\\,\\!\n",
      " \\langle P \\rangle \\,\\!\n",
      " \\langle P \\rangle =\\mathcal{E}I_\\mathrm{rms}\\cos\\phi\\,\\!\n",
      "\\tau_C = RC\\,\\!\n",
      "\\tau_L = L/R\\,\\!\n",
      "\\mathcal{F}, \\mathcal{M} \n",
      "\\mathcal{M} = NI\n",
      " \\mathbf{E} = - \\nabla V \n",
      " \\Delta V = -\\int_{r_1}^{r_2} \\mathbf{E} \\cdot d\\mathbf{r}\\,\\!\n",
      " \\mathbf{E} = \\frac{q}{4 \\pi \\epsilon_0 \\left | \\mathbf{r} \\right |^2 }\\mathbf{\\hat{r}} \\,\\!\n",
      "\\mathbf{E} = \\sum \\mathbf{E}_i = \\frac{1}{4 \\pi \\epsilon_0} \\sum_i \\frac{q_i}{\\left | \\mathbf{r}_i - \\mathbf{r} \\right |^2}\\mathbf{\\hat{r}}_i \\,\\!\n",
      " \\mathbf{E} = \\frac{1}{4\\pi\\epsilon_0} \\int_V \\frac{\\mathbf{r} \\rho \\mathrm{d}V}{\\left | \\mathbf{r} \\right |^3} \\,\\!\n",
      " \\boldsymbol{\\tau} = \\int_V \\mathrm{d} \\mathbf{p} \\times \\mathbf{E} \n",
      " U = \\int_V  \\mathrm{d} \\mathbf{p} \\cdot \\mathbf{E} \n",
      " \\mathbf{B} = \\nabla \\times \\mathbf{A} \n",
      " \\mathbf{A} = \\frac{\\mu_0}{4\\pi}\\frac{\\mathbf{m}\\times\\mathbf{r}}{\\left | \\mathbf{r} \\right |^3} \n",
      "\\mathbf{B}({\\mathbf{r}})=\\nabla\\times{\\mathbf{A}}=\\frac{\\mu_{0}}{4\\pi}\\left(\\frac{3\\mathbf{r}(\\mathbf{m}\\cdot\\mathbf{r})}{\\left | \\mathbf{r} \\right |^{5}}-\\frac{{\\mathbf{m}}}{\\left | \\mathbf{r} \\right |^{3}}\\right)\n",
      " \\mathbf{m} = \\frac{1}{2}\\int_V \\mathbf{r}\\times\\mathbf{J} \\mathrm{d} V \n",
      " \\boldsymbol{\\tau} = \\int_V \\mathrm{d} \\mathbf{m} \\times \\mathbf{B} \n",
      " U = \\int_V \\mathrm{d} \\mathbf{m} \\cdot \\mathbf{B} \n",
      "\\frac{V_s}{V_p} = \\frac{N_s}{N_p} = \\frac{I_p}{I_s} = \\eta \\,\\!\n",
      "R_\\mathrm{net} = \\sum_{i=1}^{N} R_i\\,\\!\n",
      "{1 \\over G_{{\\mathrm  {net}}}}=\\sum _{{i=1}}^{{N}}{1 \\over G_{i}}\\,\\!\n",
      "{1 \\over R_{{\\mathrm  {net}}}}=\\sum _{{i=1}}^{{N}}{1 \\over R_{i}}\\,\\!\n",
      "G_{{\\mathrm  {net}}}=\\sum _{{i=1}}^{{N}}G_{i}\\,\\!\n",
      "q_\\mathrm{net} = \\sum_{i=1}^N q_i \\,\\!\n",
      "{1 \\over C_{{\\mathrm  {net}}}}=\\sum _{{i=1}}^{N}{1 \\over C_{i}}\\,\\!\n",
      "I_{{\\mathrm  {net}}}=I_{i}\\,\\!\n",
      "q_\\mathrm{net} = \\sum_{i=1}^N q_i \\,\\!\n",
      "C_\\mathrm{net} = \\sum_{i=1}^N C_i \\,\\!\n",
      "I_\\mathrm{net} = \\sum_{i=1}^N I_i \\,\\!\n",
      "L_{{\\mathrm  {net}}}=\\sum _{{i=1}}^{N}L_{i}\\,\\!\n",
      "{1 \\over L_{{\\mathrm  {net}}}}=\\sum _{{i=1}}^{N}{1 \\over L_{i}}\\,\\!\n",
      "V_i = \\sum_{j=1}^N L_{ij} \\frac{\\mathrm{d}I_j}{\\mathrm{d}t} \\,\\!\n",
      "R \\frac{\\mathrm{d}q}{\\mathrm{d}t} + \\frac{q}{C} = \\mathcal{E}\\,\\!\n",
      " q = C\\mathcal{E}\\left ( 1 - e^{-t/RC} \\right )\\,\\!\n",
      " q = C\\mathcal{E}e^{-t/RC}\\,\\!\n",
      "L\\frac{\\mathrm{d}I}{\\mathrm{d}t}+RI=\\mathcal{E}\\,\\!\n",
      "I = \\frac{\\mathcal{E}}{R}\\left ( 1-e^{-Rt/L}\\right )\\,\\!\n",
      "I=\\frac{\\mathcal{E}}{R}e^{-t/\\tau_L}=I_0e^{-Rt/L}\\,\\!\n",
      "L\\frac{\\mathrm{d}^2q}{\\mathrm{d}t^2} + q/C = \\mathcal{E}\\,\\!\n",
      "L\\frac{\\mathrm{d}^2q}{\\mathrm{d}t^2} + q/C = \\mathcal{E} \\sin\\left(\\omega_0 t + \\phi \\right) \\,\\!\n",
      "\\omega_\\mathrm{res} = 1/\\sqrt{LC}\\,\\!\n",
      "q = q_0 \\cos(\\omega t + \\phi)\\,\\!\n",
      "I=-\\omega q_0 \\sin(\\omega t + \\phi)\\,\\!\n",
      "U_E=q^2/2C=Q^2\\cos^2(\\omega t + \\phi)/2C\\,\\!\n",
      "U_B=Q^2\\sin^2(\\omega t + \\phi)/2C\\,\\!\n",
      "L\\frac{\\mathrm{d}^2q}{\\mathrm{d}t^2} + R\\frac{\\mathrm{d}q}{\\mathrm{d}t} + \\frac{q}{C} = \\mathcal{E} \\,\\!\n",
      " L\\frac{\\mathrm{d}^2q}{\\mathrm{d}t^2} + R\\frac{\\mathrm{d}q}{\\mathrm{d}t} + \\frac{q}{C} = \\mathcal{E} \\sin\\left(\\omega_0 t + \\phi \\right) \\,\\!\n",
      "q = q_0 eT^{-Rt/2L}\\cos(\\omega't+\\phi)\\,\\!\n",
      "The SI logo\n",
      "Wikipedia book\n",
      "Category\n",
      "\n",
      "Wikimedia Foundation\n",
      "Powered by MediaWiki\n"
     ]
    }
   ],
   "source": [
    "using HTTP, Cascadia, Gumbo, AbstractTrees\n",
    "\n",
    "url = \"https://en.wikipedia.org/wiki/List_of_electromagnetism_equations\"\n",
    "r = HTTP.get(url) # Normally, you'd put a url here, but I couldn't find a way to grab it without having to download it and read it locally\n",
    "h = parsehtml(String(r)) # Then normally you'd execute this\n",
    "\n",
    "# # Instead, I'm going to read in the html file as a string and give it to Gumbo\n",
    "# # h = parsehtml(read(\"em.html\", String))\n",
    "\n",
    "# # Exploring with the various structure of Gumbo objects:\n",
    "for elem in PreOrderDFS(h.root) \n",
    "    try\n",
    "        eq = getattr(elem,\"alt\")\n",
    "        println(eq)\n",
    "    catch\n",
    "    end\n",
    "end\n",
    "\n",
    "# println(fieldnames(h.root))\n",
    "# println(fieldnames(h.root.children))\n",
    "# println(size(h.root.children))\n",
    "\n",
    "# aviks code:\n",
    "# c = matchall(Selector(\"td:containsOwn(\\\"CAN:\\\") + td span\"), h.root);\n",
    "# for x in c\n",
    "#     println( x.children[1].text )\n",
    "# end"
   ]
  },
  {
   "cell_type": "code",
   "execution_count": 1,
   "metadata": {},
   "outputs": [],
   "source": [
    "using PyCall"
   ]
  },
  {
   "cell_type": "code",
   "execution_count": 2,
   "metadata": {},
   "outputs": [
    {
     "data": {
      "text/plain": [
       "0.0"
      ]
     },
     "execution_count": 2,
     "metadata": {},
     "output_type": "execute_result"
    }
   ],
   "source": [
    "sympy = pyimport(\"sympy\")  #\n",
    "x = sympy.Symbol(\"x\")      # PyObject x\n",
    "y = sympy.sin(x)           # PyObject sin(x)\n",
    "z = y.subs(x, sympy.pi)    # PyObject 0\n",
    "convert(Float64, z)        # 0.0"
   ]
  },
  {
   "cell_type": "code",
   "execution_count": 14,
   "metadata": {},
   "outputs": [
    {
     "name": "stderr",
     "output_type": "stream",
     "text": [
      "┌ Info: Running `conda install -y process_latex` in root environment\n",
      "└ @ Conda C:\\Users\\ses\\.julia\\packages\\Conda\\CpuvI\\src\\Conda.jl:112\n"
     ]
    },
    {
     "name": "stdout",
     "output_type": "stream",
     "text": [
      "Collecting package metadata (current_repodata.json): ...working... done\n",
      "Solving environment: ...working... failed with initial frozen solve. Retrying with flexible solve.\n",
      "Collecting package metadata (repodata.json): ...working... done\n",
      "Solving environment: ...working... failed with initial frozen solve. Retrying with flexible solve.\n"
     ]
    },
    {
     "name": "stderr",
     "output_type": "stream",
     "text": [
      "\r\n",
      "PackagesNotFoundError: The following packages are not available from current channels:\r\n",
      "\r\n",
      "  - process_latex\r\n",
      "\r\n",
      "Current channels:\r\n",
      "\r\n",
      "  - https://repo.anaconda.com/pkgs/main/win-64\r\n",
      "  - https://repo.anaconda.com/pkgs/main/noarch\r\n",
      "  - https://repo.anaconda.com/pkgs/r/win-64\r\n",
      "  - https://repo.anaconda.com/pkgs/r/noarch\r\n",
      "  - https://repo.anaconda.com/pkgs/msys2/win-64\r\n",
      "  - https://repo.anaconda.com/pkgs/msys2/noarch\r\n",
      "\r\n",
      "To search for alternate channels that may provide the conda package you're\r\n",
      "looking for, navigate to\r\n",
      "\r\n",
      "    https://anaconda.org\r\n",
      "\r\n",
      "and use the search bar at the top of the page.\r\n",
      "\r\n",
      "\r\n"
     ]
    },
    {
     "ename": "ErrorException",
     "evalue": "failed process: Process(setenv(`'C:\\Users\\ses\\.julia\\conda\\3\\Scripts\\conda.exe' install -y process_latex`,[\"PATH=C:\\\\Users\\\\ses\\\\Anaconda3;C:\\\\Users\\\\ses\\\\Anaconda3\\\\Library\\\\mingw-w64\\\\bin;C:\\\\Users\\\\ses\\\\Anaconda3\\\\Library\\\\usr\\\\bin;C:\\\\Users\\\\ses\\\\Anaconda3\\\\Library\\\\bin;C:\\\\Users\\\\ses\\\\Anaconda3\\\\Scripts;C:\\\\Users\\\\ses\\\\Anaconda3\\\\bin;C:\\\\Users\\\\ses\\\\Anaconda3\\\\condabin;C:\\\\Users\\\\ses\\\\Anaconda3;C:\\\\Users\\\\ses\\\\Anaconda3\\\\Library\\\\mingw-w64\\\\bin;C:\\\\Users\\\\ses\\\\Anaconda3\\\\Library\\\\usr\\\\bin;C:\\\\Users\\\\ses\\\\Anaconda3\\\\Library\\\\bin;C:\\\\Users\\\\ses\\\\Anaconda3\\\\Scripts;C:\\\\Program Files\\\\NVIDIA GPU Computing Toolkit\\\\CUDA\\\\v10.1\\\\bin;C:\\\\Program Files\\\\NVIDIA GPU Computing Toolkit\\\\CUDA\\\\v10.1\\\\libnvvp;C:\\\\Program Files (x86)\\\\Common Files\\\\Oracle\\\\Java\\\\javapath;C:\\\\Windows\\\\system32;C:\\\\Windows;C:\\\\Windows\\\\System32\\\\Wbem;C:\\\\Windows\\\\System32\\\\WindowsPowerShell\\\\v1.0;C:\\\\Program Files (x86)\\\\NVIDIA Corporation\\\\PhysX\\\\Common;C:\\\\WINDOWS\\\\system32;C:\\\\WINDOWS;C:\\\\WINDOWS\\\\System32\\\\Wbem;C:\\\\WINDOWS\\\\System32\\\\WindowsPowerShell\\\\v1.0;C:\\\\WINDOWS\\\\System32\\\\OpenSSH;C:\\\\Program Files\\\\Git\\\\cmd;C:\\\\Program Files\\\\NVIDIA Corporation\\\\NVIDIA NvDLISR;C:\\\\Program Files\\\\NVIDIA Corporation\\\\Nsight Compute 2019.3.0;C:\\\\Users\\\\ses\\\\AppData\\\\Local\\\\Microsoft\\\\WindowsApps;C:\\\\Users\\\\ses\\\\AppData\\\\Local\\\\Programs\\\\Microsoft VS Code\\\\bin;C:\\\\Users\\\\ses\\\\AppData\\\\Local\\\\GitHubDesktop\\\\bin;C:\\\\Users\\\\ses\\\\AppData\\\\Local\\\\Julia-1.1.1\\\\bin;.\", \"USERDOMAIN_ROAMINGPROFILE=DESKTOP-SES\", \"HOMEPATH=\\\\Users\\\\ses\", \"PATHEXT=.COM;.EXE;.BAT;.CMD;.VBS;.VBE;.JS;.JSE;.WSF;.WSH;.MSC\", \"SESSIONNAME=Console\", \"SYSTEMROOT=C:\\\\WINDOWS\", \"APPDATA=C:\\\\Users\\\\ses\\\\AppData\\\\Roaming\", \"PSMODULEPATH=C:\\\\Program Files\\\\WindowsPowerShell\\\\Modules;C:\\\\WINDOWS\\\\system32\\\\WindowsPowerShell\\\\v1.0\\\\Modules\", \"COMMONPROGRAMW6432=C:\\\\Program Files\\\\Common Files\", \"PROGRAMDATA=C:\\\\ProgramData\", \"PUBLIC=C:\\\\Users\\\\Public\", \"USERDOMAIN=DESKTOP-SES\", \"OS=Windows_NT\", \"PROCESSOR_REVISION=9e09\", \"TMP=C:\\\\Users\\\\ses\\\\AppData\\\\Local\\\\Temp\", \"COMSPEC=C:\\\\WINDOWS\\\\system32\\\\cmd.exe\", \"NVTOOLSEXT_PATH=C:\\\\Program Files\\\\NVIDIA Corporation\\\\NvToolsExt\\\\\", \"ALLUSERSPROFILE=C:\\\\ProgramData\", \"COMPUTERNAME=DESKTOP-SES\", \"USERNAME=ses\", \"COLUMNS=80\", \"IPY_INTERRUPT_EVENT=2236\", \"CUDA_PATH=C:\\\\Program Files\\\\NVIDIA GPU Computing Toolkit\\\\CUDA\\\\v10.1\", \"USERPROFILE=C:\\\\Users\\\\ses\", \"CONDARC=C:\\\\Users\\\\ses\\\\.julia\\\\conda\\\\3\\\\condarc-julia.yml\", \"PROCESSOR_LEVEL=6\", \"LINES=30\", \"PROGRAMW6432=C:\\\\Program Files\", \"TEMP=C:\\\\Users\\\\ses\\\\AppData\\\\Local\\\\Temp\", \"HOMEDRIVE=C:\", \"PYTHONIOENCODING=UTF-8\", \"CUDA_PATH_V10_1=C:\\\\Program Files\\\\NVIDIA GPU Computing Toolkit\\\\CUDA\\\\v10.1\", \"WINDIR=C:\\\\WINDOWS\", \"JPY_INTERRUPT_EVENT=2236\", \"LOCALAPPDATA=C:\\\\Users\\\\ses\\\\AppData\\\\Local\", \"PROCESSOR_IDENTIFIER=Intel64 Family 6 Model 158 Stepping 9, GenuineIntel\", \"NUMBER_OF_PROCESSORS=4\", \"PROMPT=(base) \\$P\\$G\", \"COMMONPROGRAMFILES(X86)=C:\\\\Program Files (x86)\\\\Common Files\", \"NVCUDASAMPLES10_1_ROOT=C:\\\\ProgramData\\\\NVIDIA Corporation\\\\CUDA Samples\\\\v10.1\", \"COMMONPROGRAMFILES=C:\\\\Program Files\\\\Common Files\", \"ONEDRIVE=C:\\\\Users\\\\ses\\\\OneDrive\", \"PROGRAMFILES(X86)=C:\\\\Program Files (x86)\", \"PROGRAMFILES=C:\\\\Program Files\", \"JPY_PARENT_PID=2268\", \"LOGONSERVER=\\\\\\\\DESKTOP-SES\", \"DRIVERDATA=C:\\\\Windows\\\\System32\\\\Drivers\\\\DriverData\", \"CONDA_PREFIX=C:\\\\Users\\\\ses\\\\.julia\\\\conda\\\\3\", \"FPS_BROWSER_USER_PROFILE_STRING=Default\", \"SYSTEMDRIVE=C:\", \"FPS_BROWSER_APP_PROFILE_STRING=Internet Explorer\", \"NVCUDASAMPLES_ROOT=C:\\\\ProgramData\\\\NVIDIA Corporation\\\\CUDA Samples\\\\v10.1\", \"PROCESSOR_ARCHITECTURE=AMD64\", \"OPENBLAS_MAIN_FREE=1\"]), ProcessExited(1)) [1]",
     "output_type": "error",
     "traceback": [
      "failed process: Process(setenv(`'C:\\Users\\ses\\.julia\\conda\\3\\Scripts\\conda.exe' install -y process_latex`,[\"PATH=C:\\\\Users\\\\ses\\\\Anaconda3;C:\\\\Users\\\\ses\\\\Anaconda3\\\\Library\\\\mingw-w64\\\\bin;C:\\\\Users\\\\ses\\\\Anaconda3\\\\Library\\\\usr\\\\bin;C:\\\\Users\\\\ses\\\\Anaconda3\\\\Library\\\\bin;C:\\\\Users\\\\ses\\\\Anaconda3\\\\Scripts;C:\\\\Users\\\\ses\\\\Anaconda3\\\\bin;C:\\\\Users\\\\ses\\\\Anaconda3\\\\condabin;C:\\\\Users\\\\ses\\\\Anaconda3;C:\\\\Users\\\\ses\\\\Anaconda3\\\\Library\\\\mingw-w64\\\\bin;C:\\\\Users\\\\ses\\\\Anaconda3\\\\Library\\\\usr\\\\bin;C:\\\\Users\\\\ses\\\\Anaconda3\\\\Library\\\\bin;C:\\\\Users\\\\ses\\\\Anaconda3\\\\Scripts;C:\\\\Program Files\\\\NVIDIA GPU Computing Toolkit\\\\CUDA\\\\v10.1\\\\bin;C:\\\\Program Files\\\\NVIDIA GPU Computing Toolkit\\\\CUDA\\\\v10.1\\\\libnvvp;C:\\\\Program Files (x86)\\\\Common Files\\\\Oracle\\\\Java\\\\javapath;C:\\\\Windows\\\\system32;C:\\\\Windows;C:\\\\Windows\\\\System32\\\\Wbem;C:\\\\Windows\\\\System32\\\\WindowsPowerShell\\\\v1.0;C:\\\\Program Files (x86)\\\\NVIDIA Corporation\\\\PhysX\\\\Common;C:\\\\WINDOWS\\\\system32;C:\\\\WINDOWS;C:\\\\WINDOWS\\\\System32\\\\Wbem;C:\\\\WINDOWS\\\\System32\\\\WindowsPowerShell\\\\v1.0;C:\\\\WINDOWS\\\\System32\\\\OpenSSH;C:\\\\Program Files\\\\Git\\\\cmd;C:\\\\Program Files\\\\NVIDIA Corporation\\\\NVIDIA NvDLISR;C:\\\\Program Files\\\\NVIDIA Corporation\\\\Nsight Compute 2019.3.0;C:\\\\Users\\\\ses\\\\AppData\\\\Local\\\\Microsoft\\\\WindowsApps;C:\\\\Users\\\\ses\\\\AppData\\\\Local\\\\Programs\\\\Microsoft VS Code\\\\bin;C:\\\\Users\\\\ses\\\\AppData\\\\Local\\\\GitHubDesktop\\\\bin;C:\\\\Users\\\\ses\\\\AppData\\\\Local\\\\Julia-1.1.1\\\\bin;.\", \"USERDOMAIN_ROAMINGPROFILE=DESKTOP-SES\", \"HOMEPATH=\\\\Users\\\\ses\", \"PATHEXT=.COM;.EXE;.BAT;.CMD;.VBS;.VBE;.JS;.JSE;.WSF;.WSH;.MSC\", \"SESSIONNAME=Console\", \"SYSTEMROOT=C:\\\\WINDOWS\", \"APPDATA=C:\\\\Users\\\\ses\\\\AppData\\\\Roaming\", \"PSMODULEPATH=C:\\\\Program Files\\\\WindowsPowerShell\\\\Modules;C:\\\\WINDOWS\\\\system32\\\\WindowsPowerShell\\\\v1.0\\\\Modules\", \"COMMONPROGRAMW6432=C:\\\\Program Files\\\\Common Files\", \"PROGRAMDATA=C:\\\\ProgramData\", \"PUBLIC=C:\\\\Users\\\\Public\", \"USERDOMAIN=DESKTOP-SES\", \"OS=Windows_NT\", \"PROCESSOR_REVISION=9e09\", \"TMP=C:\\\\Users\\\\ses\\\\AppData\\\\Local\\\\Temp\", \"COMSPEC=C:\\\\WINDOWS\\\\system32\\\\cmd.exe\", \"NVTOOLSEXT_PATH=C:\\\\Program Files\\\\NVIDIA Corporation\\\\NvToolsExt\\\\\", \"ALLUSERSPROFILE=C:\\\\ProgramData\", \"COMPUTERNAME=DESKTOP-SES\", \"USERNAME=ses\", \"COLUMNS=80\", \"IPY_INTERRUPT_EVENT=2236\", \"CUDA_PATH=C:\\\\Program Files\\\\NVIDIA GPU Computing Toolkit\\\\CUDA\\\\v10.1\", \"USERPROFILE=C:\\\\Users\\\\ses\", \"CONDARC=C:\\\\Users\\\\ses\\\\.julia\\\\conda\\\\3\\\\condarc-julia.yml\", \"PROCESSOR_LEVEL=6\", \"LINES=30\", \"PROGRAMW6432=C:\\\\Program Files\", \"TEMP=C:\\\\Users\\\\ses\\\\AppData\\\\Local\\\\Temp\", \"HOMEDRIVE=C:\", \"PYTHONIOENCODING=UTF-8\", \"CUDA_PATH_V10_1=C:\\\\Program Files\\\\NVIDIA GPU Computing Toolkit\\\\CUDA\\\\v10.1\", \"WINDIR=C:\\\\WINDOWS\", \"JPY_INTERRUPT_EVENT=2236\", \"LOCALAPPDATA=C:\\\\Users\\\\ses\\\\AppData\\\\Local\", \"PROCESSOR_IDENTIFIER=Intel64 Family 6 Model 158 Stepping 9, GenuineIntel\", \"NUMBER_OF_PROCESSORS=4\", \"PROMPT=(base) \\$P\\$G\", \"COMMONPROGRAMFILES(X86)=C:\\\\Program Files (x86)\\\\Common Files\", \"NVCUDASAMPLES10_1_ROOT=C:\\\\ProgramData\\\\NVIDIA Corporation\\\\CUDA Samples\\\\v10.1\", \"COMMONPROGRAMFILES=C:\\\\Program Files\\\\Common Files\", \"ONEDRIVE=C:\\\\Users\\\\ses\\\\OneDrive\", \"PROGRAMFILES(X86)=C:\\\\Program Files (x86)\", \"PROGRAMFILES=C:\\\\Program Files\", \"JPY_PARENT_PID=2268\", \"LOGONSERVER=\\\\\\\\DESKTOP-SES\", \"DRIVERDATA=C:\\\\Windows\\\\System32\\\\Drivers\\\\DriverData\", \"CONDA_PREFIX=C:\\\\Users\\\\ses\\\\.julia\\\\conda\\\\3\", \"FPS_BROWSER_USER_PROFILE_STRING=Default\", \"SYSTEMDRIVE=C:\", \"FPS_BROWSER_APP_PROFILE_STRING=Internet Explorer\", \"NVCUDASAMPLES_ROOT=C:\\\\ProgramData\\\\NVIDIA Corporation\\\\CUDA Samples\\\\v10.1\", \"PROCESSOR_ARCHITECTURE=AMD64\", \"OPENBLAS_MAIN_FREE=1\"]), ProcessExited(1)) [1]",
      "",
      "Stacktrace:",
      " [1] error(::String, ::Base.Process, ::String, ::Int64, ::String) at .\\error.jl:42",
      " [2] pipeline_error at .\\process.jl:785 [inlined]",
      " [3] #run#515(::Bool, ::Function, ::Cmd) at .\\process.jl:726",
      " [4] run at .\\process.jl:724 [inlined]",
      " [5] runconda(::Cmd, ::String) at C:\\Users\\ses\\.julia\\packages\\Conda\\CpuvI\\src\\Conda.jl:113",
      " [6] add at C:\\Users\\ses\\.julia\\packages\\Conda\\CpuvI\\src\\Conda.jl:183 [inlined] (repeats 2 times)",
      " [7] top-level scope at In[14]:2"
     ]
    }
   ],
   "source": [
    "using Conda\n",
    "Conda.add(\"process_latex\")\n",
    "# pyimport_conda(\"process_latex\", PKG)\n",
    "latex = pyimport(\"process_latex\")"
   ]
  },
  {
   "cell_type": "code",
   "execution_count": null,
   "metadata": {},
   "outputs": [],
   "source": []
  }
 ],
 "metadata": {
  "kernelspec": {
   "display_name": "Julia 1.1.1",
   "language": "julia",
   "name": "julia-1.1"
  },
  "language_info": {
   "file_extension": ".jl",
   "mimetype": "application/julia",
   "name": "julia",
   "version": "1.1.1"
  }
 },
 "nbformat": 4,
 "nbformat_minor": 2
}
