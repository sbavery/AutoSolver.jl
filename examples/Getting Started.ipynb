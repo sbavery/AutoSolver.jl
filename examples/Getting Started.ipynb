{
 "cells": [
  {
   "cell_type": "code",
   "execution_count": 2,
   "metadata": {},
   "outputs": [
    {
     "name": "stderr",
     "output_type": "stream",
     "text": [
      "┌ Info: Recompiling stale cache file C:\\Users\\ses\\.julia\\compiled\\v1.1\\AstroSciKit\\9pSyg.ji for AstroSciKit [96e4db18-3dae-59ba-8e19-8c4694ac951b]\n",
      "└ @ Base loading.jl:1184\n"
     ]
    }
   ],
   "source": [
    "using AstroSciKit"
   ]
  },
  {
   "cell_type": "code",
   "execution_count": 8,
   "metadata": {},
   "outputs": [
    {
     "data": {
      "text/plain": [
       "50-element Array{Any,1}:\n",
       "  1.0               \n",
       "  1.9               \n",
       "  2.765756899427834 \n",
       "  3.6099999999999994\n",
       "  4.438598045728467 \n",
       "  5.254938108912884 \n",
       "  6.061223434511372 \n",
       "  6.858999999999998 \n",
       "  7.649411226732667 \n",
       "  7.0468804951234585\n",
       "  7.640077702230709 \n",
       "  8.22512218695596  \n",
       "  8.802793555509863 \n",
       "  ⋮                 \n",
       " 22.34692980883245  \n",
       " 22.831892804200002 \n",
       " 23.31501619399473  \n",
       " 23.79635158143121  \n",
       " 24.275947929702443 \n",
       " 24.753851755227494 \n",
       " 25.23010730268723  \n",
       " 25.704756703930677 \n",
       " 26.177840122556397 \n",
       " 26.649395885737313 \n",
       " 27.119460604656602 \n",
       " 19.981154198139453 "
      ]
     },
     "execution_count": 8,
     "metadata": {},
     "output_type": "execute_result"
    }
   ],
   "source": [
    "l = []\n",
    "\n",
    "for i in 1:50\n",
    "    push!(l,learningCurve(i))\n",
    "end\n",
    "\n",
    "l"
   ]
  },
  {
   "cell_type": "code",
   "execution_count": null,
   "metadata": {},
   "outputs": [],
   "source": []
  }
 ],
 "metadata": {
  "kernelspec": {
   "display_name": "Julia 1.1.1",
   "language": "julia",
   "name": "julia-1.1"
  },
  "language_info": {
   "file_extension": ".jl",
   "mimetype": "application/julia",
   "name": "julia",
   "version": "1.1.1"
  }
 },
 "nbformat": 4,
 "nbformat_minor": 2
}
