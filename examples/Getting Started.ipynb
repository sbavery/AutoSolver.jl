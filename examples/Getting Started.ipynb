{
 "cells": [
  {
   "cell_type": "code",
   "execution_count": 7,
   "metadata": {
    "scrolled": false
   },
   "outputs": [
    {
     "name": "stdout",
     "output_type": "stream",
     "text": [
      "\u001b[32m\u001b[1m  Updating\u001b[22m\u001b[39m registry at `C:\\Users\\ses\\.julia\\registries\\General`\n"
     ]
    },
    {
     "name": "stderr",
     "output_type": "stream",
     "text": [
      "┌ Warning: Some registries failed to update:\n",
      "│     — `C:\\Users\\ses\\.julia\\registries\\General` — registry dirty\n",
      "└ @ Pkg.Types C:\\cygwin\\home\\Administrator\\buildbot\\worker\\package_win64\\build\\usr\\share\\julia\\stdlib\\v1.1\\Pkg\\src\\Types.jl:1269\n"
     ]
    },
    {
     "name": "stdout",
     "output_type": "stream",
     "text": [
      "\u001b[32m\u001b[1m Resolving\u001b[22m\u001b[39m package versions...\n",
      "\u001b[32m\u001b[1m  Updating\u001b[22m\u001b[39m `C:\\Users\\ses\\.julia\\environments\\v1.1\\Project.toml`\n",
      "\u001b[90m [no changes]\u001b[39m\n",
      "\u001b[32m\u001b[1m  Updating\u001b[22m\u001b[39m `C:\\Users\\ses\\.julia\\environments\\v1.1\\Manifest.toml`\n",
      "\u001b[90m [no changes]\u001b[39m\n"
     ]
    }
   ],
   "source": [
    "using Pkg\n",
    "Pkg.update(\"AstroSciKit\")"
   ]
  },
  {
   "cell_type": "code",
   "execution_count": 8,
   "metadata": {},
   "outputs": [],
   "source": [
    "using AstroSciKit"
   ]
  },
  {
   "cell_type": "code",
   "execution_count": 9,
   "metadata": {
    "scrolled": true
   },
   "outputs": [
    {
     "name": "stdout",
     "output_type": "stream",
     "text": [
      "Running tests:\n",
      "Testing Shadow\n",
      "\u001b[91m\u001b[1mError During Test\u001b[22m\u001b[39m at \u001b[39m\u001b[1mC:\\Users\\ses\\Documents\\GitHub\\AstroSciKit.jl\\test\\runtests.jl:68\u001b[22m\n",
      "  Test threw exception\n",
      "  Expression: 0.0 < shadow(rSun, [R⨁ * 1.5, 0, R⨁]) < 1.0\n",
      "  MethodError: no method matching +(::Float64, ::Array{Float64,1})\n",
      "  Closest candidates are:\n",
      "    +(::Any, ::Any, !Matched::Any, !Matched::Any...) at operators.jl:502\n",
      "    +(::Float64, !Matched::Float64) at float.jl:395\n",
      "    +(!Matched::PyCall.PyObject, ::Any) at C:\\Users\\ses\\.julia\\packages\\PyCall\\ttONZ\\src\\pyoperators.jl:13\n",
      "    ...\n",
      "  Stacktrace:\n",
      "   [1] circleOverlapArea(::Float64, ::Float64, ::Float64) at C:\\Users\\ses\\.julia\\dev\\AstroSciKit\\src\\geometry.jl:347\n",
      "   [2] #shadow#104(::Array{Float64,1}, ::Float64, ::Float64, ::Function, ::Array{Float64,1}, ::Array{Float64,1}) at C:\\Users\\ses\\.julia\\dev\\AstroSciKit\\src\\geometry.jl:405\n",
      "   [3] shadow(::Array{Float64,1}, ::Array{Float64,1}) at C:\\Users\\ses\\.julia\\dev\\AstroSciKit\\src\\geometry.jl:393\n",
      "   [4] top-level scope at none:0\n",
      "   [5] include at .\\boot.jl:326 [inlined]\n",
      "   [6] include_relative(::Module, ::String) at .\\loading.jl:1038\n",
      "   [7] include(::Module, ::String) at .\\sysimg.jl:29\n",
      "   [8] include(::String) at .\\client.jl:403\n",
      "   [9] top-level scope at In[9]:1\n",
      "   [10] eval at .\\boot.jl:328 [inlined]\n",
      "   [11] softscope_include_string(::Module, ::String, ::String) at C:\\Users\\ses\\.julia\\packages\\SoftGlobalScope\\cSbw5\\src\\SoftGlobalScope.jl:218\n",
      "   [12] execute_request(::ZMQ.Socket, ::IJulia.Msg) at C:\\Users\\ses\\.julia\\packages\\IJulia\\gI2uA\\src\\execute_request.jl:67\n",
      "   [13] #invokelatest#1 at .\\essentials.jl:742 [inlined]\n",
      "   [14] invokelatest at .\\essentials.jl:741 [inlined]\n",
      "   [15] eventloop(::ZMQ.Socket) at C:\\Users\\ses\\.julia\\packages\\IJulia\\gI2uA\\src\\eventloop.jl:8\n",
      "   [16] (::getfield(IJulia, Symbol(\"##15#18\")))() at .\\task.jl:259\n"
     ]
    },
    {
     "ename": "LoadError",
     "evalue": "There was an error during testing",
     "output_type": "error",
     "traceback": [
      "There was an error during testing",
      "",
      "Stacktrace:",
      " [1] record(::Test.FallbackTestSet, ::Test.Error) at C:\\cygwin\\home\\Administrator\\buildbot\\worker\\package_win64\\build\\usr\\share\\julia\\stdlib\\v1.1\\Test\\src\\Test.jl:707",
      " [2] do_test(::Test.Threw, ::Expr) at C:\\cygwin\\home\\Administrator\\buildbot\\worker\\package_win64\\build\\usr\\share\\julia\\stdlib\\v1.1\\Test\\src\\Test.jl:496",
      " [3] top-level scope at none:0",
      " [4] include at .\\boot.jl:326 [inlined]",
      " [5] include_relative(::Module, ::String) at .\\loading.jl:1038",
      " [6] include(::Module, ::String) at .\\sysimg.jl:29",
      " [7] include(::String) at .\\client.jl:403",
      " [8] top-level scope at In[9]:1"
     ]
    }
   ],
   "source": [
    "include(\"../test/runtests.jl\")"
   ]
  },
  {
   "cell_type": "code",
   "execution_count": 10,
   "metadata": {
    "scrolled": true
   },
   "outputs": [
    {
     "name": "stdout",
     "output_type": "stream",
     "text": [
      "Running tests:\n",
      "Testing Shadow\n",
      "\u001b[91m\u001b[1mError During Test\u001b[22m\u001b[39m at \u001b[39m\u001b[1mIn[10]:24\u001b[22m\n",
      "  Test threw exception\n",
      "  Expression: 0.0 < shadow(rSun, [R⨁ * 1.5, 0, 6390]) < 1.0\n",
      "  MethodError: no method matching +(::Float64, ::Array{Float64,1})\n",
      "  Closest candidates are:\n",
      "    +(::Any, ::Any, !Matched::Any, !Matched::Any...) at operators.jl:502\n",
      "    +(::Float64, !Matched::Float64) at float.jl:395\n",
      "    +(!Matched::PyCall.PyObject, ::Any) at C:\\Users\\ses\\.julia\\packages\\PyCall\\ttONZ\\src\\pyoperators.jl:13\n",
      "    ...\n",
      "  Stacktrace:\n",
      "   [1] circleOverlapArea(::Float64, ::Float64, ::Float64) at C:\\Users\\ses\\.julia\\dev\\AstroSciKit\\src\\geometry.jl:347\n",
      "   [2] #shadow#104(::Array{Float64,1}, ::Float64, ::Float64, ::Function, ::Array{Float64,1}, ::Array{Float64,1}) at C:\\Users\\ses\\.julia\\dev\\AstroSciKit\\src\\geometry.jl:405\n",
      "   [3] shadow(::Array{Float64,1}, ::Array{Float64,1}) at C:\\Users\\ses\\.julia\\dev\\AstroSciKit\\src\\geometry.jl:393\n",
      "   [4] top-level scope at In[10]:24\n",
      "   [5] eval at .\\boot.jl:328 [inlined]\n",
      "   [6] softscope_include_string(::Module, ::String, ::String) at C:\\Users\\ses\\.julia\\packages\\SoftGlobalScope\\cSbw5\\src\\SoftGlobalScope.jl:218\n",
      "   [7] execute_request(::ZMQ.Socket, ::IJulia.Msg) at C:\\Users\\ses\\.julia\\packages\\IJulia\\gI2uA\\src\\execute_request.jl:67\n",
      "   [8] #invokelatest#1 at .\\essentials.jl:742 [inlined]\n",
      "   [9] invokelatest at .\\essentials.jl:741 [inlined]\n",
      "   [10] eventloop(::ZMQ.Socket) at C:\\Users\\ses\\.julia\\packages\\IJulia\\gI2uA\\src\\eventloop.jl:8\n",
      "   [11] (::getfield(IJulia, Symbol(\"##15#18\")))() at .\\task.jl:259\n"
     ]
    },
    {
     "ename": "Test.FallbackTestSetException",
     "evalue": "There was an error during testing",
     "output_type": "error",
     "traceback": [
      "There was an error during testing",
      "",
      "Stacktrace:",
      " [1] record(::Test.FallbackTestSet, ::Test.Error) at C:\\cygwin\\home\\Administrator\\buildbot\\worker\\package_win64\\build\\usr\\share\\julia\\stdlib\\v1.1\\Test\\src\\Test.jl:707",
      " [2] do_test(::Test.Threw, ::Expr) at C:\\cygwin\\home\\Administrator\\buildbot\\worker\\package_win64\\build\\usr\\share\\julia\\stdlib\\v1.1\\Test\\src\\Test.jl:496",
      " [3] top-level scope at In[10]:24"
     ]
    }
   ],
   "source": [
    "using AstroSciKit, Test, Dates\n",
    "\n",
    "println(\"Running tests:\")\n",
    "\n",
    "include(\"../test/test_geometry.jl\")\n",
    "\n",
    "\n",
    "println(\"Testing Shadow\")\n",
    "# solns = [\"umbra\", \"penumbra\", \"penumbra\", \"none\", \"none\", \"penumbra\"]\n",
    "rSun  = [-km_in_AU, 0, 0]\n",
    "\n",
    "# rSats = ([R⨁*1.5, 0, 0],\n",
    "# \t\t [R⨁*1.5, 0, R⨁],\n",
    "# \t\t [R⨁*1.5, R⨁, 0],\n",
    "# \t\t [0, R⨁*1.5, 0],\n",
    "# \t\t [-R⨁*1.5, 0, 0],\n",
    "# \t\t [1.001*km_in_AU*R⨁/(R☉ - R⨁), 0, 0])\n",
    "\n",
    "# for i = 1:length(solns)\n",
    "# \t@test shadow(rSun, rSats[i]) == solns[i]\n",
    "# end\n",
    "\n",
    "@test shadow(rSun, [R⨁*1.5, 0, 0])  == 0.0\n",
    "@test 0.0 < shadow(rSun, [R⨁*1.5, 0, 6390]) < 1.0\n",
    "# @test 0.0 < shadow(rSun, [R⨁*1.5, R⨁, 0]) < 1.0\n",
    "# @test shadow(rSun, [0, R⨁*1.5, 0])  == 1.0\n",
    "# @test shadow(rSun, [-R⨁*1.5, 0, 0]) == 1.0\n",
    "# @test 0.0 < shadow(rSun, [1.001*km_in_AU*R⨁/(R☉ - R⨁), 0, 0]) < 1.0"
   ]
  },
  {
   "cell_type": "code",
   "execution_count": 35,
   "metadata": {},
   "outputs": [
    {
     "ename": "MethodError",
     "evalue": "MethodError: no method matching +(::Float64, ::Array{Float64,1})\nClosest candidates are:\n  +(::Any, ::Any, !Matched::Any, !Matched::Any...) at operators.jl:502\n  +(::Float64, !Matched::Float64) at float.jl:395\n  +(!Matched::PyCall.PyObject, ::Any) at C:\\Users\\ses\\.julia\\packages\\PyCall\\ttONZ\\src\\pyoperators.jl:13\n  ...",
     "output_type": "error",
     "traceback": [
      "MethodError: no method matching +(::Float64, ::Array{Float64,1})\nClosest candidates are:\n  +(::Any, ::Any, !Matched::Any, !Matched::Any...) at operators.jl:502\n  +(::Float64, !Matched::Float64) at float.jl:395\n  +(!Matched::PyCall.PyObject, ::Any) at C:\\Users\\ses\\.julia\\packages\\PyCall\\ttONZ\\src\\pyoperators.jl:13\n  ...",
      "",
      "Stacktrace:",
      " [1] circleOverlapArea(::Float64, ::Float64, ::Float64) at C:\\Users\\ses\\.julia\\dev\\AstroSciKit\\src\\geometry.jl:347",
      " [2] #shadow#104(::Array{Float64,1}, ::Float64, ::Float64, ::Function, ::Array{Float64,1}, ::Array{Float64,1}) at C:\\Users\\ses\\.julia\\dev\\AstroSciKit\\src\\geometry.jl:405",
      " [3] shadow(::Array{Float64,1}, ::Array{Float64,1}) at C:\\Users\\ses\\.julia\\dev\\AstroSciKit\\src\\geometry.jl:393",
      " [4] top-level scope at In[35]:1"
     ]
    }
   ],
   "source": [
    "shadow(rSun, [R⨁*1.5, 0, 6340])"
   ]
  },
  {
   "cell_type": "code",
   "execution_count": null,
   "metadata": {},
   "outputs": [],
   "source": []
  }
 ],
 "metadata": {
  "kernelspec": {
   "display_name": "Julia 1.1.1",
   "language": "julia",
   "name": "julia-1.1"
  },
  "language_info": {
   "file_extension": ".jl",
   "mimetype": "application/julia",
   "name": "julia",
   "version": "1.1.1"
  }
 },
 "nbformat": 4,
 "nbformat_minor": 2
}
