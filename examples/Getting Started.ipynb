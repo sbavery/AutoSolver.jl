{
 "cells": [
  {
   "cell_type": "code",
   "execution_count": null,
   "metadata": {},
   "outputs": [],
   "source": [
    "using Unitful\n",
    "include(\"../src/AutoSolver.jl\")"
   ]
  },
  {
   "cell_type": "code",
   "execution_count": null,
   "metadata": {},
   "outputs": [],
   "source": [
    "# include(\"../../AstroKit.jl/src/AstroKit.jl\")\n",
    "include(\"../../SciBase.jl/src/SciBase.jl\")"
   ]
  },
  {
   "cell_type": "code",
   "execution_count": null,
   "metadata": {},
   "outputs": [],
   "source": [
    "# module constants\n",
    "#     using Unitful\n",
    "#     gEarth = 9.80665u\"m/s^2\"\n",
    "#     GEarth = (6.67408*10^(-11))u\"N*m^2/kg^2\"\n",
    "#     k = (8.9875517887*10^9)u\"N*m^2/C^2\"\n",
    "#     c = 299792458u\"m/s\"\n",
    "#     e = (1.60217662*10^(-19))u\"C\"\n",
    "#     h = (6.62607004*10^(-34))u\"-34\"\n",
    "#     eps0 = (8.85418782*10^(-12))u\"m^(-3)*kg^(-1)*s^(4)*A^(2)\"\n",
    "#     mu0 = (1.25663706*10^(-6))u\"m*kg*s^-2*A^-2\"\n",
    "#     mEarth = (5.972*10^24)u\"kg\"\n",
    "#     rEarth = 6378.1u\"km\"\n",
    "#     mSun = (1.989*10^30)u\"kg\"\n",
    "#     export\n",
    "#         gEarth,\n",
    "#         GEarth,\n",
    "#         k,\n",
    "#         c,\n",
    "#         e,\n",
    "#         h,\n",
    "#         eps0,\n",
    "#         mu0,\n",
    "#         mEarth,\n",
    "#         rEarth,\n",
    "#         mSun\n",
    "# end\n",
    "\n",
    "# module physics\n",
    "#     module kinematics\n",
    "#         module oneD\n",
    "#             # Displacement\n",
    "#             disp(x0,x) = x-x0\n",
    "#             dispConstAcc1(v0,a,t) = v0*t+1/2*a*t^2\n",
    "#             dispConstAcc2(v0,v,t) = ((v+v0)/2)*t\n",
    "#             # Velocity\n",
    "#             avgVel(x0,x,t0,t) = (x-x0)/(t-t0)\n",
    "#             velConstAcc1(v0,a,t) = v0+a*t\n",
    "#             velConstAcc2(x0,x,v0,a) = sqrt(v0^2+2*a*(x-x0))\n",
    "#             # Acceleration\n",
    "#             accConst(x0,x,v0,v) = (v^2-v0^2)/(2*(x-x0))\n",
    "#         end\n",
    "#         module projectile\n",
    "#             using ....constants\n",
    "#             range(v0,th0) = v0^2/gEarth*sin(2*th0)\n",
    "#             maxHeight(v0,th0) = v0^2/(2*gEarth)*sin(th0)^2\n",
    "#         end\n",
    "#     end\n",
    "# end"
   ]
  },
  {
   "cell_type": "code",
   "execution_count": null,
   "metadata": {},
   "outputs": [],
   "source": [
    "# Displacement\n",
    "disp(x0,x) = x-x0\n",
    "dispConstAcc1(v0,a,t) = v0*t+1/2*a*t^2\n",
    "dispConstAcc2(v0,v,t) = ((v+v0)/2)*t\n",
    "# Velocity\n",
    "avgVel(x0,x,t0,t) = (x-x0)/(t-t0)\n",
    "velConstAcc1(v0,a,t) = v0+a*t\n",
    "velConstAcc2(x0,x,v0,a) = sqrt(v0^2+2*a*(x-x0))\n",
    "# Acceleration\n",
    "accConst(x0,x,v0,v) = (v^2-v0^2)/(2*(x-x0))"
   ]
  },
  {
   "cell_type": "code",
   "execution_count": null,
   "metadata": {},
   "outputs": [],
   "source": [
    "physics.kinematics.maxHeight(1u\"m/s\",2u\"rad\")"
   ]
  },
  {
   "cell_type": "code",
   "execution_count": null,
   "metadata": {},
   "outputs": [],
   "source": [
    "# ve = 10u\"km/s\"\n",
    "# mi = 200u\"kg\"\n",
    "# mf = 80u\"kg\"\n",
    "# f = 2.4u\"GHz\"\n",
    "x0 = 1.0u\"m\"\n",
    "x = 2.0u\"m\"\n",
    "v0 = 1.0u\"m/s\"\n",
    "v = 2.0u\"m/s\"\n",
    "\n",
    "# mods = Module[]\n",
    "# AutoSolver.submodules(physics, mods)\n",
    "# mods = [Main]\n",
    "mods = [AstroKit]\n",
    "\n",
    "AutoSolver.autoSolveOutputs(mods)\n"
   ]
  },
  {
   "cell_type": "code",
   "execution_count": null,
   "metadata": {},
   "outputs": [],
   "source": []
  }
 ],
 "metadata": {
  "kernelspec": {
   "display_name": "Julia 1.1.0",
   "language": "julia",
   "name": "julia-1.1"
  },
  "language_info": {
   "file_extension": ".jl",
   "mimetype": "application/julia",
   "name": "julia",
   "version": "1.1.0"
  }
 },
 "nbformat": 4,
 "nbformat_minor": 2
}
