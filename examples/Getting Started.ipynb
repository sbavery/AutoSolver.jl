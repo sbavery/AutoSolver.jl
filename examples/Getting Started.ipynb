{
 "cells": [
  {
   "cell_type": "code",
   "execution_count": 1,
   "metadata": {},
   "outputs": [
    {
     "ename": "ArgumentError",
     "evalue": "ArgumentError: Package AstroSciKit not found in current path:\n- Run `import Pkg; Pkg.add(\"AstroSciKit\")` to install the AstroSciKit package.\n",
     "output_type": "error",
     "traceback": [
      "ArgumentError: Package AstroSciKit not found in current path:\n- Run `import Pkg; Pkg.add(\"AstroSciKit\")` to install the AstroSciKit package.\n",
      "",
      "Stacktrace:",
      " [1] require(::Module, ::Symbol) at .\\loading.jl:823",
      " [2] top-level scope at In[1]:1"
     ]
    }
   ],
   "source": [
    "using AstroSciKit"
   ]
  },
  {
   "cell_type": "code",
   "execution_count": null,
   "metadata": {},
   "outputs": [],
   "source": []
  }
 ],
 "metadata": {
  "kernelspec": {
   "display_name": "Julia 1.1.1",
   "language": "julia",
   "name": "julia-1.1"
  },
  "language_info": {
   "file_extension": ".jl",
   "mimetype": "application/julia",
   "name": "julia",
   "version": "1.1.1"
  }
 },
 "nbformat": 4,
 "nbformat_minor": 2
}
